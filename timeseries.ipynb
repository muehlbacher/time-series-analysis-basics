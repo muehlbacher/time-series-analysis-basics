{
  "nbformat": 4,
  "nbformat_minor": 0,
  "metadata": {
    "colab": {
      "provenance": [],
      "collapsed_sections": [],
      "machine_shape": "hm",
      "authorship_tag": "ABX9TyNLfUq5cH66SEXnNcZqexIc",
      "include_colab_link": true
    },
    "kernelspec": {
      "name": "python3",
      "display_name": "Python 3"
    },
    "language_info": {
      "name": "python"
    },
    "accelerator": "GPU",
    "gpuClass": "standard"
  },
  "cells": [
    {
      "cell_type": "markdown",
      "metadata": {
        "id": "view-in-github",
        "colab_type": "text"
      },
      "source": [
        "<a href=\"https://colab.research.google.com/github/muehlbacher/time-series-analysis-basics/blob/main/timeseries.ipynb\" target=\"_parent\"><img src=\"https://colab.research.google.com/assets/colab-badge.svg\" alt=\"Open In Colab\"/></a>"
      ]
    },
    {
      "cell_type": "code",
      "source": [
        "!pip install yfinance"
      ],
      "metadata": {
        "colab": {
          "base_uri": "https://localhost:8080/"
        },
        "id": "KiKfVon7-ibM",
        "outputId": "e382921a-59ed-40d7-e50f-3126e5e9acb3"
      },
      "execution_count": null,
      "outputs": [
        {
          "output_type": "stream",
          "name": "stdout",
          "text": [
            "Looking in indexes: https://pypi.org/simple, https://us-python.pkg.dev/colab-wheels/public/simple/\n",
            "Collecting yfinance\n",
            "  Downloading yfinance-0.1.74-py2.py3-none-any.whl (27 kB)\n",
            "Requirement already satisfied: lxml>=4.5.1 in /usr/local/lib/python3.7/dist-packages (from yfinance) (4.9.1)\n",
            "Requirement already satisfied: pandas>=0.24.0 in /usr/local/lib/python3.7/dist-packages (from yfinance) (1.3.5)\n",
            "Requirement already satisfied: multitasking>=0.0.7 in /usr/local/lib/python3.7/dist-packages (from yfinance) (0.0.11)\n",
            "Requirement already satisfied: numpy>=1.15 in /usr/local/lib/python3.7/dist-packages (from yfinance) (1.21.6)\n",
            "Collecting requests>=2.26\n",
            "  Downloading requests-2.28.1-py3-none-any.whl (62 kB)\n",
            "\u001b[K     |████████████████████████████████| 62 kB 1.6 MB/s \n",
            "\u001b[?25hRequirement already satisfied: pytz>=2017.3 in /usr/local/lib/python3.7/dist-packages (from pandas>=0.24.0->yfinance) (2022.2.1)\n",
            "Requirement already satisfied: python-dateutil>=2.7.3 in /usr/local/lib/python3.7/dist-packages (from pandas>=0.24.0->yfinance) (2.8.2)\n",
            "Requirement already satisfied: six>=1.5 in /usr/local/lib/python3.7/dist-packages (from python-dateutil>=2.7.3->pandas>=0.24.0->yfinance) (1.15.0)\n",
            "Requirement already satisfied: certifi>=2017.4.17 in /usr/local/lib/python3.7/dist-packages (from requests>=2.26->yfinance) (2022.6.15)\n",
            "Requirement already satisfied: charset-normalizer<3,>=2 in /usr/local/lib/python3.7/dist-packages (from requests>=2.26->yfinance) (2.1.1)\n",
            "Requirement already satisfied: urllib3<1.27,>=1.21.1 in /usr/local/lib/python3.7/dist-packages (from requests>=2.26->yfinance) (1.24.3)\n",
            "Requirement already satisfied: idna<4,>=2.5 in /usr/local/lib/python3.7/dist-packages (from requests>=2.26->yfinance) (2.10)\n",
            "Installing collected packages: requests, yfinance\n",
            "  Attempting uninstall: requests\n",
            "    Found existing installation: requests 2.23.0\n",
            "    Uninstalling requests-2.23.0:\n",
            "      Successfully uninstalled requests-2.23.0\n",
            "Successfully installed requests-2.28.1 yfinance-0.1.74\n"
          ]
        }
      ]
    },
    {
      "cell_type": "code",
      "execution_count": null,
      "metadata": {
        "id": "fEMK2m5d-eNU"
      },
      "outputs": [],
      "source": [
        "import numpy as np\n",
        "import yfinance as yf\n",
        "import matplotlib.pyplot as plt\n",
        "import tensorflow as tf\n",
        "import tensorflow.compat.v1 as tf1\n",
        "import math\n",
        "from scipy.stats import pearsonr, spearmanr"
      ]
    },
    {
      "cell_type": "code",
      "source": [
        "df = yf.download('^GSPC','1990-01-01','2020-01-01')"
      ],
      "metadata": {
        "colab": {
          "base_uri": "https://localhost:8080/"
        },
        "id": "OU-Zu0nc-h6B",
        "outputId": "0ef658e6-290f-429e-fc11-598cc70d07d1"
      },
      "execution_count": null,
      "outputs": [
        {
          "output_type": "stream",
          "name": "stdout",
          "text": [
            "\r[*********************100%***********************]  1 of 1 completed\n"
          ]
        }
      ]
    },
    {
      "cell_type": "code",
      "source": [
        "df"
      ],
      "metadata": {
        "colab": {
          "base_uri": "https://localhost:8080/",
          "height": 455
        },
        "id": "AV2TIcis-teM",
        "outputId": "687703e5-c75a-4b08-cc8b-12bffb1b13db"
      },
      "execution_count": null,
      "outputs": [
        {
          "output_type": "execute_result",
          "data": {
            "text/plain": [
              "                   Open         High          Low        Close    Adj Close  \\\n",
              "Date                                                                          \n",
              "1990-01-02   353.399994   359.690002   351.980011   359.690002   359.690002   \n",
              "1990-01-03   359.690002   360.589996   357.890015   358.760010   358.760010   \n",
              "1990-01-04   358.760010   358.760010   352.890015   355.670013   355.670013   \n",
              "1990-01-05   355.670013   355.670013   351.350006   352.200012   352.200012   \n",
              "1990-01-08   352.200012   354.239990   350.540009   353.790009   353.790009   \n",
              "...                 ...          ...          ...          ...          ...   \n",
              "2019-12-24  3225.449951  3226.429932  3220.510010  3223.379883  3223.379883   \n",
              "2019-12-26  3227.199951  3240.080078  3227.199951  3239.909912  3239.909912   \n",
              "2019-12-27  3247.229980  3247.929932  3234.370117  3240.020020  3240.020020   \n",
              "2019-12-30  3240.090088  3240.919922  3216.570068  3221.290039  3221.290039   \n",
              "2019-12-31  3215.179932  3231.719971  3212.030029  3230.780029  3230.780029   \n",
              "\n",
              "                Volume  \n",
              "Date                    \n",
              "1990-01-02   162070000  \n",
              "1990-01-03   192330000  \n",
              "1990-01-04   177000000  \n",
              "1990-01-05   158530000  \n",
              "1990-01-08   140110000  \n",
              "...                ...  \n",
              "2019-12-24  1296540000  \n",
              "2019-12-26  2160680000  \n",
              "2019-12-27  2428670000  \n",
              "2019-12-30  3013290000  \n",
              "2019-12-31  2893810000  \n",
              "\n",
              "[7559 rows x 6 columns]"
            ],
            "text/html": [
              "\n",
              "  <div id=\"df-27455b3e-98de-4ea2-8678-021270a49d35\">\n",
              "    <div class=\"colab-df-container\">\n",
              "      <div>\n",
              "<style scoped>\n",
              "    .dataframe tbody tr th:only-of-type {\n",
              "        vertical-align: middle;\n",
              "    }\n",
              "\n",
              "    .dataframe tbody tr th {\n",
              "        vertical-align: top;\n",
              "    }\n",
              "\n",
              "    .dataframe thead th {\n",
              "        text-align: right;\n",
              "    }\n",
              "</style>\n",
              "<table border=\"1\" class=\"dataframe\">\n",
              "  <thead>\n",
              "    <tr style=\"text-align: right;\">\n",
              "      <th></th>\n",
              "      <th>Open</th>\n",
              "      <th>High</th>\n",
              "      <th>Low</th>\n",
              "      <th>Close</th>\n",
              "      <th>Adj Close</th>\n",
              "      <th>Volume</th>\n",
              "    </tr>\n",
              "    <tr>\n",
              "      <th>Date</th>\n",
              "      <th></th>\n",
              "      <th></th>\n",
              "      <th></th>\n",
              "      <th></th>\n",
              "      <th></th>\n",
              "      <th></th>\n",
              "    </tr>\n",
              "  </thead>\n",
              "  <tbody>\n",
              "    <tr>\n",
              "      <th>1990-01-02</th>\n",
              "      <td>353.399994</td>\n",
              "      <td>359.690002</td>\n",
              "      <td>351.980011</td>\n",
              "      <td>359.690002</td>\n",
              "      <td>359.690002</td>\n",
              "      <td>162070000</td>\n",
              "    </tr>\n",
              "    <tr>\n",
              "      <th>1990-01-03</th>\n",
              "      <td>359.690002</td>\n",
              "      <td>360.589996</td>\n",
              "      <td>357.890015</td>\n",
              "      <td>358.760010</td>\n",
              "      <td>358.760010</td>\n",
              "      <td>192330000</td>\n",
              "    </tr>\n",
              "    <tr>\n",
              "      <th>1990-01-04</th>\n",
              "      <td>358.760010</td>\n",
              "      <td>358.760010</td>\n",
              "      <td>352.890015</td>\n",
              "      <td>355.670013</td>\n",
              "      <td>355.670013</td>\n",
              "      <td>177000000</td>\n",
              "    </tr>\n",
              "    <tr>\n",
              "      <th>1990-01-05</th>\n",
              "      <td>355.670013</td>\n",
              "      <td>355.670013</td>\n",
              "      <td>351.350006</td>\n",
              "      <td>352.200012</td>\n",
              "      <td>352.200012</td>\n",
              "      <td>158530000</td>\n",
              "    </tr>\n",
              "    <tr>\n",
              "      <th>1990-01-08</th>\n",
              "      <td>352.200012</td>\n",
              "      <td>354.239990</td>\n",
              "      <td>350.540009</td>\n",
              "      <td>353.790009</td>\n",
              "      <td>353.790009</td>\n",
              "      <td>140110000</td>\n",
              "    </tr>\n",
              "    <tr>\n",
              "      <th>...</th>\n",
              "      <td>...</td>\n",
              "      <td>...</td>\n",
              "      <td>...</td>\n",
              "      <td>...</td>\n",
              "      <td>...</td>\n",
              "      <td>...</td>\n",
              "    </tr>\n",
              "    <tr>\n",
              "      <th>2019-12-24</th>\n",
              "      <td>3225.449951</td>\n",
              "      <td>3226.429932</td>\n",
              "      <td>3220.510010</td>\n",
              "      <td>3223.379883</td>\n",
              "      <td>3223.379883</td>\n",
              "      <td>1296540000</td>\n",
              "    </tr>\n",
              "    <tr>\n",
              "      <th>2019-12-26</th>\n",
              "      <td>3227.199951</td>\n",
              "      <td>3240.080078</td>\n",
              "      <td>3227.199951</td>\n",
              "      <td>3239.909912</td>\n",
              "      <td>3239.909912</td>\n",
              "      <td>2160680000</td>\n",
              "    </tr>\n",
              "    <tr>\n",
              "      <th>2019-12-27</th>\n",
              "      <td>3247.229980</td>\n",
              "      <td>3247.929932</td>\n",
              "      <td>3234.370117</td>\n",
              "      <td>3240.020020</td>\n",
              "      <td>3240.020020</td>\n",
              "      <td>2428670000</td>\n",
              "    </tr>\n",
              "    <tr>\n",
              "      <th>2019-12-30</th>\n",
              "      <td>3240.090088</td>\n",
              "      <td>3240.919922</td>\n",
              "      <td>3216.570068</td>\n",
              "      <td>3221.290039</td>\n",
              "      <td>3221.290039</td>\n",
              "      <td>3013290000</td>\n",
              "    </tr>\n",
              "    <tr>\n",
              "      <th>2019-12-31</th>\n",
              "      <td>3215.179932</td>\n",
              "      <td>3231.719971</td>\n",
              "      <td>3212.030029</td>\n",
              "      <td>3230.780029</td>\n",
              "      <td>3230.780029</td>\n",
              "      <td>2893810000</td>\n",
              "    </tr>\n",
              "  </tbody>\n",
              "</table>\n",
              "<p>7559 rows × 6 columns</p>\n",
              "</div>\n",
              "      <button class=\"colab-df-convert\" onclick=\"convertToInteractive('df-27455b3e-98de-4ea2-8678-021270a49d35')\"\n",
              "              title=\"Convert this dataframe to an interactive table.\"\n",
              "              style=\"display:none;\">\n",
              "        \n",
              "  <svg xmlns=\"http://www.w3.org/2000/svg\" height=\"24px\"viewBox=\"0 0 24 24\"\n",
              "       width=\"24px\">\n",
              "    <path d=\"M0 0h24v24H0V0z\" fill=\"none\"/>\n",
              "    <path d=\"M18.56 5.44l.94 2.06.94-2.06 2.06-.94-2.06-.94-.94-2.06-.94 2.06-2.06.94zm-11 1L8.5 8.5l.94-2.06 2.06-.94-2.06-.94L8.5 2.5l-.94 2.06-2.06.94zm10 10l.94 2.06.94-2.06 2.06-.94-2.06-.94-.94-2.06-.94 2.06-2.06.94z\"/><path d=\"M17.41 7.96l-1.37-1.37c-.4-.4-.92-.59-1.43-.59-.52 0-1.04.2-1.43.59L10.3 9.45l-7.72 7.72c-.78.78-.78 2.05 0 2.83L4 21.41c.39.39.9.59 1.41.59.51 0 1.02-.2 1.41-.59l7.78-7.78 2.81-2.81c.8-.78.8-2.07 0-2.86zM5.41 20L4 18.59l7.72-7.72 1.47 1.35L5.41 20z\"/>\n",
              "  </svg>\n",
              "      </button>\n",
              "      \n",
              "  <style>\n",
              "    .colab-df-container {\n",
              "      display:flex;\n",
              "      flex-wrap:wrap;\n",
              "      gap: 12px;\n",
              "    }\n",
              "\n",
              "    .colab-df-convert {\n",
              "      background-color: #E8F0FE;\n",
              "      border: none;\n",
              "      border-radius: 50%;\n",
              "      cursor: pointer;\n",
              "      display: none;\n",
              "      fill: #1967D2;\n",
              "      height: 32px;\n",
              "      padding: 0 0 0 0;\n",
              "      width: 32px;\n",
              "    }\n",
              "\n",
              "    .colab-df-convert:hover {\n",
              "      background-color: #E2EBFA;\n",
              "      box-shadow: 0px 1px 2px rgba(60, 64, 67, 0.3), 0px 1px 3px 1px rgba(60, 64, 67, 0.15);\n",
              "      fill: #174EA6;\n",
              "    }\n",
              "\n",
              "    [theme=dark] .colab-df-convert {\n",
              "      background-color: #3B4455;\n",
              "      fill: #D2E3FC;\n",
              "    }\n",
              "\n",
              "    [theme=dark] .colab-df-convert:hover {\n",
              "      background-color: #434B5C;\n",
              "      box-shadow: 0px 1px 3px 1px rgba(0, 0, 0, 0.15);\n",
              "      filter: drop-shadow(0px 1px 2px rgba(0, 0, 0, 0.3));\n",
              "      fill: #FFFFFF;\n",
              "    }\n",
              "  </style>\n",
              "\n",
              "      <script>\n",
              "        const buttonEl =\n",
              "          document.querySelector('#df-27455b3e-98de-4ea2-8678-021270a49d35 button.colab-df-convert');\n",
              "        buttonEl.style.display =\n",
              "          google.colab.kernel.accessAllowed ? 'block' : 'none';\n",
              "\n",
              "        async function convertToInteractive(key) {\n",
              "          const element = document.querySelector('#df-27455b3e-98de-4ea2-8678-021270a49d35');\n",
              "          const dataTable =\n",
              "            await google.colab.kernel.invokeFunction('convertToInteractive',\n",
              "                                                     [key], {});\n",
              "          if (!dataTable) return;\n",
              "\n",
              "          const docLinkHtml = 'Like what you see? Visit the ' +\n",
              "            '<a target=\"_blank\" href=https://colab.research.google.com/notebooks/data_table.ipynb>data table notebook</a>'\n",
              "            + ' to learn more about interactive tables.';\n",
              "          element.innerHTML = '';\n",
              "          dataTable['output_type'] = 'display_data';\n",
              "          await google.colab.output.renderOutput(dataTable, element);\n",
              "          const docLink = document.createElement('div');\n",
              "          docLink.innerHTML = docLinkHtml;\n",
              "          element.appendChild(docLink);\n",
              "        }\n",
              "      </script>\n",
              "    </div>\n",
              "  </div>\n",
              "  "
            ]
          },
          "metadata": {},
          "execution_count": 4
        }
      ]
    },
    {
      "cell_type": "code",
      "source": [
        "df.tail()"
      ],
      "metadata": {
        "colab": {
          "base_uri": "https://localhost:8080/",
          "height": 238
        },
        "id": "WA6En3IN-wKz",
        "outputId": "156b4cc0-965a-4617-f352-18148db395e7"
      },
      "execution_count": null,
      "outputs": [
        {
          "output_type": "execute_result",
          "data": {
            "text/plain": [
              "                   Open         High          Low        Close    Adj Close  \\\n",
              "Date                                                                          \n",
              "2019-12-24  3225.449951  3226.429932  3220.510010  3223.379883  3223.379883   \n",
              "2019-12-26  3227.199951  3240.080078  3227.199951  3239.909912  3239.909912   \n",
              "2019-12-27  3247.229980  3247.929932  3234.370117  3240.020020  3240.020020   \n",
              "2019-12-30  3240.090088  3240.919922  3216.570068  3221.290039  3221.290039   \n",
              "2019-12-31  3215.179932  3231.719971  3212.030029  3230.780029  3230.780029   \n",
              "\n",
              "                Volume  \n",
              "Date                    \n",
              "2019-12-24  1296540000  \n",
              "2019-12-26  2160680000  \n",
              "2019-12-27  2428670000  \n",
              "2019-12-30  3013290000  \n",
              "2019-12-31  2893810000  "
            ],
            "text/html": [
              "\n",
              "  <div id=\"df-73a00bda-55aa-47c0-86cc-322b30cacbbf\">\n",
              "    <div class=\"colab-df-container\">\n",
              "      <div>\n",
              "<style scoped>\n",
              "    .dataframe tbody tr th:only-of-type {\n",
              "        vertical-align: middle;\n",
              "    }\n",
              "\n",
              "    .dataframe tbody tr th {\n",
              "        vertical-align: top;\n",
              "    }\n",
              "\n",
              "    .dataframe thead th {\n",
              "        text-align: right;\n",
              "    }\n",
              "</style>\n",
              "<table border=\"1\" class=\"dataframe\">\n",
              "  <thead>\n",
              "    <tr style=\"text-align: right;\">\n",
              "      <th></th>\n",
              "      <th>Open</th>\n",
              "      <th>High</th>\n",
              "      <th>Low</th>\n",
              "      <th>Close</th>\n",
              "      <th>Adj Close</th>\n",
              "      <th>Volume</th>\n",
              "    </tr>\n",
              "    <tr>\n",
              "      <th>Date</th>\n",
              "      <th></th>\n",
              "      <th></th>\n",
              "      <th></th>\n",
              "      <th></th>\n",
              "      <th></th>\n",
              "      <th></th>\n",
              "    </tr>\n",
              "  </thead>\n",
              "  <tbody>\n",
              "    <tr>\n",
              "      <th>2019-12-24</th>\n",
              "      <td>3225.449951</td>\n",
              "      <td>3226.429932</td>\n",
              "      <td>3220.510010</td>\n",
              "      <td>3223.379883</td>\n",
              "      <td>3223.379883</td>\n",
              "      <td>1296540000</td>\n",
              "    </tr>\n",
              "    <tr>\n",
              "      <th>2019-12-26</th>\n",
              "      <td>3227.199951</td>\n",
              "      <td>3240.080078</td>\n",
              "      <td>3227.199951</td>\n",
              "      <td>3239.909912</td>\n",
              "      <td>3239.909912</td>\n",
              "      <td>2160680000</td>\n",
              "    </tr>\n",
              "    <tr>\n",
              "      <th>2019-12-27</th>\n",
              "      <td>3247.229980</td>\n",
              "      <td>3247.929932</td>\n",
              "      <td>3234.370117</td>\n",
              "      <td>3240.020020</td>\n",
              "      <td>3240.020020</td>\n",
              "      <td>2428670000</td>\n",
              "    </tr>\n",
              "    <tr>\n",
              "      <th>2019-12-30</th>\n",
              "      <td>3240.090088</td>\n",
              "      <td>3240.919922</td>\n",
              "      <td>3216.570068</td>\n",
              "      <td>3221.290039</td>\n",
              "      <td>3221.290039</td>\n",
              "      <td>3013290000</td>\n",
              "    </tr>\n",
              "    <tr>\n",
              "      <th>2019-12-31</th>\n",
              "      <td>3215.179932</td>\n",
              "      <td>3231.719971</td>\n",
              "      <td>3212.030029</td>\n",
              "      <td>3230.780029</td>\n",
              "      <td>3230.780029</td>\n",
              "      <td>2893810000</td>\n",
              "    </tr>\n",
              "  </tbody>\n",
              "</table>\n",
              "</div>\n",
              "      <button class=\"colab-df-convert\" onclick=\"convertToInteractive('df-73a00bda-55aa-47c0-86cc-322b30cacbbf')\"\n",
              "              title=\"Convert this dataframe to an interactive table.\"\n",
              "              style=\"display:none;\">\n",
              "        \n",
              "  <svg xmlns=\"http://www.w3.org/2000/svg\" height=\"24px\"viewBox=\"0 0 24 24\"\n",
              "       width=\"24px\">\n",
              "    <path d=\"M0 0h24v24H0V0z\" fill=\"none\"/>\n",
              "    <path d=\"M18.56 5.44l.94 2.06.94-2.06 2.06-.94-2.06-.94-.94-2.06-.94 2.06-2.06.94zm-11 1L8.5 8.5l.94-2.06 2.06-.94-2.06-.94L8.5 2.5l-.94 2.06-2.06.94zm10 10l.94 2.06.94-2.06 2.06-.94-2.06-.94-.94-2.06-.94 2.06-2.06.94z\"/><path d=\"M17.41 7.96l-1.37-1.37c-.4-.4-.92-.59-1.43-.59-.52 0-1.04.2-1.43.59L10.3 9.45l-7.72 7.72c-.78.78-.78 2.05 0 2.83L4 21.41c.39.39.9.59 1.41.59.51 0 1.02-.2 1.41-.59l7.78-7.78 2.81-2.81c.8-.78.8-2.07 0-2.86zM5.41 20L4 18.59l7.72-7.72 1.47 1.35L5.41 20z\"/>\n",
              "  </svg>\n",
              "      </button>\n",
              "      \n",
              "  <style>\n",
              "    .colab-df-container {\n",
              "      display:flex;\n",
              "      flex-wrap:wrap;\n",
              "      gap: 12px;\n",
              "    }\n",
              "\n",
              "    .colab-df-convert {\n",
              "      background-color: #E8F0FE;\n",
              "      border: none;\n",
              "      border-radius: 50%;\n",
              "      cursor: pointer;\n",
              "      display: none;\n",
              "      fill: #1967D2;\n",
              "      height: 32px;\n",
              "      padding: 0 0 0 0;\n",
              "      width: 32px;\n",
              "    }\n",
              "\n",
              "    .colab-df-convert:hover {\n",
              "      background-color: #E2EBFA;\n",
              "      box-shadow: 0px 1px 2px rgba(60, 64, 67, 0.3), 0px 1px 3px 1px rgba(60, 64, 67, 0.15);\n",
              "      fill: #174EA6;\n",
              "    }\n",
              "\n",
              "    [theme=dark] .colab-df-convert {\n",
              "      background-color: #3B4455;\n",
              "      fill: #D2E3FC;\n",
              "    }\n",
              "\n",
              "    [theme=dark] .colab-df-convert:hover {\n",
              "      background-color: #434B5C;\n",
              "      box-shadow: 0px 1px 3px 1px rgba(0, 0, 0, 0.15);\n",
              "      filter: drop-shadow(0px 1px 2px rgba(0, 0, 0, 0.3));\n",
              "      fill: #FFFFFF;\n",
              "    }\n",
              "  </style>\n",
              "\n",
              "      <script>\n",
              "        const buttonEl =\n",
              "          document.querySelector('#df-73a00bda-55aa-47c0-86cc-322b30cacbbf button.colab-df-convert');\n",
              "        buttonEl.style.display =\n",
              "          google.colab.kernel.accessAllowed ? 'block' : 'none';\n",
              "\n",
              "        async function convertToInteractive(key) {\n",
              "          const element = document.querySelector('#df-73a00bda-55aa-47c0-86cc-322b30cacbbf');\n",
              "          const dataTable =\n",
              "            await google.colab.kernel.invokeFunction('convertToInteractive',\n",
              "                                                     [key], {});\n",
              "          if (!dataTable) return;\n",
              "\n",
              "          const docLinkHtml = 'Like what you see? Visit the ' +\n",
              "            '<a target=\"_blank\" href=https://colab.research.google.com/notebooks/data_table.ipynb>data table notebook</a>'\n",
              "            + ' to learn more about interactive tables.';\n",
              "          element.innerHTML = '';\n",
              "          dataTable['output_type'] = 'display_data';\n",
              "          await google.colab.output.renderOutput(dataTable, element);\n",
              "          const docLink = document.createElement('div');\n",
              "          docLink.innerHTML = docLinkHtml;\n",
              "          element.appendChild(docLink);\n",
              "        }\n",
              "      </script>\n",
              "    </div>\n",
              "  </div>\n",
              "  "
            ]
          },
          "metadata": {},
          "execution_count": 5
        }
      ]
    },
    {
      "cell_type": "code",
      "source": [
        "df.Close.plot()"
      ],
      "metadata": {
        "colab": {
          "base_uri": "https://localhost:8080/",
          "height": 286
        },
        "id": "VS8JFyRG-1Kn",
        "outputId": "e7f9dd48-1695-4603-d560-c8c29e247b6e"
      },
      "execution_count": null,
      "outputs": [
        {
          "output_type": "execute_result",
          "data": {
            "text/plain": [
              "<matplotlib.axes._subplots.AxesSubplot at 0x7f4e2e10ea90>"
            ]
          },
          "metadata": {},
          "execution_count": 6
        },
        {
          "output_type": "display_data",
          "data": {
            "text/plain": [
              "<Figure size 432x288 with 1 Axes>"
            ],
            "image/png": "[encoded data removed]"
          },
          "metadata": {
            "needs_background": "light"
          }
        }
      ]
    },
    {
      "cell_type": "code",
      "source": [
        "## pick three weeks (Mon - Fri) from different years\n",
        "## scale closing prices for each day by teh week's mean closing price\n",
        "\n",
        "fig, axs = plt.subplots(3, 1, figsize = (8,12), dpi = 80)\n",
        "\n",
        "plt.subplots_adjust(hspace=0.2)\n",
        "## 1993\n",
        "vals = df['1993-05-03':'1993-05-07'].Close.values\n",
        "mean_val = np.mean(vals)\n",
        "axs[0].plot([1,2,3,4,5], vals/mean_val)\n",
        "axs[0].set_xticks([1,2,3,4,5])\n",
        "axs[0].set_xticklabels(['Monday', 'Tuesday', 'Wednesday','Thursday', 'Friday'])\n",
        "\n",
        "\n",
        "## 2000\n",
        "vals = df['2000-05-08':'2000-05-12'].Close.values\n",
        "mean_val = np.mean(vals)\n",
        "axs[1].plot([1,2,3,4,5], vals/mean_val)\n",
        "axs[1].set_xticks([1,2,3,4,5])\n",
        "axs[1].set_xticklabels(['Monday', 'Tuesday', 'Wednesday','Thursday', 'Friday'])\n",
        "\n",
        "## 2018\n",
        "vals = df['2018-05-07':'2018-05-11'].Close.values\n",
        "mean_val = np.mean(vals)\n",
        "axs[2].plot([1,2,3,4,5], vals/mean_val)\n",
        "axs[2].set_xticks([1,2,3,4,5])\n",
        "axs[2].set_xticklabels(['Monday', 'Tuesday', 'Wednesday','Thursday', 'Friday'])\n",
        "\n",
        "\n"
      ],
      "metadata": {
        "colab": {
          "base_uri": "https://localhost:8080/",
          "height": 862
        },
        "id": "V-uMWdDl-5Ws",
        "outputId": "21b44a17-2c31-4349-a648-771632b35d7e"
      },
      "execution_count": null,
      "outputs": [
        {
          "output_type": "execute_result",
          "data": {
            "text/plain": [
              "[Text(0, 0, 'Monday'),\n",
              " Text(0, 0, 'Tuesday'),\n",
              " Text(0, 0, 'Wednesday'),\n",
              " Text(0, 0, 'Thursday'),\n",
              " Text(0, 0, 'Friday')]"
            ]
          },
          "metadata": {},
          "execution_count": 7
        },
        {
          "output_type": "display_data",
          "data": {
            "text/plain": [
              "<Figure size 640x960 with 3 Axes>"
            ],
            "image/png": "[encoded data removed]"
          },
          "metadata": {
            "needs_background": "light"
          }
        }
      ]
    },
    {
      "cell_type": "code",
      "source": [
        "#Compute Daily Return\n",
        "df['Return'] = df.Close - df.Open\n",
        "df.Return.plot()"
      ],
      "metadata": {
        "colab": {
          "base_uri": "https://localhost:8080/",
          "height": 286
        },
        "id": "sjWQ5tOR-9_G",
        "outputId": "2e877180-cb54-4ddc-a2ac-16b4d6c09935"
      },
      "execution_count": null,
      "outputs": [
        {
          "output_type": "execute_result",
          "data": {
            "text/plain": [
              "<matplotlib.axes._subplots.AxesSubplot at 0x7f4e2d92eb90>"
            ]
          },
          "metadata": {},
          "execution_count": 8
        },
        {
          "output_type": "display_data",
          "data": {
            "text/plain": [
              "<Figure size 432x288 with 1 Axes>"
            ],
            "image/png": "[encoded data removed]"
          },
          "metadata": {
            "needs_background": "light"
          }
        }
      ]
    },
    {
      "cell_type": "markdown",
      "source": [
        "The figure above shows that, this alone is not enoug to make the data comparable. We will also have to find a way to normalize the data without a lookahead so taht the values we are using for inputs and outputs into our model are more even throughout the tie period of interest. (p. 408)"
      ],
      "metadata": {
        "id": "TmoOguu1EM8Z"
      }
    },
    {
      "cell_type": "markdown",
      "source": [
        "### Preprocessing Financial Data for Deep Learning\n",
        "Our data preprocessing will be done in three steps:\n",
        "1. We will form new, economically meaningful quantities of interes out of the raw inputs.\n",
        "2. We will compute an exponentially weighted moving average and variance of the quantities of interest so that we can scale them without a lookahead.\n",
        "3. We will package our results in a format appropriate for hte recurrent deep learning model we will us to fit the data.\n"
      ],
      "metadata": {
        "id": "Nf4m-o9aEplh"
      }
    },
    {
      "cell_type": "code",
      "source": [
        "## Adding quantities of interest\n",
        "df['DailyVolatility'] = df.High - df.Low\n",
        "df.DailyVolatility.plot()"
      ],
      "metadata": {
        "colab": {
          "base_uri": "https://localhost:8080/",
          "height": 286
        },
        "id": "zAbAE3mo-_1J",
        "outputId": "d27c3c55-27da-4702-99fd-9f99efaf54e0"
      },
      "execution_count": null,
      "outputs": [
        {
          "output_type": "execute_result",
          "data": {
            "text/plain": [
              "<matplotlib.axes._subplots.AxesSubplot at 0x7f4e2d811290>"
            ]
          },
          "metadata": {},
          "execution_count": 9
        },
        {
          "output_type": "display_data",
          "data": {
            "text/plain": [
              "<Figure size 432x288 with 1 Axes>"
            ],
            "image/png": "[encoded data removed]"
          },
          "metadata": {
            "needs_background": "light"
          }
        }
      ]
    },
    {
      "cell_type": "code",
      "source": [
        "## Scaling Quantities of Interest without a Lookahead\n",
        "#exponentially weighted moving average of every column in the data frame\n",
        "#### Halflife as Hyperparameter for the model - the model behavior will certainly depend on this parameter\n",
        "HALF_LIFE = 10\n",
        "figure, axes = plt.subplots(2, 1, figsize = (6,8), dpi = 80)\n",
        "plt.subplots_adjust(hspace=0.3)\n",
        "#ewm average\n",
        "ewdf = df.ewm(halflife = HALF_LIFE).mean()\n",
        "axes[0].set_ylabel(\"EWMA Daily Volatility\")\n",
        "ewdf.DailyVolatility.plot(ax=axes[0])\n",
        "\n",
        "#ewm variance\n",
        "vewdf = df.ewm(halflife = HALF_LIFE).var()\n",
        "#scale by demeaning and normalizing\n",
        "scaled = df.DailyVolatility - ewdf.DailyVolatility\n",
        "scaled = scaled / vewdf.DailyVolatility**0.5\n",
        "axes[1].set_ylabel(\"Rescaled Daily Volatility\")\n",
        "scaled.plot(ax=axes[1])"
      ],
      "metadata": {
        "colab": {
          "base_uri": "https://localhost:8080/",
          "height": 530
        },
        "id": "fFn3bdBW_OpD",
        "outputId": "b32b48d1-d8b2-4009-9f8f-ade6d75204ea"
      },
      "execution_count": null,
      "outputs": [
        {
          "output_type": "execute_result",
          "data": {
            "text/plain": [
              "<matplotlib.axes._subplots.AxesSubplot at 0x7f4e2d63ea10>"
            ]
          },
          "metadata": {},
          "execution_count": 10
        },
        {
          "output_type": "display_data",
          "data": {
            "text/plain": [
              "<Figure size 480x640 with 2 Axes>"
            ],
            "image/png": "[encoded data removed]"
          },
          "metadata": {
            "needs_background": "light"
          }
        }
      ]
    },
    {
      "cell_type": "code",
      "source": [
        "##We transform all three raw inputs of interest into a scaled version:\n",
        "\n",
        "df['ScaledVolatility'] = ((df.DailyVolatility - ewdf.DailyVolatility) / vewdf.DailyVolatility**0.5)\n",
        "df['ScaledReturn'] = ((df.Return - ewdf.Return) / vewdf.Return**0.5)\n",
        "df['ScaledVolume'] = ((df.Volume - ewdf.Volume) / vewdf.Volume**0.5)\n",
        "\n",
        "#Finally drop the NA results that come from exponentaial smoothing\n",
        "df = df.dropna()"
      ],
      "metadata": {
        "id": "WwrK-54PFaGF"
      },
      "execution_count": null,
      "outputs": []
    },
    {
      "cell_type": "code",
      "source": [],
      "metadata": {
        "id": "y8wMYZcPJk02"
      },
      "execution_count": null,
      "outputs": []
    },
    {
      "cell_type": "code",
      "source": [
        "## break our data into training and testing components\n",
        "train_df = df[:7000]\n",
        "test_df= df[7000:]\n",
        "\n",
        "## building our pipeline variables off training data\n",
        "## taking only values of interest from larger data frames\n",
        "HORIZON = 10\n",
        "X = train_df[:(7000 - HORIZON)][[\"ScaledVolatility\", \"ScaledReturn\", \"ScaledVolume\"]].values\n",
        "Y = train_df[HORIZON:][\"ScaledReturn\"].values"
      ],
      "metadata": {
        "id": "lvwdKiEfJvb9"
      },
      "execution_count": null,
      "outputs": []
    },
    {
      "cell_type": "code",
      "source": [
        "##TNC - We want to add a third dimension, axis 1 (so pushing the second dimension out to axis 2, where the axes are numbered from 0 up)\n",
        "## Our temporal axis is already axis 0 because the data frame was sorted temporally. The last axis, now axis 2, is already the \"channel axis\" because\n",
        "## our inputs each occupy one column of that dimension.\n",
        "X = np.expand_dims(X, axis = 1)"
      ],
      "metadata": {
        "id": "S3BpQAq7Jz0G"
      },
      "execution_count": null,
      "outputs": []
    },
    {
      "cell_type": "code",
      "source": [
        "##We will try a model that will see 10 time steps - that is 10 days of data looking backward.\n",
        "## So we need to cut off axis 0 to be of length 10.\n",
        "\n",
        "X = np.split(X, X.shape[0]/HORIZON, axis = 0)\n",
        "X = np.concatenate(X, axis = 1)\n",
        "X.shape"
      ],
      "metadata": {
        "colab": {
          "base_uri": "https://localhost:8080/"
        },
        "id": "u5jdSs_GXSvz",
        "outputId": "86a00fc3-b4dd-49d7-836f-2e6640465019"
      },
      "execution_count": null,
      "outputs": [
        {
          "output_type": "execute_result",
          "data": {
            "text/plain": [
              "(10, 699, 3)"
            ]
          },
          "metadata": {},
          "execution_count": 14
        }
      ]
    },
    {
      "cell_type": "code",
      "source": [
        "print(X)"
      ],
      "metadata": {
        "colab": {
          "base_uri": "https://localhost:8080/"
        },
        "id": "nr7gaFX8eI-7",
        "outputId": "6ddc56b8-4dfc-419f-fac0-8cfc9dee9658"
      },
      "execution_count": null,
      "outputs": [
        {
          "output_type": "stream",
          "name": "stdout",
          "text": [
            "[[[-6.82610135e-01 -6.82610135e-01  6.82610135e-01]\n",
            "  [ 2.21575421e-01 -4.58574954e-01  2.31360738e-01]\n",
            "  [ 1.66206108e-01  1.81708188e+00  7.57190125e-01]\n",
            "  ...\n",
            "  [-1.38462390e-01  4.14066697e-02 -7.77316213e-01]\n",
            "  [ 3.41194726e-01  1.03132462e+00 -9.98688145e-01]\n",
            "  [-7.63135169e-01 -1.68702696e-02  7.18816623e-01]]\n",
            "\n",
            " [[ 1.93416118e-01 -7.48064935e-01 -3.13252490e-02]\n",
            "  [-4.09084320e-01  5.47008519e-01  6.40606821e-01]\n",
            "  [-1.58480006e+00  1.60953504e-01 -9.83509163e-01]\n",
            "  ...\n",
            "  [ 2.57143945e+00 -2.57189776e+00 -2.99383557e-01]\n",
            "  [-2.51421627e-01  7.57976022e-01  7.29941508e-01]\n",
            "  [-7.24038402e-01  3.53480093e-01  2.90502591e+00]]\n",
            "\n",
            " [[-3.70889861e-01 -6.57832184e-01 -8.87736736e-01]\n",
            "  [-1.25976327e+00  5.49300393e-01  9.41084632e-01]\n",
            "  [-6.44842574e-01  7.57895797e-01 -4.48013674e-01]\n",
            "  ...\n",
            "  [ 6.91780565e-01  7.74312808e-02  3.80356201e-01]\n",
            "  [-1.03663667e+00  1.22898684e-01 -8.20851672e-01]\n",
            "  [-4.96422302e-01 -8.48659055e-03 -1.55597202e-01]]\n",
            "\n",
            " ...\n",
            "\n",
            " [[ 1.74118644e+00 -1.58724377e+00  1.04934957e+00]\n",
            "  [ 6.23637038e-01  3.69405331e-01  1.19430769e+00]\n",
            "  [-1.21096131e+00  2.57885948e-01 -9.31767684e-01]\n",
            "  ...\n",
            "  [-2.73475726e-01 -2.16277552e-03 -1.31270073e+00]\n",
            "  [ 1.59318549e-01  1.28482855e+00  4.46185399e-01]\n",
            "  [ 6.22090526e-01 -4.74224291e-01  1.16547544e-01]]\n",
            "\n",
            " [[-7.22381952e-01 -2.28189538e-01 -1.24893490e+00]\n",
            "  [-1.00979864e-01  2.70532755e-01 -1.09780636e+00]\n",
            "  [-5.11923159e-01 -9.35595348e-01 -1.82552285e+00]\n",
            "  ...\n",
            "  [-4.77491724e-01 -1.29749312e-01 -1.01413197e+00]\n",
            "  [-9.75997622e-01  3.65435954e-01  2.69481363e-01]\n",
            "  [-4.25038999e-01 -6.36255347e-01 -4.16492496e-01]]\n",
            "\n",
            " [[ 9.83339687e-01  1.21260972e+00  1.08807896e+00]\n",
            "  [ 7.49933261e-02 -1.85907963e-01  6.27677879e-01]\n",
            "  [-4.69602683e-01  4.19963667e-01 -7.19159900e-01]\n",
            "  ...\n",
            "  [ 9.76619439e-01  1.37076973e+00 -8.16091451e-01]\n",
            "  [-9.35356404e-01  3.45495373e-01  6.25158959e-01]\n",
            "  [ 8.53212493e-01  4.17913915e-01  4.80005783e-01]]]\n"
          ]
        }
      ]
    },
    {
      "cell_type": "code",
      "source": [
        "X_new, Y_new = timeseriesdata(X, Y,WINDOW_SIZE, 3)"
      ],
      "metadata": {
        "id": "5X7FjQF7uDUZ",
        "colab": {
          "base_uri": "https://localhost:8080/",
          "height": 166
        },
        "outputId": "1d58c1fa-3380-458b-c0bd-46ec5ed708ab"
      },
      "execution_count": null,
      "outputs": [
        {
          "output_type": "error",
          "ename": "NameError",
          "evalue": "ignored",
          "traceback": [
            "\u001b[0;31m---------------------------------------------------------------------------\u001b[0m",
            "\u001b[0;31mNameError\u001b[0m                                 Traceback (most recent call last)",
            "\u001b[0;32m<ipython-input-16-6125a1fca540>\u001b[0m in \u001b[0;36m<module>\u001b[0;34m\u001b[0m\n\u001b[0;32m----> 1\u001b[0;31m \u001b[0mX_new\u001b[0m\u001b[0;34m,\u001b[0m \u001b[0mY_new\u001b[0m \u001b[0;34m=\u001b[0m \u001b[0mtimeseriesdata\u001b[0m\u001b[0;34m(\u001b[0m\u001b[0mX\u001b[0m\u001b[0;34m,\u001b[0m \u001b[0mY\u001b[0m\u001b[0;34m,\u001b[0m\u001b[0mWINDOW_SIZE\u001b[0m\u001b[0;34m,\u001b[0m \u001b[0;36m3\u001b[0m\u001b[0;34m)\u001b[0m\u001b[0;34m\u001b[0m\u001b[0;34m\u001b[0m\u001b[0m\n\u001b[0m",
            "\u001b[0;31mNameError\u001b[0m: name 'timeseriesdata' is not defined"
          ]
        }
      ]
    },
    {
      "cell_type": "code",
      "source": [
        "print(X_new.shape)"
      ],
      "metadata": {
        "id": "zsQZTeKwuPJC"
      },
      "execution_count": null,
      "outputs": []
    },
    {
      "cell_type": "code",
      "source": [
        "print(X_new)"
      ],
      "metadata": {
        "id": "5RyzMvrvesmS"
      },
      "execution_count": null,
      "outputs": []
    },
    {
      "cell_type": "code",
      "source": [
        "print(X_new[:,0,:])"
      ],
      "metadata": {
        "id": "_JlE-ZQhuicd"
      },
      "execution_count": null,
      "outputs": []
    },
    {
      "cell_type": "code",
      "source": [
        "print(Y[10:15])"
      ],
      "metadata": {
        "id": "x8uklD2_uo4Z"
      },
      "execution_count": null,
      "outputs": []
    },
    {
      "cell_type": "code",
      "source": [
        "print(Y_new[0:5])"
      ],
      "metadata": {
        "id": "UHEdEJecuqiP"
      },
      "execution_count": null,
      "outputs": []
    },
    {
      "cell_type": "markdown",
      "source": [
        "Given the TNC format, we have time series of length 10 (HORIZON), with three parallel inputs (Scaled Volatility, Scaled Return, Scaled Volume). Of these we have 699 examples. The batch size will determine how many batches make up an epoch, where an epoch is one cycle through our data."
      ],
      "metadata": {
        "id": "zyCQeN7HoOvO"
      }
    },
    {
      "cell_type": "code",
      "source": [
        "def timeseriesdata(X, Y,win, channel):\n",
        "    ###takes 2 dimensional array time series - transform it to TNC (time,sample,channel)\n",
        "    ##takes 1 dimensional array of labels - transforms it to fit the TNC Data\n",
        "    X = X[:X.shape[0]-win]\n",
        "    X = np.expand_dims(X, axis = 1)\n",
        "    X_tnc = np.zeros((win,X.shape[0] - win + 1, channel))\n",
        "    for i, _ in enumerate(X):\n",
        "        try:\n",
        "            X_tnc[:,i:i+1,:] = X[i:i+win]\n",
        "        except:\n",
        "            break   \n",
        "    return X_tnc[:,0:X_tnc.shape[1]-1,:], Y[win:]"
      ],
      "metadata": {
        "id": "5f1WYy0HrGIT"
      },
      "execution_count": null,
      "outputs": []
    },
    {
      "cell_type": "code",
      "source": [],
      "metadata": {
        "id": "zzydAQnWe8sN"
      },
      "execution_count": null,
      "outputs": []
    },
    {
      "cell_type": "code",
      "source": [
        "def timeseriesdata_lstm(X, Y,win, channel):\n",
        "    ###takes 2 dimensional array time series - transform it to TNC (sample,time,channel)\n",
        "    ##takes 1 dimensional array of labels - transforms it to fit the TNC Data\n",
        "    X = np.expand_dims(X, axis = 0)\n",
        "    print(X)\n",
        "    X_tnc = np.zeros((X.shape[1] - win + 1,win, channel))\n",
        "\n",
        "    for i, _ in enumerate(X_tnc):\n",
        "        try:\n",
        "            X_tnc[i:i+1,:,:] = X[i:i+win]\n",
        "        except:\n",
        "            break\n",
        "    print(X_tnc)  \n",
        "    return X_tnc[0:X_tnc.shape[0]-1,:,:], Y"
      ],
      "metadata": {
        "id": "m6CpylXyNu5_"
      },
      "execution_count": null,
      "outputs": []
    },
    {
      "cell_type": "code",
      "source": [],
      "metadata": {
        "id": "-Aze92afOsok"
      },
      "execution_count": null,
      "outputs": []
    },
    {
      "cell_type": "markdown",
      "source": [
        "### Model Architecture"
      ],
      "metadata": {
        "id": "zGDHKq3OJfge"
      }
    },
    {
      "cell_type": "code",
      "source": [
        "# -*- coding: utf-8 -*-\n",
        "\"\"\"\n",
        "\n",
        "https://www.crosstab.io/articles/time-series-pytorch-lstm\n",
        "\n",
        "Architectures file of example project.\n",
        "\"\"\"\n",
        "\n",
        "from torch import nn\n",
        "import torch\n",
        "\n",
        "\n",
        "class SimpleLSTM(nn.Module):\n",
        "    def __init__(self, num_sensors: int = 3, num_hidden: int = 10, num_layers: int = 5):\n",
        "        \"\"\"Simple CNN with `n_hidden_layers`, `n_kernels`, and `kernel_size` as hyperparameters\"\"\"\n",
        "        super().__init__()\n",
        "        self.num_sensors = num_sensors  # this is the number of features\n",
        "        self.hidden_units = num_hidden\n",
        "        self.num_layers = num_layers\n",
        "\n",
        "        self.lstm = nn.LSTM(\n",
        "            input_size= self.num_sensors,\n",
        "            hidden_size=self.hidden_units,\n",
        "            batch_first=True,\n",
        "            num_layers=self.num_layers\n",
        "        )\n",
        "\n",
        "        self.linear = nn.Linear(in_features=self.hidden_units, out_features=1)\n",
        "\n",
        "    def forward(self, x):\n",
        "        batch_size = x.shape[0]\n",
        "        h0 = torch.zeros(self.num_layers, batch_size, self.hidden_units).requires_grad_().cuda()\n",
        "        c0 = torch.zeros(self.num_layers, batch_size, self.hidden_units).requires_grad_().cuda()\n",
        "\n",
        "        _, (hn, _) = self.lstm(x, (h0, c0))\n",
        "        out = self.linear(hn[0]).flatten()  # First dim of Hn is num_layers, which is set to 1 above.\n",
        "\n",
        "        return out"
      ],
      "metadata": {
        "id": "6vXBYO19JkuG"
      },
      "execution_count": null,
      "outputs": []
    },
    {
      "cell_type": "markdown",
      "source": [
        "### Training new Model LSTM"
      ],
      "metadata": {
        "id": "LJ34kLQCPr7U"
      }
    },
    {
      "cell_type": "code",
      "source": [
        "## architecture parameters\n",
        "NUM_HIDDEN = 5\n",
        "NUM_LAYERS = 10\n",
        "NUM_FEATURES = 3\n",
        "\n",
        "## data formatting parameters\n",
        "BATCH_SIZE = 64\n",
        "WINDOW_SIZE = 10\n",
        "\n",
        "## training parameters\n",
        "LEARNING_RATE = 1e-2\n",
        "EPOCHS = 2"
      ],
      "metadata": {
        "id": "SD1E5qY_P0d4"
      },
      "execution_count": null,
      "outputs": []
    },
    {
      "cell_type": "code",
      "source": [
        "learning_rate = 5e-5\n",
        "num_hidden_units = 16\n",
        "device = torch.device(\"cuda:0\")\n",
        "model = SimpleLSTM(num_sensors= NUM_FEATURES, num_hidden=NUM_HIDDEN, num_layers = NUM_LAYERS)\n",
        "if torch.cuda.is_available():\n",
        "  model.cuda()\n",
        "loss_function = nn.MSELoss()\n",
        "optimizer = torch.optim.Adam(model.parameters(), lr=learning_rate)"
      ],
      "metadata": {
        "id": "4OOkGPetPqxF"
      },
      "execution_count": null,
      "outputs": []
    },
    {
      "cell_type": "code",
      "source": [
        "next(model.parameters()).device"
      ],
      "metadata": {
        "colab": {
          "base_uri": "https://localhost:8080/"
        },
        "id": "rAVwQ1C9vh57",
        "outputId": "6edae072-df32-4087-b8d8-a4c6828fc55f"
      },
      "execution_count": null,
      "outputs": [
        {
          "output_type": "execute_result",
          "data": {
            "text/plain": [
              "device(type='cuda', index=0)"
            ]
          },
          "metadata": {},
          "execution_count": 58
        }
      ]
    },
    {
      "cell_type": "code",
      "source": [
        "from torch.utils.data import DataLoader\n",
        "from torch.utils.data import Dataset\n",
        "\n",
        "class SequenceDataset(Dataset):\n",
        "    def __init__(self, dataframe, features, horizon, win):\n",
        "        self.features = features\n",
        "        self.win = win\n",
        "        self.horizon = horizon\n",
        "        self.X = dataframe[:][[\"ScaledVolatility\", \"ScaledReturn\", \"ScaledVolume\"]].values\n",
        "        self.y = dataframe[:][self.horizon:][\"ScaledReturn\"].values\n",
        "        self.X, self.y = timeseriesdata(self.X, self.y, self.win, self.features)\n",
        "        print(self.X.shape)\n",
        "        print(self.y.shape)\n",
        "        self.X = torch.permute(torch.tensor(self.X), (1, 0, 2)).float()\n",
        "\n",
        "    def __len__(self):\n",
        "        return self.X.shape[0]\n",
        "\n",
        "    def __getitem__(self, i):\n",
        "        return self.X[i,:,:], torch.tensor(self.y[i]).float()"
      ],
      "metadata": {
        "id": "_IEfkq1jR2mP"
      },
      "execution_count": null,
      "outputs": []
    },
    {
      "cell_type": "code",
      "source": [
        "train_dataset = SequenceDataset(\n",
        "    train_df,\n",
        "    features=NUM_FEATURES,\n",
        "    horizon = HORIZON,\n",
        "    win = WINDOW_SIZE)"
      ],
      "metadata": {
        "colab": {
          "base_uri": "https://localhost:8080/"
        },
        "id": "PlKV8QENcqIs",
        "outputId": "b4210ee4-e8d4-4e30-b0c7-87fe9b4332c5"
      },
      "execution_count": null,
      "outputs": [
        {
          "output_type": "stream",
          "name": "stdout",
          "text": [
            "(10, 6980, 3)\n",
            "(6980,)\n"
          ]
        }
      ]
    },
    {
      "cell_type": "code",
      "source": [
        "\n",
        "\n",
        "\n",
        "torch.manual_seed(101)\n",
        "\n",
        "batch_size = 4\n",
        "sequence_length = WINDOW_SIZE\n",
        "\n",
        "train_dataset = SequenceDataset(\n",
        "    train_df,\n",
        "    features=NUM_FEATURES,\n",
        "    horizon = HORIZON,\n",
        "    win = WINDOW_SIZE)\n",
        "test_dataset = SequenceDataset(\n",
        "    test_df,\n",
        "    features=NUM_FEATURES,\n",
        "    horizon = HORIZON,\n",
        "    win = WINDOW_SIZE)"
      ],
      "metadata": {
        "colab": {
          "base_uri": "https://localhost:8080/"
        },
        "id": "A5mMlE3aRTJW",
        "outputId": "99c07804-4ebf-41b4-a204-fd94dbc9f96d"
      },
      "execution_count": null,
      "outputs": [
        {
          "output_type": "stream",
          "name": "stdout",
          "text": [
            "(10, 6980, 3)\n",
            "(6980,)\n",
            "(10, 538, 3)\n",
            "(538,)\n"
          ]
        }
      ]
    },
    {
      "cell_type": "code",
      "source": [
        "train_loader = DataLoader(train_dataset, batch_size=batch_size, shuffle=False)\n",
        "test_loader = DataLoader(test_dataset, batch_size=batch_size, shuffle=False)"
      ],
      "metadata": {
        "id": "wPrF1HJzg4ey"
      },
      "execution_count": null,
      "outputs": []
    },
    {
      "cell_type": "code",
      "source": [
        "print(len(train_loader))"
      ],
      "metadata": {
        "id": "BoWqqT1Knjot"
      },
      "execution_count": null,
      "outputs": []
    },
    {
      "cell_type": "code",
      "source": [
        "y_hat_dict = {}\n",
        "Y_dict = {}\n",
        "\n",
        "in_sample_Y_dict = {}\n",
        "in_sample_y_hat_dict = {}\n",
        "\n",
        "\n",
        "def train_model(data_loader, model, loss_function, optimizer): \n",
        "  num_batches = len(data_loader)\n",
        "  total_loss = 0\n",
        "  model.train()\n",
        "  model.cuda()\n",
        "  for X, y in data_loader:\n",
        "      if torch.cuda.is_available():\n",
        "        X = X.cuda()\n",
        "        y = y.cuda()\n",
        "\n",
        "      output = model(X)\n",
        "      loss = loss_function(output, y)\n",
        "\n",
        "      optimizer.zero_grad()\n",
        "      loss.backward()\n",
        "      optimizer.step()\n",
        "\n",
        "      total_loss += loss.item()\n",
        "\n",
        "  avg_loss = total_loss / num_batches\n",
        "  print(f\"Train loss: {avg_loss}\")\n",
        "\n",
        "def test_model(data_loader, model, loss_function, ep, Y_dict, y_hat_dict):\n",
        "\n",
        "    num_batches = len(data_loader)\n",
        "    total_loss = 0\n",
        "    y_for_dict = []\n",
        "    y_hat_for_dict = []\n",
        "    model.eval()\n",
        "    with torch.no_grad():\n",
        "        for i,(X, y) in enumerate(data_loader):\n",
        "            X = X.cuda()\n",
        "            y = y.cuda()\n",
        "            output = model(X)\n",
        "            total_loss += loss_function(output, y).item()\n",
        "            y_for_dict.append(y.cpu())\n",
        "            y_hat_for_dict.append(output.cpu())\n",
        "    Y_dict[ep] = y_for_dict\n",
        "    y_hat_dict[ep] = y_hat_for_dict\n",
        "    avg_loss = total_loss / num_batches\n",
        "    print(f\"Test loss: {avg_loss}\")\n",
        "    return Y_dict, y_hat_dict    \n",
        "\n",
        "\n",
        "\n",
        "print(\"Untrained test\\n--------\")\n",
        "#test_model(test_loader, model, loss_function)\n",
        "print()\n",
        "\n",
        "for ix_epoch in range(EPOCHS):\n",
        "    print(f\"Epoch {ix_epoch}\\n---------\")\n",
        "    train_model(train_loader, model, loss_function, optimizer=optimizer)\n",
        "    Y_dict, y_hat_dict = test_model(test_loader, model, loss_function, ix_epoch, Y_dict, y_hat_dict)\n",
        "    print()"
      ],
      "metadata": {
        "colab": {
          "base_uri": "https://localhost:8080/"
        },
        "id": "n8Ys4m0iQqmZ",
        "outputId": "ad250ec3-01ec-489f-a61b-6716e66be0db"
      },
      "execution_count": null,
      "outputs": [
        {
          "output_type": "stream",
          "name": "stdout",
          "text": [
            "Untrained test\n",
            "--------\n",
            "\n",
            "Epoch 0\n",
            "---------\n",
            "Train loss: 0.8347047100975085\n",
            "Test loss: 0.8412072459028826\n",
            "\n",
            "Epoch 1\n",
            "---------\n",
            "Train loss: 0.8346458249311777\n",
            "Test loss: 0.8412445049870897\n",
            "\n"
          ]
        }
      ]
    },
    {
      "cell_type": "code",
      "source": [
        " train_model(train_loader, model, loss_function, optimizer,device)"
      ],
      "metadata": {
        "id": "cT-5u_LDRFL1"
      },
      "execution_count": null,
      "outputs": []
    },
    {
      "cell_type": "markdown",
      "source": [
        "### Building and Training an RNN"
      ],
      "metadata": {
        "id": "6Jb5iw8VJYUV"
      }
    },
    {
      "cell_type": "code",
      "source": [
        "## architecture parameters\n",
        "NUM_HIDDEN = 5\n",
        "NUM_LAYERS = 10\n",
        "\n",
        "## data formatting parameters\n",
        "BATCH_SIZE = 64\n",
        "WINDOW_SIZE = 10\n",
        "\n",
        "## training parameters\n",
        "LEARNING_RATE = 1e-2\n",
        "EPOCHS = 2"
      ],
      "metadata": {
        "id": "NEslcfRJoOix"
      },
      "execution_count": null,
      "outputs": []
    },
    {
      "cell_type": "code",
      "source": [
        "tf.compat.v1.disable_eager_execution()\n",
        "\n",
        "\n",
        "Xinp = tf1.placeholder(dtype = tf.float32, shape = [WINDOW_SIZE, None, 3])\n",
        "Yinp = tf1.placeholder(dtype = tf.float32, shape = [None])"
      ],
      "metadata": {
        "id": "WG0xlQyuXV1q"
      },
      "execution_count": null,
      "outputs": []
    },
    {
      "cell_type": "code",
      "source": [
        "with tf1.variable_scope(\"scope1\", reuse = tf1.AUTO_REUSE):\n",
        "  cells = [tf1.nn.rnn_cell.LSTMCell(num_units = NUM_HIDDEN) for n in range(NUM_LAYERS)]\n",
        "  stacked_rnn_cell = tf1.nn.rnn_cell.MultiRNNCell(cells)\n",
        "  rnn_output, states = tf1.nn.dynamic_rnn(stacked_rnn_cell, Xinp, dtype = tf.float32)\n",
        "  W = tf1.get_variable(\"W_fc\", [NUM_HIDDEN, 1], initializer = tf.random_uniform_initializer(-.2, .2))\n",
        "\n",
        "  ## notice we have not bias because we expect average zero return\n",
        "  output = tf.squeeze(tf.matmul(rnn_output[-1, : , :], W))\n",
        "\n",
        "  loss = tf.nn.l2_loss(output - Yinp)\n",
        "  opt = tf1.train.GradientDescentOptimizer(LEARNING_RATE)\n",
        "  train_step = opt.minimize(loss)"
      ],
      "metadata": {
        "id": "6zoiE2e5XXii"
      },
      "execution_count": null,
      "outputs": []
    },
    {
      "cell_type": "code",
      "source": [
        "sess = tf1.Session()\n",
        "sess.run(tf1.tables_initializer())\n",
        "sess.run(tf1.global_variables_initializer())"
      ],
      "metadata": {
        "id": "jNvoG-8pQ-RN"
      },
      "execution_count": null,
      "outputs": []
    },
    {
      "cell_type": "code",
      "source": [
        "## for each epoch\n",
        "\n",
        "y_hat_dict = {}\n",
        "Y_dict = {}\n",
        "\n",
        "in_sample_Y_dict = {}\n",
        "in_sample_y_hat_dict = {}\n",
        "\n",
        "for ep in range(EPOCHS):\n",
        "  epoch_training_loss = 0.0\n",
        "  for i in range(WINDOW_SIZE):\n",
        "    X = train_df[:(7000- WINDOW_SIZE)][[\"ScaledVolatility\", \"ScaledReturn\", \"ScaledVolume\"]].values\n",
        "    Y = train_df[WINDOW_SIZE:][\"ScaledReturn\"].values\n",
        "\n",
        "    ## make it divisible by window size\n",
        "    #num_to_unpack = math.floor(X.shape[0]/WINDOW_SIZE)\n",
        "    #start_idx = X.shape[0] - num_to_unpack * WINDOW_SIZE\n",
        "    X,Y = timeseriesdata(X, Y,WINDOW_SIZE, 3)\n",
        "\n",
        "    ##TRAINING\n",
        "    ## now we batch it and run a sess\n",
        "    for j in range(math.ceil(Y.shape[0] / BATCH_SIZE)):\n",
        "      ll = BATCH_SIZE * j\n",
        "      ul = BATCH_SIZE * (j + 1)\n",
        "\n",
        "      if ul > X.shape[1]:\n",
        "        ul = X.shape[1] - 1\n",
        "        ll = X.shape[1] - BATCH_SIZE\n",
        "      \n",
        "      training_loss, _, y_hat = sess.run([loss, train_step, output],\n",
        "                                  feed_dict = {\n",
        "                                      Xinp: X[:, ll:ul, :], Yinp: Y[ll:ul]\n",
        "                                  })\n",
        "      epoch_training_loss += training_loss          \n",
        "      \n",
        "      in_sample_Y_dict[ep]     = Y[ll:ul] ## notice this will only net us the last part of data trained on\n",
        "      in_sample_y_hat_dict[ep] = y_hat\n",
        "        \n",
        "    ## TESTING\n",
        "    X = test_df[:(test_df.shape[0] - WINDOW_SIZE)][[\"ScaledVolatility\", \"ScaledReturn\", \"ScaledVolume\"]].values\n",
        "    Y = test_df[WINDOW_SIZE:][\"ScaledReturn\"].values\n",
        "\n",
        "    X,Y = timeseriesdata(X, Y,WINDOW_SIZE, 3)\n",
        "\n",
        "    testing_loss, y_hat = sess.run([loss, output],\n",
        "                              feed_dict = { Xinp: X, Yinp: Y })\n",
        "    ## nb this is not great. we should really have a validation loss apart from testing\n",
        "    \n",
        "  print(\"Epoch: %d   Training loss: %0.2f   Testing loss %0.2f:\" % (ep, epoch_training_loss, testing_loss))\n",
        "  Y_dict[ep] = Y\n",
        "  y_hat_dict[ep] = y_hat\n"
      ],
      "metadata": {
        "id": "BmR7hB8yrU20"
      },
      "execution_count": null,
      "outputs": []
    },
    {
      "cell_type": "code",
      "source": [],
      "metadata": {
        "id": "WDGtOleyZzBU"
      },
      "execution_count": null,
      "outputs": []
    },
    {
      "cell_type": "code",
      "source": [
        "print(len(Y_dict[0]))\n",
        "print(y_hat_dict[0])"
      ],
      "metadata": {
        "id": "m7OAo-kVDXly"
      },
      "execution_count": null,
      "outputs": []
    },
    {
      "cell_type": "code",
      "source": [
        "test_df.shape"
      ],
      "metadata": {
        "id": "8vstNEvVwM9M"
      },
      "execution_count": null,
      "outputs": []
    },
    {
      "cell_type": "code",
      "source": [
        "test_df.shape[0]/20"
      ],
      "metadata": {
        "id": "vwTKqdSnwQ5F"
      },
      "execution_count": null,
      "outputs": []
    },
    {
      "cell_type": "code",
      "source": [
        "y_hat_dict"
      ],
      "metadata": {
        "id": "5AFQHACryRYD",
        "outputId": "5b7c44ab-c134-40e2-adb4-f46986b8b7f8",
        "colab": {
          "base_uri": "https://localhost:8080/"
        }
      },
      "execution_count": null,
      "outputs": [
        {
          "output_type": "execute_result",
          "data": {
            "text/plain": [
              "{0: [tensor([-0.0470, -0.0225, -0.0371, -0.0250]),\n",
              "  tensor([-0.0244, -0.0282, -0.0412, -0.0076]),\n",
              "  tensor([-0.0143, -0.0294, -0.0212, -0.0422]),\n",
              "  tensor([-0.0120, -0.0095, -0.0222, -0.0168]),\n",
              "  tensor([-0.0185, -0.0090, -0.0158, -0.0091]),\n",
              "  tensor([-0.0227, -0.0685, -0.0152, -0.0095]),\n",
              "  tensor([-0.0277, -0.0572, -0.0613,  0.0141]),\n",
              "  tensor([ 0.0280,  0.0148, -0.0004, -0.0052]),\n",
              "  tensor([-0.0060, -0.0077,  0.0004,  0.0156]),\n",
              "  tensor([-0.0608, -0.0046, -0.0031, -0.0015]),\n",
              "  tensor([-0.0064, -0.0183, -0.0352, -0.0328]),\n",
              "  tensor([-0.0297, -0.0215, -0.0204, -0.0069]),\n",
              "  tensor([-0.0126, -0.0014, -0.0089, -0.0111]),\n",
              "  tensor([-0.0146, -0.0068, -0.0063, -0.0505]),\n",
              "  tensor([-0.0272, -0.0135, -0.0085, -0.0038]),\n",
              "  tensor([-0.0152, -0.0308, -0.0001, -0.0055]),\n",
              "  tensor([-0.0043,  0.0012, -0.0156, -0.0097]),\n",
              "  tensor([-0.0212,  0.0085, -0.0577, -0.0294]),\n",
              "  tensor([-0.0103, -0.0410, -0.0049, -0.0122]),\n",
              "  tensor([-0.0091, -0.0128, -0.0136, -0.0124]),\n",
              "  tensor([-0.0124, -0.0098, -0.0169, -0.0156]),\n",
              "  tensor([-0.0084,  0.0002, -0.0107, -0.0033]),\n",
              "  tensor([-0.0081, -0.0149, -0.0140, -0.0171]),\n",
              "  tensor([-0.0125, -0.0160, -0.0139, -0.0056]),\n",
              "  tensor([-0.0016, -0.0388,  0.0031, -0.0051]),\n",
              "  tensor([-0.0119, -0.0132, -0.0162, -0.0292]),\n",
              "  tensor([-0.0296, -0.0117, -0.0112, -0.0325]),\n",
              "  tensor([-0.0228, -0.0229, -0.0260, -0.0266]),\n",
              "  tensor([-0.0293, -0.0124, -0.0135, -0.0165]),\n",
              "  tensor([-0.0181, -0.0172, -0.0093, -0.0049]),\n",
              "  tensor([-0.0006, -0.0014, -0.0052, -0.0209]),\n",
              "  tensor([-0.0064, -0.0116, -0.0044, -0.0120]),\n",
              "  tensor([-0.0028, -0.0269, -0.0187,  0.0014]),\n",
              "  tensor([-0.0181, -0.0164, -0.0151,  0.0037]),\n",
              "  tensor([-0.0195, -0.0271, -0.0148, -0.0096]),\n",
              "  tensor([-0.0081, -0.0020, -0.0063, -0.0071]),\n",
              "  tensor([-0.0045, -0.0103, -0.0140, -0.0219]),\n",
              "  tensor([-0.0065, -0.0404,  0.0007, -0.0012]),\n",
              "  tensor([-0.0113, -0.0089, -0.0187, -0.0019]),\n",
              "  tensor([-0.0157, -0.0114, -0.0126,  0.0040]),\n",
              "  tensor([-0.0800,  0.0134, -0.0128, -0.0105]),\n",
              "  tensor([-0.0103, -0.0476, -0.0213, -0.0056]),\n",
              "  tensor([-0.0299, -0.0290, -0.0170, -0.0211]),\n",
              "  tensor([-0.0482, -0.0308, -0.0362, -0.0178]),\n",
              "  tensor([-0.0081, -0.0026, -0.0068, -0.0147]),\n",
              "  tensor([-0.0112, -0.0042, -0.0084, -0.0022]),\n",
              "  tensor([ 0.0028, -0.0007, -0.0125, -0.0078]),\n",
              "  tensor([-0.0218, -0.0174,  0.0102, -0.0149]),\n",
              "  tensor([-0.0036, -0.0109, -0.0142, -0.0184]),\n",
              "  tensor([-0.0158, -0.0089, -0.0063, -0.0057]),\n",
              "  tensor([-0.0067, -0.0126, -0.0213, -0.0046]),\n",
              "  tensor([-0.0125, -0.0220, -0.0126, -0.0157]),\n",
              "  tensor([-0.0219, -0.0313, -0.0172, -0.0146]),\n",
              "  tensor([-0.0155, -0.0120, -0.0103, -0.0058]),\n",
              "  tensor([-0.0079, -0.0129, -0.0107, -0.0036]),\n",
              "  tensor([-0.0211, -0.0208, -0.0111, -0.0065]),\n",
              "  tensor([ 0.0070, -0.0138, -0.0197, -0.0149]),\n",
              "  tensor([-0.0782,  0.0196,  0.0101, -0.0338]),\n",
              "  tensor([-0.0181, -0.0157, -0.0179, -0.0101]),\n",
              "  tensor([-0.0156, -0.0423, -0.0401, -0.0321]),\n",
              "  tensor([-0.0182, -0.0184, -0.0079,  0.0072]),\n",
              "  tensor([ 0.0074,  0.0016, -0.0119, -0.0162]),\n",
              "  tensor([-0.0109, -0.0063, -0.0364, -0.0245]),\n",
              "  tensor([-0.0256, -0.0453, -0.0420, -0.0299]),\n",
              "  tensor([-0.0405, -0.0180, -0.0200, -0.0065]),\n",
              "  tensor([-0.0130, -0.0039, -0.0110, -0.0083]),\n",
              "  tensor([-0.0046, -0.0075, -0.0128, -0.0131]),\n",
              "  tensor([-0.0114, -0.0108, -0.0101, -0.0032]),\n",
              "  tensor([-0.0495, -0.0198, -0.0072,  0.0073]),\n",
              "  tensor([-0.0057, -0.0140, -0.0045, -0.0242]),\n",
              "  tensor([-0.0462, -0.0198, -0.0163, -0.0088]),\n",
              "  tensor([-0.0047, -0.0047, -0.0038, -0.0192]),\n",
              "  tensor([-0.0061, -0.0454, -0.0370, -0.0594]),\n",
              "  tensor([ 0.0419, -0.0082, -0.0168, -0.0171]),\n",
              "  tensor([-0.0130, -0.0083, -0.0057, -0.0039]),\n",
              "  tensor([-0.0063, -0.0044, -0.0034, -0.0027]),\n",
              "  tensor([-0.0102, -0.0103, -0.0071, -0.0090]),\n",
              "  tensor([-0.0039, -0.0064, -0.0047, -0.0098]),\n",
              "  tensor([-0.0109, -0.0071, -0.0042, -0.0051]),\n",
              "  tensor([-0.0079, -0.0288,  0.0019, -0.0070]),\n",
              "  tensor([-0.0136, -0.0110, -0.0112, -0.0046]),\n",
              "  tensor([-0.0090, -0.0082, -0.0069, -0.0079]),\n",
              "  tensor([-0.0038, -0.0086, -0.0098, -0.0026]),\n",
              "  tensor([-0.0080, -0.0058,  0.0002, -0.0061]),\n",
              "  tensor([-0.0234, -0.0036, -0.0229,  0.0062]),\n",
              "  tensor([ 0.0108,  0.0091, -0.0054, -0.0048]),\n",
              "  tensor([-0.0170, -0.0083, -0.0066, -0.0673]),\n",
              "  tensor([ 0.0134, -0.0149, -0.0201, -0.0274]),\n",
              "  tensor([-0.0190, -0.0136, -0.0219, -0.0264]),\n",
              "  tensor([-0.0255, -0.0084, -0.0025, -0.0089]),\n",
              "  tensor([-0.0065, -0.0127, -0.0161, -0.0175]),\n",
              "  tensor([-0.0153, -0.0151, -0.0146, -0.0072]),\n",
              "  tensor([-0.0016, -0.0035,  0.0002,  0.0005]),\n",
              "  tensor([-0.0058, -0.0060, -0.0077, -0.0070]),\n",
              "  tensor([-0.0100, -0.0147, -0.0261, -0.0073]),\n",
              "  tensor([-0.0213, -0.0035, -0.0267, -0.0494]),\n",
              "  tensor([-0.0144, -0.0304, -0.0479, -0.0204]),\n",
              "  tensor([-0.0092, -0.0272, -0.0208, -0.0203]),\n",
              "  tensor([-0.0115, -0.0100, -0.0091, -0.0134]),\n",
              "  tensor([ 0.0058, -0.0025,  0.0149,  0.0106]),\n",
              "  tensor([-0.0115, -0.0203, -0.0018, -0.0117]),\n",
              "  tensor([-0.0086, -0.0150, -0.0213, -0.0106]),\n",
              "  tensor([-0.0054, -0.0146, -0.0216, -0.0270]),\n",
              "  tensor([-0.0092, -0.0056, -0.0242, -0.0623]),\n",
              "  tensor([0.0264, 0.0046, 0.0151, 0.0051]),\n",
              "  tensor([-0.0582, -0.0015, -0.0053, -0.0328]),\n",
              "  tensor([-0.0418, -0.0226, -0.0106, -0.0085]),\n",
              "  tensor([-0.0046, -0.0028, -0.0040,  0.0020]),\n",
              "  tensor([ 0.0148, -0.0135, -0.0100, -0.0026]),\n",
              "  tensor([-0.0063, -0.0018, -0.0099,  0.0034]),\n",
              "  tensor([-0.0026, -0.0121, -0.0506, -0.0263]),\n",
              "  tensor([ 0.0217,  0.0006, -0.0006, -0.0317]),\n",
              "  tensor([-0.0056, -0.0140, -0.0161, -0.0235]),\n",
              "  tensor([-0.0129, -0.0026, -0.0010, -0.0100]),\n",
              "  tensor([-0.0135, -0.0151, -0.0245, -0.0468]),\n",
              "  tensor([-0.0349, -0.0113, -0.0161, -0.0135]),\n",
              "  tensor([-0.0134, -0.0070, -0.0037, -0.0098]),\n",
              "  tensor([ 0.0011, -0.0180, -0.0295, -0.0067]),\n",
              "  tensor([-0.0127, -0.0058, -0.0301, -0.0015]),\n",
              "  tensor([-0.0113, -0.0164, -0.0617,  0.0134]),\n",
              "  tensor([-0.0192, -0.0229, -0.0190, -0.0221]),\n",
              "  tensor([-0.0148, -0.0204, -0.0076, -0.0315]),\n",
              "  tensor([-0.0272, -0.0249, -0.0071, -0.0192]),\n",
              "  tensor([-0.0120, -0.0074, -0.0129, -0.0059]),\n",
              "  tensor([-0.0074, -0.0040, -0.0047, -0.0027]),\n",
              "  tensor([-0.0038,  0.0009, -0.0108,  0.0011]),\n",
              "  tensor([-0.0105, -0.0105, -0.0171, -0.0317]),\n",
              "  tensor([-0.0103, -0.0303, -0.0392, -0.0307]),\n",
              "  tensor([-1.8305e-02,  8.9481e-05, -1.7080e-02, -2.1370e-02]),\n",
              "  tensor([-0.0148, -0.0155, -0.0124, -0.0112]),\n",
              "  tensor([-0.0023, -0.0211,  0.0063,  0.0039]),\n",
              "  tensor([-0.0043, -0.0399,  0.0061, -0.0394]),\n",
              "  tensor([-0.0348, -0.0417, -0.0209, -0.0119]),\n",
              "  tensor([-0.0082, -0.0066, -0.0060, -0.0049]),\n",
              "  tensor([-0.0218, -0.0284])],\n",
              " 1: [tensor([-0.0436, -0.0214, -0.0371, -0.0243]),\n",
              "  tensor([-0.0249, -0.0279, -0.0409, -0.0079]),\n",
              "  tensor([-0.0151, -0.0294, -0.0219, -0.0413]),\n",
              "  tensor([-0.0120, -0.0095, -0.0218, -0.0153]),\n",
              "  tensor([-0.0172, -0.0088, -0.0163, -0.0092]),\n",
              "  tensor([-0.0233, -0.0691, -0.0158, -0.0091]),\n",
              "  tensor([-0.0266, -0.0569, -0.0582,  0.0185]),\n",
              "  tensor([ 0.0316,  0.0165,  0.0004, -0.0051]),\n",
              "  tensor([-6.4065e-03, -8.2123e-03, -9.5516e-05,  1.6437e-02]),\n",
              "  tensor([-0.0610, -0.0054, -0.0032, -0.0011]),\n",
              "  tensor([-0.0065, -0.0187, -0.0358, -0.0334]),\n",
              "  tensor([-0.0305, -0.0203, -0.0199, -0.0067]),\n",
              "  tensor([-0.0128, -0.0016, -0.0093, -0.0115]),\n",
              "  tensor([-0.0147, -0.0072, -0.0063, -0.0463]),\n",
              "  tensor([-0.0250, -0.0121, -0.0084, -0.0035]),\n",
              "  tensor([-0.0154, -0.0291,  0.0013, -0.0047]),\n",
              "  tensor([-0.0026,  0.0029, -0.0135, -0.0086]),\n",
              "  tensor([-0.0164,  0.0147, -0.0558, -0.0278]),\n",
              "  tensor([-0.0062, -0.0391, -0.0038, -0.0117]),\n",
              "  tensor([-0.0089, -0.0127, -0.0138, -0.0128]),\n",
              "  tensor([-0.0123, -0.0098, -0.0170, -0.0159]),\n",
              "  tensor([-0.0079,  0.0014, -0.0087, -0.0024]),\n",
              "  tensor([-0.0074, -0.0149, -0.0143, -0.0178]),\n",
              "  tensor([-0.0129, -0.0168, -0.0138, -0.0054]),\n",
              "  tensor([-0.0019, -0.0397,  0.0031, -0.0058]),\n",
              "  tensor([-0.0123, -0.0117, -0.0131, -0.0271]),\n",
              "  tensor([-0.0260, -0.0098, -0.0101, -0.0295]),\n",
              "  tensor([-0.0212, -0.0212, -0.0255, -0.0249]),\n",
              "  tensor([-0.0282, -0.0123, -0.0141, -0.0173]),\n",
              "  tensor([-0.0185, -0.0180, -0.0103, -0.0064]),\n",
              "  tensor([-0.0020, -0.0021, -0.0060, -0.0189]),\n",
              "  tensor([-0.0058, -0.0118, -0.0052, -0.0118]),\n",
              "  tensor([-0.0034, -0.0271, -0.0191,  0.0016]),\n",
              "  tensor([-0.0186, -0.0174, -0.0163,  0.0024]),\n",
              "  tensor([-0.0208, -0.0283, -0.0161, -0.0110]),\n",
              "  tensor([-0.0093, -0.0036, -0.0078, -0.0080]),\n",
              "  tensor([-0.0052, -0.0107, -0.0148, -0.0211]),\n",
              "  tensor([-0.0067, -0.0400, -0.0001, -0.0027]),\n",
              "  tensor([-0.0128, -0.0101, -0.0194, -0.0029]),\n",
              "  tensor([-0.0169, -0.0127, -0.0132,  0.0029]),\n",
              "  tensor([-0.0803,  0.0125, -0.0134, -0.0115]),\n",
              "  tensor([-0.0097, -0.0476, -0.0189, -0.0046]),\n",
              "  tensor([-0.0265, -0.0267, -0.0152, -0.0198]),\n",
              "  tensor([-0.0466, -0.0298, -0.0349, -0.0177]),\n",
              "  tensor([-0.0090, -0.0035, -0.0076, -0.0156]),\n",
              "  tensor([-0.0125, -0.0048, -0.0094, -0.0033]),\n",
              "  tensor([ 0.0014, -0.0020, -0.0130, -0.0080]),\n",
              "  tensor([-0.0225, -0.0154,  0.0121, -0.0145]),\n",
              "  tensor([-0.0031, -0.0105, -0.0143, -0.0186]),\n",
              "  tensor([-0.0169, -0.0103, -0.0076, -0.0064]),\n",
              "  tensor([-0.0061, -0.0124, -0.0197, -0.0040]),\n",
              "  tensor([-0.0119, -0.0223, -0.0133, -0.0165]),\n",
              "  tensor([-0.0224, -0.0316, -0.0175, -0.0153]),\n",
              "  tensor([-0.0157, -0.0115, -0.0102, -0.0057]),\n",
              "  tensor([-0.0075, -0.0109, -0.0094, -0.0032]),\n",
              "  tensor([-0.0202, -0.0204, -0.0119, -0.0075]),\n",
              "  tensor([ 0.0074, -0.0136, -0.0205, -0.0160]),\n",
              "  tensor([-0.0779,  0.0184,  0.0086, -0.0324]),\n",
              "  tensor([-0.0173, -0.0157, -0.0175, -0.0104]),\n",
              "  tensor([-0.0151, -0.0388, -0.0355, -0.0291]),\n",
              "  tensor([-0.0164, -0.0126, -0.0024,  0.0104]),\n",
              "  tensor([ 0.0093,  0.0027, -0.0110, -0.0143]),\n",
              "  tensor([-0.0098, -0.0056, -0.0359, -0.0203]),\n",
              "  tensor([-0.0245, -0.0442, -0.0393, -0.0295]),\n",
              "  tensor([-0.0410, -0.0191, -0.0202, -0.0073]),\n",
              "  tensor([-0.0140, -0.0046, -0.0121, -0.0092]),\n",
              "  tensor([-0.0039, -0.0071, -0.0112, -0.0122]),\n",
              "  tensor([-0.0112, -0.0097, -0.0097, -0.0037]),\n",
              "  tensor([-0.0499, -0.0203, -0.0079,  0.0071]),\n",
              "  tensor([-0.0060, -0.0149, -0.0056, -0.0211]),\n",
              "  tensor([-0.0450, -0.0168, -0.0145, -0.0071]),\n",
              "  tensor([-0.0041, -0.0048, -0.0037, -0.0174]),\n",
              "  tensor([-0.0054, -0.0429, -0.0350, -0.0564]),\n",
              "  tensor([ 0.0438, -0.0065, -0.0152, -0.0163]),\n",
              "  tensor([-0.0134, -0.0086, -0.0057, -0.0041]),\n",
              "  tensor([-0.0069, -0.0055, -0.0049, -0.0041]),\n",
              "  tensor([-0.0119, -0.0121, -0.0087, -0.0108]),\n",
              "  tensor([-0.0051, -0.0077, -0.0051, -0.0101]),\n",
              "  tensor([-0.0116, -0.0083, -0.0054, -0.0064]),\n",
              "  tensor([-0.0086, -0.0295,  0.0007, -0.0080]),\n",
              "  tensor([-0.0148, -0.0124, -0.0117, -0.0053]),\n",
              "  tensor([-0.0100, -0.0091, -0.0080, -0.0086]),\n",
              "  tensor([-0.0048, -0.0095, -0.0109, -0.0036]),\n",
              "  tensor([-0.0091, -0.0064, -0.0008, -0.0068]),\n",
              "  tensor([-0.0242, -0.0045, -0.0211,  0.0068]),\n",
              "  tensor([ 0.0117,  0.0105, -0.0048, -0.0041]),\n",
              "  tensor([-0.0171, -0.0086, -0.0074, -0.0679]),\n",
              "  tensor([ 0.0121, -0.0149, -0.0193, -0.0262]),\n",
              "  tensor([-0.0153, -0.0114, -0.0204, -0.0242]),\n",
              "  tensor([-0.0243, -0.0082, -0.0027, -0.0096]),\n",
              "  tensor([-0.0070, -0.0135, -0.0173, -0.0185]),\n",
              "  tensor([-0.0163, -0.0163, -0.0157, -0.0084]),\n",
              "  tensor([-0.0027, -0.0043,  0.0008,  0.0005]),\n",
              "  tensor([-0.0061, -0.0060, -0.0082, -0.0071]),\n",
              "  tensor([-0.0100, -0.0152, -0.0262, -0.0048]),\n",
              "  tensor([-0.0192, -0.0026, -0.0248, -0.0451]),\n",
              "  tensor([-0.0118, -0.0286, -0.0453, -0.0170]),\n",
              "  tensor([-0.0074, -0.0253, -0.0195, -0.0193]),\n",
              "  tensor([-0.0112, -0.0105, -0.0100, -0.0127]),\n",
              "  tensor([5.7984e-03, 5.5134e-07, 1.5938e-02, 1.0784e-02]),\n",
              "  tensor([-0.0114, -0.0199, -0.0020, -0.0118]),\n",
              "  tensor([-0.0088, -0.0147, -0.0217, -0.0099]),\n",
              "  tensor([-0.0059, -0.0156, -0.0226, -0.0283]),\n",
              "  tensor([-0.0099, -0.0063, -0.0246, -0.0627]),\n",
              "  tensor([0.0247, 0.0054, 0.0153, 0.0044]),\n",
              "  tensor([-0.0590, -0.0019, -0.0061, -0.0330]),\n",
              "  tensor([-0.0413, -0.0232, -0.0111, -0.0090]),\n",
              "  tensor([-0.0055, -0.0041, -0.0056,  0.0009]),\n",
              "  tensor([ 0.0153, -0.0132, -0.0073, -0.0016]),\n",
              "  tensor([-0.0061, -0.0018, -0.0093,  0.0030]),\n",
              "  tensor([-0.0036, -0.0131, -0.0466, -0.0217]),\n",
              "  tensor([ 0.0248,  0.0059,  0.0016, -0.0306]),\n",
              "  tensor([-0.0051, -0.0133, -0.0152, -0.0225]),\n",
              "  tensor([-0.0100, -0.0016, -0.0008, -0.0105]),\n",
              "  tensor([-0.0139, -0.0161, -0.0246, -0.0431]),\n",
              "  tensor([-0.0329, -0.0097, -0.0152, -0.0132]),\n",
              "  tensor([-0.0133, -0.0073, -0.0045, -0.0107]),\n",
              "  tensor([-0.0003, -0.0191, -0.0306, -0.0080]),\n",
              "  tensor([-0.0140, -0.0074, -0.0316, -0.0033]),\n",
              "  tensor([-0.0123, -0.0173, -0.0607,  0.0130]),\n",
              "  tensor([-0.0168, -0.0214, -0.0180, -0.0200]),\n",
              "  tensor([-0.0140, -0.0171, -0.0039, -0.0288]),\n",
              "  tensor([-0.0252, -0.0239, -0.0059, -0.0188]),\n",
              "  tensor([-0.0117, -0.0074, -0.0138, -0.0065]),\n",
              "  tensor([-0.0087, -0.0054, -0.0056, -0.0040]),\n",
              "  tensor([-0.0047, -0.0005, -0.0121,  0.0001]),\n",
              "  tensor([-0.0118, -0.0120, -0.0181, -0.0319]),\n",
              "  tensor([-0.0114, -0.0318, -0.0406, -0.0324]),\n",
              "  tensor([-0.0197, -0.0012, -0.0182, -0.0221]),\n",
              "  tensor([-0.0154, -0.0161, -0.0130, -0.0121]),\n",
              "  tensor([-0.0029, -0.0201,  0.0067,  0.0037]),\n",
              "  tensor([-0.0047, -0.0407,  0.0049, -0.0403]),\n",
              "  tensor([-0.0322, -0.0400, -0.0203, -0.0117]),\n",
              "  tensor([-0.0085, -0.0070, -0.0064, -0.0057]),\n",
              "  tensor([-0.0217, -0.0275])]}"
            ]
          },
          "metadata": {},
          "execution_count": 82
        }
      ]
    },
    {
      "cell_type": "code",
      "source": [
        "Y_dict"
      ],
      "metadata": {
        "colab": {
          "base_uri": "https://localhost:8080/"
        },
        "id": "DonDJuVwxPYj",
        "outputId": "080f1be3-345f-4776-9d6a-32240a9f8c4c"
      },
      "execution_count": null,
      "outputs": [
        {
          "output_type": "execute_result",
          "data": {
            "text/plain": [
              "{0: [tensor([-0.0873,  0.1717,  1.1909, -0.0931]),\n",
              "  tensor([-1.1015,  1.7777, -0.9362,  0.1752]),\n",
              "  tensor([ 1.2781, -0.8461,  0.0295, -0.5096]),\n",
              "  tensor([ 2.4723, -0.6064,  1.3730, -0.7844]),\n",
              "  tensor([-2.1716, -1.2070,  0.2403,  0.8219]),\n",
              "  tensor([ 0.4245,  0.6837,  0.0327, -0.8022]),\n",
              "  tensor([-1.6726,  1.4856,  0.2787, -1.3230]),\n",
              "  tensor([-0.9959,  0.1372, -0.1311,  0.1304]),\n",
              "  tensor([ 0.0226,  0.1323, -1.7454,  1.3425]),\n",
              "  tensor([1.4959, 0.3570, 1.0569, 0.3055]),\n",
              "  tensor([-0.2371,  0.0562,  1.3394,  1.3552]),\n",
              "  tensor([-2.2508,  1.2743, -0.6354,  0.4355]),\n",
              "  tensor([ 1.6620, -0.0265, -1.0091, -0.8730]),\n",
              "  tensor([ 1.7089, -1.3223, -0.9830, -0.8004]),\n",
              "  tensor([ 0.3050, -2.6482, -2.9807,  2.3182]),\n",
              "  tensor([-0.2084, -2.2624,  0.6067,  0.6120]),\n",
              "  tensor([0.5239, 1.1927, 0.4354, 0.1077]),\n",
              "  tensor([-0.1978, -0.5155, -0.1526,  0.8892]),\n",
              "  tensor([ 0.5902, -1.0622, -1.0832, -0.9455]),\n",
              "  tensor([ 1.0166,  1.1344, -0.0624,  0.4698]),\n",
              "  tensor([ 0.1484,  0.9435, -0.3378, -0.9071]),\n",
              "  tensor([-0.7818, -0.1946,  0.0872, -0.9033]),\n",
              "  tensor([ 0.1623, -0.0178, -1.5017, -1.6320]),\n",
              "  tensor([ 1.4245, -1.3851,  0.0846,  1.0299]),\n",
              "  tensor([-1.2681,  0.9035,  1.7540,  0.2238]),\n",
              "  tensor([-1.0301,  0.0263,  0.6515,  0.0476]),\n",
              "  tensor([ 0.3979, -0.5547,  0.3540,  0.5279]),\n",
              "  tensor([ 0.0078, -0.2176, -0.7079, -0.0590]),\n",
              "  tensor([-1.4615,  0.3852,  0.7507, -0.0465]),\n",
              "  tensor([-1.0991,  0.6783, -0.5104,  0.3039]),\n",
              "  tensor([ 1.7115, -0.1986,  0.1691,  0.8568]),\n",
              "  tensor([ 0.7466,  0.1911, -0.3751, -0.3093]),\n",
              "  tensor([ 0.4561,  0.0084, -0.2195, -0.1138]),\n",
              "  tensor([-0.6829,  1.0148, -0.1754, -0.1210]),\n",
              "  tensor([-0.8101,  1.1936, -0.8500,  0.8835]),\n",
              "  tensor([ 0.2631, -0.0219,  1.0376, -0.3718]),\n",
              "  tensor([ 0.6901, -0.0284, -0.0635, -0.9194]),\n",
              "  tensor([-0.1270,  0.0539,  0.4755,  0.6386]),\n",
              "  tensor([-0.3376, -1.4850, -0.4536, -1.6944]),\n",
              "  tensor([ 0.1789, -1.6950,  1.2658, -0.4225]),\n",
              "  tensor([ 1.4298, -1.1231,  0.8513,  1.3186]),\n",
              "  tensor([ 0.4717,  0.2579, -0.4376,  0.8905]),\n",
              "  tensor([ 0.1678, -0.0579,  1.1924,  0.0781]),\n",
              "  tensor([-0.5559, -0.3808,  0.4032, -0.2216]),\n",
              "  tensor([ 1.7703, -0.1588, -1.7691, -1.1706]),\n",
              "  tensor([ 0.3637, -0.6050,  1.6042,  0.5225]),\n",
              "  tensor([ 0.4605, -0.0643, -0.1745, -0.4891]),\n",
              "  tensor([-0.6120, -1.1291,  0.7897, -0.8384]),\n",
              "  tensor([ 0.6046,  0.7644,  0.0595, -0.0776]),\n",
              "  tensor([-0.1268, -0.4769,  0.9020,  0.8238]),\n",
              "  tensor([-0.6327,  0.9477, -0.9943,  0.0419]),\n",
              "  tensor([-0.2797, -0.5332, -1.2049,  0.2070]),\n",
              "  tensor([-0.5700,  1.4500, -0.1429,  0.5380]),\n",
              "  tensor([-0.3880, -1.6426,  1.1863, -0.0430]),\n",
              "  tensor([ 0.9036, -0.9261, -0.4231, -0.7787]),\n",
              "  tensor([-1.1915,  0.2262,  0.3868, -0.2455]),\n",
              "  tensor([-0.0865, -0.7487, -1.8204, -1.5244]),\n",
              "  tensor([ 0.8995, -0.0465, -3.3982, -1.5173]),\n",
              "  tensor([ 0.2625, -0.1276,  1.8656,  0.1470]),\n",
              "  tensor([-0.9825,  0.0055, -0.3894,  1.0870]),\n",
              "  tensor([-2.3110,  1.2720, -0.0063, -1.0005]),\n",
              "  tensor([ 1.5397,  0.4097,  0.8832, -0.5428]),\n",
              "  tensor([0.5597, 0.6940, 1.3248, 0.0258]),\n",
              "  tensor([-0.4195, -1.4519, -0.1160, -1.0206]),\n",
              "  tensor([ 1.3399,  0.6758, -1.1647, -0.2514]),\n",
              "  tensor([-0.0809,  0.1613,  0.9777,  0.7497]),\n",
              "  tensor([ 1.7127, -0.0316,  0.6882, -0.1118]),\n",
              "  tensor([-2.3405,  0.9664, -1.4958,  0.2988]),\n",
              "  tensor([-0.6561, -0.0558, -0.0830, -0.7176]),\n",
              "  tensor([-1.1022, -0.1237, -0.9152, -0.5407]),\n",
              "  tensor([-1.0943, -1.0354,  2.6592,  1.1899]),\n",
              "  tensor([-0.1584,  0.3230,  0.8771, -0.9416]),\n",
              "  tensor([1.3828, 0.3475, 0.1538, 0.1161]),\n",
              "  tensor([ 0.5598,  0.1574, -0.0027,  0.6157]),\n",
              "  tensor([-0.0719,  0.6528,  0.4145, -0.9164]),\n",
              "  tensor([-0.2705, -0.0018,  0.1227, -0.1650]),\n",
              "  tensor([-0.2896,  0.8555,  0.5030, -0.0474]),\n",
              "  tensor([ 0.4930,  0.1213, -0.4013, -0.7106]),\n",
              "  tensor([ 0.4584, -0.3473,  0.7607, -0.1493]),\n",
              "  tensor([-0.1676,  0.4746,  0.2137, -0.0436]),\n",
              "  tensor([-0.6228,  0.3458, -0.7874, -0.2032]),\n",
              "  tensor([ 3.5513e-04, -5.1270e-01,  7.2755e-02, -1.5258e+00]),\n",
              "  tensor([-0.4476, -1.2353, -1.0701,  0.7542]),\n",
              "  tensor([ 1.8617,  0.0787,  0.4654, -0.3058]),\n",
              "  tensor([ 0.5128,  0.4093, -0.7567, -0.6514]),\n",
              "  tensor([ 1.8379, -2.2417,  0.0414,  0.2104]),\n",
              "  tensor([-0.8072,  0.2728,  0.2676,  0.9132]),\n",
              "  tensor([-0.1975, -0.2863,  0.1997,  0.3844]),\n",
              "  tensor([ 0.2908, -0.7200,  0.3031, -0.4120]),\n",
              "  tensor([ 0.3084, -0.3682, -0.5322, -1.2273]),\n",
              "  tensor([-0.0153,  0.6615,  1.5943, -0.6632]),\n",
              "  tensor([-0.3480,  0.9225,  0.0024,  0.4919]),\n",
              "  tensor([-2.0959, -0.3691,  1.0897,  1.4316]),\n",
              "  tensor([-1.8466, -0.0590,  0.6204,  1.0260]),\n",
              "  tensor([-1.7153,  0.7770,  1.5416,  0.9095]),\n",
              "  tensor([-0.1957, -0.3373,  0.3766, -0.2455]),\n",
              "  tensor([-1.0967, -0.5547, -1.6689, -0.4263]),\n",
              "  tensor([ 0.1333, -0.8356, -0.3697,  2.1726]),\n",
              "  tensor([ 0.3581,  0.7127,  0.9603, -0.1644]),\n",
              "  tensor([-1.1608, -0.2894,  0.2051, -0.1187]),\n",
              "  tensor([-0.1296,  0.5870,  0.2272,  0.1285]),\n",
              "  tensor([-0.3572, -0.6146, -1.9205, -0.7801]),\n",
              "  tensor([ 0.4083,  0.6280, -0.4958,  0.6143]),\n",
              "  tensor([ 1.2067,  0.3389, -0.4033,  0.9339]),\n",
              "  tensor([ 0.1195, -0.1569,  0.6573, -0.5076]),\n",
              "  tensor([-0.8543, -1.6851,  1.1941, -1.8930]),\n",
              "  tensor([ 0.2604,  0.7694,  1.3547, -0.9400]),\n",
              "  tensor([ 0.7958, -0.3431,  0.3100, -2.1948]),\n",
              "  tensor([-1.4408, -0.5213, -2.3079,  1.2309]),\n",
              "  tensor([ 1.3162,  1.7676, -0.4857, -0.9595]),\n",
              "  tensor([ 1.7604, -1.8058,  0.1409,  0.9070]),\n",
              "  tensor([ 0.3837, -0.6689,  0.1333, -0.2712]),\n",
              "  tensor([-2.0616,  0.5824, -0.6698,  1.0980]),\n",
              "  tensor([ 0.6152, -0.2939,  0.0076,  0.6049]),\n",
              "  tensor([ 0.6626, -0.0365, -0.3781,  0.4111]),\n",
              "  tensor([ 0.8582, -0.0061, -0.2465,  0.0608]),\n",
              "  tensor([ 0.4668,  0.2111, -0.2491, -0.8933]),\n",
              "  tensor([ 0.4504, -1.7476,  0.9006, -0.3640]),\n",
              "  tensor([-1.1028,  0.6272, -1.8602, -1.3929]),\n",
              "  tensor([ 1.3329,  1.4965, -0.1311, -1.0052]),\n",
              "  tensor([0.5124, 0.9448, 0.3804, 0.0649]),\n",
              "  tensor([ 1.0135, -0.0228, -0.1550, -0.5245]),\n",
              "  tensor([ 0.5281, -0.7488,  0.5757, -0.2368]),\n",
              "  tensor([1.0248, 0.3405, 0.0041, 0.3233]),\n",
              "  tensor([-0.6555,  0.8935, -0.1687, -0.5052]),\n",
              "  tensor([ 0.0216, -0.2150,  0.7258,  0.3371]),\n",
              "  tensor([0.0267, 0.5672, 0.2416, 0.7460]),\n",
              "  tensor([ 0.0433, -0.8802, -0.7448, -0.6050]),\n",
              "  tensor([-0.2520,  1.2305,  0.2690,  0.4782]),\n",
              "  tensor([-0.8410, -2.3351,  0.4028,  0.6445]),\n",
              "  tensor([-0.2382,  0.8032, -0.6147, -0.3380]),\n",
              "  tensor([ 0.4176,  1.9448, -0.0692,  0.3848]),\n",
              "  tensor([-0.5051, -0.5810,  0.8900, -0.4518]),\n",
              "  tensor([-0.4273, -0.4128,  0.9597, -0.9188]),\n",
              "  tensor([-1.7433,  1.2031])],\n",
              " 1: [tensor([-0.0873,  0.1717,  1.1909, -0.0931]),\n",
              "  tensor([-1.1015,  1.7777, -0.9362,  0.1752]),\n",
              "  tensor([ 1.2781, -0.8461,  0.0295, -0.5096]),\n",
              "  tensor([ 2.4723, -0.6064,  1.3730, -0.7844]),\n",
              "  tensor([-2.1716, -1.2070,  0.2403,  0.8219]),\n",
              "  tensor([ 0.4245,  0.6837,  0.0327, -0.8022]),\n",
              "  tensor([-1.6726,  1.4856,  0.2787, -1.3230]),\n",
              "  tensor([-0.9959,  0.1372, -0.1311,  0.1304]),\n",
              "  tensor([ 0.0226,  0.1323, -1.7454,  1.3425]),\n",
              "  tensor([1.4959, 0.3570, 1.0569, 0.3055]),\n",
              "  tensor([-0.2371,  0.0562,  1.3394,  1.3552]),\n",
              "  tensor([-2.2508,  1.2743, -0.6354,  0.4355]),\n",
              "  tensor([ 1.6620, -0.0265, -1.0091, -0.8730]),\n",
              "  tensor([ 1.7089, -1.3223, -0.9830, -0.8004]),\n",
              "  tensor([ 0.3050, -2.6482, -2.9807,  2.3182]),\n",
              "  tensor([-0.2084, -2.2624,  0.6067,  0.6120]),\n",
              "  tensor([0.5239, 1.1927, 0.4354, 0.1077]),\n",
              "  tensor([-0.1978, -0.5155, -0.1526,  0.8892]),\n",
              "  tensor([ 0.5902, -1.0622, -1.0832, -0.9455]),\n",
              "  tensor([ 1.0166,  1.1344, -0.0624,  0.4698]),\n",
              "  tensor([ 0.1484,  0.9435, -0.3378, -0.9071]),\n",
              "  tensor([-0.7818, -0.1946,  0.0872, -0.9033]),\n",
              "  tensor([ 0.1623, -0.0178, -1.5017, -1.6320]),\n",
              "  tensor([ 1.4245, -1.3851,  0.0846,  1.0299]),\n",
              "  tensor([-1.2681,  0.9035,  1.7540,  0.2238]),\n",
              "  tensor([-1.0301,  0.0263,  0.6515,  0.0476]),\n",
              "  tensor([ 0.3979, -0.5547,  0.3540,  0.5279]),\n",
              "  tensor([ 0.0078, -0.2176, -0.7079, -0.0590]),\n",
              "  tensor([-1.4615,  0.3852,  0.7507, -0.0465]),\n",
              "  tensor([-1.0991,  0.6783, -0.5104,  0.3039]),\n",
              "  tensor([ 1.7115, -0.1986,  0.1691,  0.8568]),\n",
              "  tensor([ 0.7466,  0.1911, -0.3751, -0.3093]),\n",
              "  tensor([ 0.4561,  0.0084, -0.2195, -0.1138]),\n",
              "  tensor([-0.6829,  1.0148, -0.1754, -0.1210]),\n",
              "  tensor([-0.8101,  1.1936, -0.8500,  0.8835]),\n",
              "  tensor([ 0.2631, -0.0219,  1.0376, -0.3718]),\n",
              "  tensor([ 0.6901, -0.0284, -0.0635, -0.9194]),\n",
              "  tensor([-0.1270,  0.0539,  0.4755,  0.6386]),\n",
              "  tensor([-0.3376, -1.4850, -0.4536, -1.6944]),\n",
              "  tensor([ 0.1789, -1.6950,  1.2658, -0.4225]),\n",
              "  tensor([ 1.4298, -1.1231,  0.8513,  1.3186]),\n",
              "  tensor([ 0.4717,  0.2579, -0.4376,  0.8905]),\n",
              "  tensor([ 0.1678, -0.0579,  1.1924,  0.0781]),\n",
              "  tensor([-0.5559, -0.3808,  0.4032, -0.2216]),\n",
              "  tensor([ 1.7703, -0.1588, -1.7691, -1.1706]),\n",
              "  tensor([ 0.3637, -0.6050,  1.6042,  0.5225]),\n",
              "  tensor([ 0.4605, -0.0643, -0.1745, -0.4891]),\n",
              "  tensor([-0.6120, -1.1291,  0.7897, -0.8384]),\n",
              "  tensor([ 0.6046,  0.7644,  0.0595, -0.0776]),\n",
              "  tensor([-0.1268, -0.4769,  0.9020,  0.8238]),\n",
              "  tensor([-0.6327,  0.9477, -0.9943,  0.0419]),\n",
              "  tensor([-0.2797, -0.5332, -1.2049,  0.2070]),\n",
              "  tensor([-0.5700,  1.4500, -0.1429,  0.5380]),\n",
              "  tensor([-0.3880, -1.6426,  1.1863, -0.0430]),\n",
              "  tensor([ 0.9036, -0.9261, -0.4231, -0.7787]),\n",
              "  tensor([-1.1915,  0.2262,  0.3868, -0.2455]),\n",
              "  tensor([-0.0865, -0.7487, -1.8204, -1.5244]),\n",
              "  tensor([ 0.8995, -0.0465, -3.3982, -1.5173]),\n",
              "  tensor([ 0.2625, -0.1276,  1.8656,  0.1470]),\n",
              "  tensor([-0.9825,  0.0055, -0.3894,  1.0870]),\n",
              "  tensor([-2.3110,  1.2720, -0.0063, -1.0005]),\n",
              "  tensor([ 1.5397,  0.4097,  0.8832, -0.5428]),\n",
              "  tensor([0.5597, 0.6940, 1.3248, 0.0258]),\n",
              "  tensor([-0.4195, -1.4519, -0.1160, -1.0206]),\n",
              "  tensor([ 1.3399,  0.6758, -1.1647, -0.2514]),\n",
              "  tensor([-0.0809,  0.1613,  0.9777,  0.7497]),\n",
              "  tensor([ 1.7127, -0.0316,  0.6882, -0.1118]),\n",
              "  tensor([-2.3405,  0.9664, -1.4958,  0.2988]),\n",
              "  tensor([-0.6561, -0.0558, -0.0830, -0.7176]),\n",
              "  tensor([-1.1022, -0.1237, -0.9152, -0.5407]),\n",
              "  tensor([-1.0943, -1.0354,  2.6592,  1.1899]),\n",
              "  tensor([-0.1584,  0.3230,  0.8771, -0.9416]),\n",
              "  tensor([1.3828, 0.3475, 0.1538, 0.1161]),\n",
              "  tensor([ 0.5598,  0.1574, -0.0027,  0.6157]),\n",
              "  tensor([-0.0719,  0.6528,  0.4145, -0.9164]),\n",
              "  tensor([-0.2705, -0.0018,  0.1227, -0.1650]),\n",
              "  tensor([-0.2896,  0.8555,  0.5030, -0.0474]),\n",
              "  tensor([ 0.4930,  0.1213, -0.4013, -0.7106]),\n",
              "  tensor([ 0.4584, -0.3473,  0.7607, -0.1493]),\n",
              "  tensor([-0.1676,  0.4746,  0.2137, -0.0436]),\n",
              "  tensor([-0.6228,  0.3458, -0.7874, -0.2032]),\n",
              "  tensor([ 3.5513e-04, -5.1270e-01,  7.2755e-02, -1.5258e+00]),\n",
              "  tensor([-0.4476, -1.2353, -1.0701,  0.7542]),\n",
              "  tensor([ 1.8617,  0.0787,  0.4654, -0.3058]),\n",
              "  tensor([ 0.5128,  0.4093, -0.7567, -0.6514]),\n",
              "  tensor([ 1.8379, -2.2417,  0.0414,  0.2104]),\n",
              "  tensor([-0.8072,  0.2728,  0.2676,  0.9132]),\n",
              "  tensor([-0.1975, -0.2863,  0.1997,  0.3844]),\n",
              "  tensor([ 0.2908, -0.7200,  0.3031, -0.4120]),\n",
              "  tensor([ 0.3084, -0.3682, -0.5322, -1.2273]),\n",
              "  tensor([-0.0153,  0.6615,  1.5943, -0.6632]),\n",
              "  tensor([-0.3480,  0.9225,  0.0024,  0.4919]),\n",
              "  tensor([-2.0959, -0.3691,  1.0897,  1.4316]),\n",
              "  tensor([-1.8466, -0.0590,  0.6204,  1.0260]),\n",
              "  tensor([-1.7153,  0.7770,  1.5416,  0.9095]),\n",
              "  tensor([-0.1957, -0.3373,  0.3766, -0.2455]),\n",
              "  tensor([-1.0967, -0.5547, -1.6689, -0.4263]),\n",
              "  tensor([ 0.1333, -0.8356, -0.3697,  2.1726]),\n",
              "  tensor([ 0.3581,  0.7127,  0.9603, -0.1644]),\n",
              "  tensor([-1.1608, -0.2894,  0.2051, -0.1187]),\n",
              "  tensor([-0.1296,  0.5870,  0.2272,  0.1285]),\n",
              "  tensor([-0.3572, -0.6146, -1.9205, -0.7801]),\n",
              "  tensor([ 0.4083,  0.6280, -0.4958,  0.6143]),\n",
              "  tensor([ 1.2067,  0.3389, -0.4033,  0.9339]),\n",
              "  tensor([ 0.1195, -0.1569,  0.6573, -0.5076]),\n",
              "  tensor([-0.8543, -1.6851,  1.1941, -1.8930]),\n",
              "  tensor([ 0.2604,  0.7694,  1.3547, -0.9400]),\n",
              "  tensor([ 0.7958, -0.3431,  0.3100, -2.1948]),\n",
              "  tensor([-1.4408, -0.5213, -2.3079,  1.2309]),\n",
              "  tensor([ 1.3162,  1.7676, -0.4857, -0.9595]),\n",
              "  tensor([ 1.7604, -1.8058,  0.1409,  0.9070]),\n",
              "  tensor([ 0.3837, -0.6689,  0.1333, -0.2712]),\n",
              "  tensor([-2.0616,  0.5824, -0.6698,  1.0980]),\n",
              "  tensor([ 0.6152, -0.2939,  0.0076,  0.6049]),\n",
              "  tensor([ 0.6626, -0.0365, -0.3781,  0.4111]),\n",
              "  tensor([ 0.8582, -0.0061, -0.2465,  0.0608]),\n",
              "  tensor([ 0.4668,  0.2111, -0.2491, -0.8933]),\n",
              "  tensor([ 0.4504, -1.7476,  0.9006, -0.3640]),\n",
              "  tensor([-1.1028,  0.6272, -1.8602, -1.3929]),\n",
              "  tensor([ 1.3329,  1.4965, -0.1311, -1.0052]),\n",
              "  tensor([0.5124, 0.9448, 0.3804, 0.0649]),\n",
              "  tensor([ 1.0135, -0.0228, -0.1550, -0.5245]),\n",
              "  tensor([ 0.5281, -0.7488,  0.5757, -0.2368]),\n",
              "  tensor([1.0248, 0.3405, 0.0041, 0.3233]),\n",
              "  tensor([-0.6555,  0.8935, -0.1687, -0.5052]),\n",
              "  tensor([ 0.0216, -0.2150,  0.7258,  0.3371]),\n",
              "  tensor([0.0267, 0.5672, 0.2416, 0.7460]),\n",
              "  tensor([ 0.0433, -0.8802, -0.7448, -0.6050]),\n",
              "  tensor([-0.2520,  1.2305,  0.2690,  0.4782]),\n",
              "  tensor([-0.8410, -2.3351,  0.4028,  0.6445]),\n",
              "  tensor([-0.2382,  0.8032, -0.6147, -0.3380]),\n",
              "  tensor([ 0.4176,  1.9448, -0.0692,  0.3848]),\n",
              "  tensor([-0.5051, -0.5810,  0.8900, -0.4518]),\n",
              "  tensor([-0.4273, -0.4128,  0.9597, -0.9188]),\n",
              "  tensor([-1.7433,  1.2031])]}"
            ]
          },
          "metadata": {},
          "execution_count": 81
        }
      ]
    },
    {
      "cell_type": "code",
      "source": [
        "plt.plot(Y_dict[EPOCHS - 1])\n",
        "plt.plot(y_hat_dict[EPOCHS - 1], 'r')\n",
        "plt.title('Out of sample performance')\n",
        "plt.show()"
      ],
      "metadata": {
        "id": "RFn07aqCaU3T",
        "colab": {
          "base_uri": "https://localhost:8080/",
          "height": 705
        },
        "outputId": "5cfe5df2-cbeb-44ac-dc6b-857af4248be5"
      },
      "execution_count": null,
      "outputs": [
        {
          "output_type": "stream",
          "name": "stderr",
          "text": [
            "/usr/local/lib/python3.7/dist-packages/numpy/core/shape_base.py:65: FutureWarning: The input object of type 'Tensor' is an array-like implementing one of the corresponding protocols (`__array__`, `__array_interface__` or `__array_struct__`); but not a sequence (or 0-D). In the future, this object will be coerced as if it was first converted using `np.array(obj)`. To retain the old behaviour, you have to either modify the type 'Tensor', or assign to an empty array created with `np.empty(correct_shape, dtype=object)`.\n",
            "  ary = asanyarray(ary)\n",
            "/usr/local/lib/python3.7/dist-packages/numpy/core/shape_base.py:65: VisibleDeprecationWarning: Creating an ndarray from ragged nested sequences (which is a list-or-tuple of lists-or-tuples-or ndarrays with different lengths or shapes) is deprecated. If you meant to do this, you must specify 'dtype=object' when creating the ndarray.\n",
            "  ary = asanyarray(ary)\n"
          ]
        },
        {
          "output_type": "error",
          "ename": "ValueError",
          "evalue": "ignored",
          "traceback": [
            "\u001b[0;31m---------------------------------------------------------------------------\u001b[0m",
            "\u001b[0;31mValueError\u001b[0m                                Traceback (most recent call last)",
            "\u001b[0;32m<ipython-input-80-d03188e3decc>\u001b[0m in \u001b[0;36m<module>\u001b[0;34m\u001b[0m\n\u001b[0;32m----> 1\u001b[0;31m \u001b[0mplt\u001b[0m\u001b[0;34m.\u001b[0m\u001b[0mplot\u001b[0m\u001b[0;34m(\u001b[0m\u001b[0mY_dict\u001b[0m\u001b[0;34m[\u001b[0m\u001b[0mEPOCHS\u001b[0m \u001b[0;34m-\u001b[0m \u001b[0;36m1\u001b[0m\u001b[0;34m]\u001b[0m\u001b[0;34m)\u001b[0m\u001b[0;34m\u001b[0m\u001b[0;34m\u001b[0m\u001b[0m\n\u001b[0m\u001b[1;32m      2\u001b[0m \u001b[0mplt\u001b[0m\u001b[0;34m.\u001b[0m\u001b[0mplot\u001b[0m\u001b[0;34m(\u001b[0m\u001b[0my_hat_dict\u001b[0m\u001b[0;34m[\u001b[0m\u001b[0mEPOCHS\u001b[0m \u001b[0;34m-\u001b[0m \u001b[0;36m1\u001b[0m\u001b[0;34m]\u001b[0m\u001b[0;34m,\u001b[0m \u001b[0;34m'r'\u001b[0m\u001b[0;34m)\u001b[0m\u001b[0;34m\u001b[0m\u001b[0;34m\u001b[0m\u001b[0m\n\u001b[1;32m      3\u001b[0m \u001b[0mplt\u001b[0m\u001b[0;34m.\u001b[0m\u001b[0mtitle\u001b[0m\u001b[0;34m(\u001b[0m\u001b[0;34m'Out of sample performance'\u001b[0m\u001b[0;34m)\u001b[0m\u001b[0;34m\u001b[0m\u001b[0;34m\u001b[0m\u001b[0m\n\u001b[1;32m      4\u001b[0m \u001b[0mplt\u001b[0m\u001b[0;34m.\u001b[0m\u001b[0mshow\u001b[0m\u001b[0;34m(\u001b[0m\u001b[0;34m)\u001b[0m\u001b[0;34m\u001b[0m\u001b[0;34m\u001b[0m\u001b[0m\n",
            "\u001b[0;32m/usr/local/lib/python3.7/dist-packages/matplotlib/pyplot.py\u001b[0m in \u001b[0;36mplot\u001b[0;34m(scalex, scaley, data, *args, **kwargs)\u001b[0m\n\u001b[1;32m   2761\u001b[0m     return gca().plot(\n\u001b[1;32m   2762\u001b[0m         *args, scalex=scalex, scaley=scaley, **({\"data\": data} if data\n\u001b[0;32m-> 2763\u001b[0;31m         is not None else {}), **kwargs)\n\u001b[0m\u001b[1;32m   2764\u001b[0m \u001b[0;34m\u001b[0m\u001b[0m\n\u001b[1;32m   2765\u001b[0m \u001b[0;34m\u001b[0m\u001b[0m\n",
            "\u001b[0;32m/usr/local/lib/python3.7/dist-packages/matplotlib/axes/_axes.py\u001b[0m in \u001b[0;36mplot\u001b[0;34m(self, scalex, scaley, data, *args, **kwargs)\u001b[0m\n\u001b[1;32m   1647\u001b[0m         \u001b[0mlines\u001b[0m \u001b[0;34m=\u001b[0m \u001b[0;34m[\u001b[0m\u001b[0;34m*\u001b[0m\u001b[0mself\u001b[0m\u001b[0;34m.\u001b[0m\u001b[0m_get_lines\u001b[0m\u001b[0;34m(\u001b[0m\u001b[0;34m*\u001b[0m\u001b[0margs\u001b[0m\u001b[0;34m,\u001b[0m \u001b[0mdata\u001b[0m\u001b[0;34m=\u001b[0m\u001b[0mdata\u001b[0m\u001b[0;34m,\u001b[0m \u001b[0;34m**\u001b[0m\u001b[0mkwargs\u001b[0m\u001b[0;34m)\u001b[0m\u001b[0;34m]\u001b[0m\u001b[0;34m\u001b[0m\u001b[0;34m\u001b[0m\u001b[0m\n\u001b[1;32m   1648\u001b[0m         \u001b[0;32mfor\u001b[0m \u001b[0mline\u001b[0m \u001b[0;32min\u001b[0m \u001b[0mlines\u001b[0m\u001b[0;34m:\u001b[0m\u001b[0;34m\u001b[0m\u001b[0;34m\u001b[0m\u001b[0m\n\u001b[0;32m-> 1649\u001b[0;31m             \u001b[0mself\u001b[0m\u001b[0;34m.\u001b[0m\u001b[0madd_line\u001b[0m\u001b[0;34m(\u001b[0m\u001b[0mline\u001b[0m\u001b[0;34m)\u001b[0m\u001b[0;34m\u001b[0m\u001b[0;34m\u001b[0m\u001b[0m\n\u001b[0m\u001b[1;32m   1650\u001b[0m         \u001b[0mself\u001b[0m\u001b[0;34m.\u001b[0m\u001b[0m_request_autoscale_view\u001b[0m\u001b[0;34m(\u001b[0m\u001b[0mscalex\u001b[0m\u001b[0;34m=\u001b[0m\u001b[0mscalex\u001b[0m\u001b[0;34m,\u001b[0m \u001b[0mscaley\u001b[0m\u001b[0;34m=\u001b[0m\u001b[0mscaley\u001b[0m\u001b[0;34m)\u001b[0m\u001b[0;34m\u001b[0m\u001b[0;34m\u001b[0m\u001b[0m\n\u001b[1;32m   1651\u001b[0m         \u001b[0;32mreturn\u001b[0m \u001b[0mlines\u001b[0m\u001b[0;34m\u001b[0m\u001b[0;34m\u001b[0m\u001b[0m\n",
            "\u001b[0;32m/usr/local/lib/python3.7/dist-packages/matplotlib/axes/_base.py\u001b[0m in \u001b[0;36madd_line\u001b[0;34m(self, line)\u001b[0m\n\u001b[1;32m   1848\u001b[0m             \u001b[0mline\u001b[0m\u001b[0;34m.\u001b[0m\u001b[0mset_clip_path\u001b[0m\u001b[0;34m(\u001b[0m\u001b[0mself\u001b[0m\u001b[0;34m.\u001b[0m\u001b[0mpatch\u001b[0m\u001b[0;34m)\u001b[0m\u001b[0;34m\u001b[0m\u001b[0;34m\u001b[0m\u001b[0m\n\u001b[1;32m   1849\u001b[0m \u001b[0;34m\u001b[0m\u001b[0m\n\u001b[0;32m-> 1850\u001b[0;31m         \u001b[0mself\u001b[0m\u001b[0;34m.\u001b[0m\u001b[0m_update_line_limits\u001b[0m\u001b[0;34m(\u001b[0m\u001b[0mline\u001b[0m\u001b[0;34m)\u001b[0m\u001b[0;34m\u001b[0m\u001b[0;34m\u001b[0m\u001b[0m\n\u001b[0m\u001b[1;32m   1851\u001b[0m         \u001b[0;32mif\u001b[0m \u001b[0;32mnot\u001b[0m \u001b[0mline\u001b[0m\u001b[0;34m.\u001b[0m\u001b[0mget_label\u001b[0m\u001b[0;34m(\u001b[0m\u001b[0;34m)\u001b[0m\u001b[0;34m:\u001b[0m\u001b[0;34m\u001b[0m\u001b[0;34m\u001b[0m\u001b[0m\n\u001b[1;32m   1852\u001b[0m             \u001b[0mline\u001b[0m\u001b[0;34m.\u001b[0m\u001b[0mset_label\u001b[0m\u001b[0;34m(\u001b[0m\u001b[0;34m'_line%d'\u001b[0m \u001b[0;34m%\u001b[0m \u001b[0mlen\u001b[0m\u001b[0;34m(\u001b[0m\u001b[0mself\u001b[0m\u001b[0;34m.\u001b[0m\u001b[0mlines\u001b[0m\u001b[0;34m)\u001b[0m\u001b[0;34m)\u001b[0m\u001b[0;34m\u001b[0m\u001b[0;34m\u001b[0m\u001b[0m\n",
            "\u001b[0;32m/usr/local/lib/python3.7/dist-packages/matplotlib/axes/_base.py\u001b[0m in \u001b[0;36m_update_line_limits\u001b[0;34m(self, line)\u001b[0m\n\u001b[1;32m   1870\u001b[0m         \u001b[0mFigures\u001b[0m \u001b[0mout\u001b[0m \u001b[0mthe\u001b[0m \u001b[0mdata\u001b[0m \u001b[0mlimit\u001b[0m \u001b[0mof\u001b[0m \u001b[0mthe\u001b[0m \u001b[0mgiven\u001b[0m \u001b[0mline\u001b[0m\u001b[0;34m,\u001b[0m \u001b[0mupdating\u001b[0m \u001b[0mself\u001b[0m\u001b[0;34m.\u001b[0m\u001b[0mdataLim\u001b[0m\u001b[0;34m.\u001b[0m\u001b[0;34m\u001b[0m\u001b[0;34m\u001b[0m\u001b[0m\n\u001b[1;32m   1871\u001b[0m         \"\"\"\n\u001b[0;32m-> 1872\u001b[0;31m         \u001b[0mpath\u001b[0m \u001b[0;34m=\u001b[0m \u001b[0mline\u001b[0m\u001b[0;34m.\u001b[0m\u001b[0mget_path\u001b[0m\u001b[0;34m(\u001b[0m\u001b[0;34m)\u001b[0m\u001b[0;34m\u001b[0m\u001b[0;34m\u001b[0m\u001b[0m\n\u001b[0m\u001b[1;32m   1873\u001b[0m         \u001b[0;32mif\u001b[0m \u001b[0mpath\u001b[0m\u001b[0;34m.\u001b[0m\u001b[0mvertices\u001b[0m\u001b[0;34m.\u001b[0m\u001b[0msize\u001b[0m \u001b[0;34m==\u001b[0m \u001b[0;36m0\u001b[0m\u001b[0;34m:\u001b[0m\u001b[0;34m\u001b[0m\u001b[0;34m\u001b[0m\u001b[0m\n\u001b[1;32m   1874\u001b[0m             \u001b[0;32mreturn\u001b[0m\u001b[0;34m\u001b[0m\u001b[0;34m\u001b[0m\u001b[0m\n",
            "\u001b[0;32m/usr/local/lib/python3.7/dist-packages/matplotlib/lines.py\u001b[0m in \u001b[0;36mget_path\u001b[0;34m(self)\u001b[0m\n\u001b[1;32m   1025\u001b[0m         \"\"\"\n\u001b[1;32m   1026\u001b[0m         \u001b[0;32mif\u001b[0m \u001b[0mself\u001b[0m\u001b[0;34m.\u001b[0m\u001b[0m_invalidy\u001b[0m \u001b[0;32mor\u001b[0m \u001b[0mself\u001b[0m\u001b[0;34m.\u001b[0m\u001b[0m_invalidx\u001b[0m\u001b[0;34m:\u001b[0m\u001b[0;34m\u001b[0m\u001b[0;34m\u001b[0m\u001b[0m\n\u001b[0;32m-> 1027\u001b[0;31m             \u001b[0mself\u001b[0m\u001b[0;34m.\u001b[0m\u001b[0mrecache\u001b[0m\u001b[0;34m(\u001b[0m\u001b[0;34m)\u001b[0m\u001b[0;34m\u001b[0m\u001b[0;34m\u001b[0m\u001b[0m\n\u001b[0m\u001b[1;32m   1028\u001b[0m         \u001b[0;32mreturn\u001b[0m \u001b[0mself\u001b[0m\u001b[0;34m.\u001b[0m\u001b[0m_path\u001b[0m\u001b[0;34m\u001b[0m\u001b[0;34m\u001b[0m\u001b[0m\n\u001b[1;32m   1029\u001b[0m \u001b[0;34m\u001b[0m\u001b[0m\n",
            "\u001b[0;32m/usr/local/lib/python3.7/dist-packages/matplotlib/lines.py\u001b[0m in \u001b[0;36mrecache\u001b[0;34m(self, always)\u001b[0m\n\u001b[1;32m    673\u001b[0m         \u001b[0;32mif\u001b[0m \u001b[0malways\u001b[0m \u001b[0;32mor\u001b[0m \u001b[0mself\u001b[0m\u001b[0;34m.\u001b[0m\u001b[0m_invalidy\u001b[0m\u001b[0;34m:\u001b[0m\u001b[0;34m\u001b[0m\u001b[0;34m\u001b[0m\u001b[0m\n\u001b[1;32m    674\u001b[0m             \u001b[0myconv\u001b[0m \u001b[0;34m=\u001b[0m \u001b[0mself\u001b[0m\u001b[0;34m.\u001b[0m\u001b[0mconvert_yunits\u001b[0m\u001b[0;34m(\u001b[0m\u001b[0mself\u001b[0m\u001b[0;34m.\u001b[0m\u001b[0m_yorig\u001b[0m\u001b[0;34m)\u001b[0m\u001b[0;34m\u001b[0m\u001b[0;34m\u001b[0m\u001b[0m\n\u001b[0;32m--> 675\u001b[0;31m             \u001b[0my\u001b[0m \u001b[0;34m=\u001b[0m \u001b[0m_to_unmasked_float_array\u001b[0m\u001b[0;34m(\u001b[0m\u001b[0myconv\u001b[0m\u001b[0;34m)\u001b[0m\u001b[0;34m.\u001b[0m\u001b[0mravel\u001b[0m\u001b[0;34m(\u001b[0m\u001b[0;34m)\u001b[0m\u001b[0;34m\u001b[0m\u001b[0;34m\u001b[0m\u001b[0m\n\u001b[0m\u001b[1;32m    676\u001b[0m         \u001b[0;32melse\u001b[0m\u001b[0;34m:\u001b[0m\u001b[0;34m\u001b[0m\u001b[0;34m\u001b[0m\u001b[0m\n\u001b[1;32m    677\u001b[0m             \u001b[0my\u001b[0m \u001b[0;34m=\u001b[0m \u001b[0mself\u001b[0m\u001b[0;34m.\u001b[0m\u001b[0m_y\u001b[0m\u001b[0;34m\u001b[0m\u001b[0;34m\u001b[0m\u001b[0m\n",
            "\u001b[0;32m/usr/local/lib/python3.7/dist-packages/matplotlib/cbook/__init__.py\u001b[0m in \u001b[0;36m_to_unmasked_float_array\u001b[0;34m(x)\u001b[0m\n\u001b[1;32m   1315\u001b[0m         \u001b[0;32mreturn\u001b[0m \u001b[0mnp\u001b[0m\u001b[0;34m.\u001b[0m\u001b[0mma\u001b[0m\u001b[0;34m.\u001b[0m\u001b[0masarray\u001b[0m\u001b[0;34m(\u001b[0m\u001b[0mx\u001b[0m\u001b[0;34m,\u001b[0m \u001b[0mfloat\u001b[0m\u001b[0;34m)\u001b[0m\u001b[0;34m.\u001b[0m\u001b[0mfilled\u001b[0m\u001b[0;34m(\u001b[0m\u001b[0mnp\u001b[0m\u001b[0;34m.\u001b[0m\u001b[0mnan\u001b[0m\u001b[0;34m)\u001b[0m\u001b[0;34m\u001b[0m\u001b[0;34m\u001b[0m\u001b[0m\n\u001b[1;32m   1316\u001b[0m     \u001b[0;32melse\u001b[0m\u001b[0;34m:\u001b[0m\u001b[0;34m\u001b[0m\u001b[0;34m\u001b[0m\u001b[0m\n\u001b[0;32m-> 1317\u001b[0;31m         \u001b[0;32mreturn\u001b[0m \u001b[0mnp\u001b[0m\u001b[0;34m.\u001b[0m\u001b[0masarray\u001b[0m\u001b[0;34m(\u001b[0m\u001b[0mx\u001b[0m\u001b[0;34m,\u001b[0m \u001b[0mfloat\u001b[0m\u001b[0;34m)\u001b[0m\u001b[0;34m\u001b[0m\u001b[0;34m\u001b[0m\u001b[0m\n\u001b[0m\u001b[1;32m   1318\u001b[0m \u001b[0;34m\u001b[0m\u001b[0m\n\u001b[1;32m   1319\u001b[0m \u001b[0;34m\u001b[0m\u001b[0m\n",
            "\u001b[0;31mValueError\u001b[0m: only one element tensors can be converted to Python scalars"
          ]
        },
        {
          "output_type": "display_data",
          "data": {
            "text/plain": [
              "<Figure size 432x288 with 1 Axes>"
            ],
            "image/png": "[encoded data removed]"
          },
          "metadata": {
            "needs_background": "light"
          }
        }
      ]
    },
    {
      "cell_type": "code",
      "source": [
        "plt.plot(in_sample_Y_dict[EPOCHS - 1])\n",
        "plt.plot(in_sample_y_hat_dict[EPOCHS - 1], 'r')\n",
        "plt.title('In sample performance')\n",
        "plt.show()"
      ],
      "metadata": {
        "id": "zHjhl2UXSJzN"
      },
      "execution_count": null,
      "outputs": []
    },
    {
      "cell_type": "code",
      "source": [
        "pearsonr(Y_dict[EPOCHS - 1], y_hat_dict[EPOCHS - 1])"
      ],
      "metadata": {
        "id": "EaS3TwYISiRQ"
      },
      "execution_count": null,
      "outputs": []
    },
    {
      "cell_type": "code",
      "source": [
        "pearsonr(in_sample_Y_dict[EPOCHS - 1], in_sample_y_hat_dict[EPOCHS - 1])"
      ],
      "metadata": {
        "id": "FODtmziLSs-v"
      },
      "execution_count": null,
      "outputs": []
    },
    {
      "cell_type": "code",
      "source": [
        "spearmanr(Y_dict[EPOCHS - 1], y_hat_dict[EPOCHS - 1])"
      ],
      "metadata": {
        "id": "B0w6W1vWSwgk"
      },
      "execution_count": null,
      "outputs": []
    },
    {
      "cell_type": "code",
      "source": [
        "spearmanr(in_sample_Y_dict[EPOCHS - 1], in_sample_y_hat_dict[EPOCHS - 1])"
      ],
      "metadata": {
        "id": "BiabhZ3cSzWP"
      },
      "execution_count": null,
      "outputs": []
    },
    {
      "cell_type": "code",
      "source": [
        "Y_dict[9]"
      ],
      "metadata": {
        "id": "i8kjh2XqxkwQ"
      },
      "execution_count": null,
      "outputs": []
    },
    {
      "cell_type": "code",
      "source": [
        "y_hat_dict[9]"
      ],
      "metadata": {
        "id": "r92GjPXUxuqn"
      },
      "execution_count": null,
      "outputs": []
    },
    {
      "cell_type": "code",
      "source": [
        "plt.rcParams.update({'figure.figsize': (17,3), 'figure.dpi': 300})\n",
        "plt.plot(Y_dict[EPOCHS - 1])\n",
        "plt.plot(y_hat_dict[EPOCHS - 1] * 10, 'r')\n",
        "plt.title('Rescaled out of sample performance')\n",
        "plt.show()"
      ],
      "metadata": {
        "id": "okEKDv9YS3y-"
      },
      "execution_count": null,
      "outputs": []
    },
    {
      "cell_type": "code",
      "source": [
        "plt.plot(in_sample_Y_dict[EPOCHS - 1])\n",
        "plt.plot(in_sample_y_hat_dict[EPOCHS - 1] * 10, 'r')\n",
        "plt.title('Rescaled in sample performance')\n",
        "plt.show()"
      ],
      "metadata": {
        "id": "eb6EyPGBS7ov"
      },
      "execution_count": null,
      "outputs": []
    },
    {
      "cell_type": "code",
      "source": [
        "plt.plot(Y_dict[EPOCHS - 1], y_hat_dict[EPOCHS - 1] * 10, linestyle=\"\", marker=\"o\")\n"
      ],
      "metadata": {
        "id": "-wLJadsQS_B6"
      },
      "execution_count": null,
      "outputs": []
    },
    {
      "cell_type": "code",
      "source": [
        "plt.plot(Y_dict[EPOCHS-1][:100])\n",
        "plt.plot(y_hat_dict[EPOCHS-1][:100] * 50, 'r--')\n",
        "plt.show()"
      ],
      "metadata": {
        "id": "vUvvWl1rTQsl"
      },
      "execution_count": null,
      "outputs": []
    },
    {
      "cell_type": "code",
      "source": [
        "X.shape[0]"
      ],
      "metadata": {
        "id": "Hr5pXr6lTkAI"
      },
      "execution_count": null,
      "outputs": []
    },
    {
      "cell_type": "code",
      "source": [
        "math.ceil(Y.shape[0] / BATCH_SIZE)"
      ],
      "metadata": {
        "id": "srUkR7CValQf"
      },
      "execution_count": null,
      "outputs": []
    },
    {
      "cell_type": "code",
      "source": [
        "Y.shape[0] / BATCH_SIZE"
      ],
      "metadata": {
        "id": "gMh1nPI6atTM"
      },
      "execution_count": null,
      "outputs": []
    },
    {
      "cell_type": "code",
      "source": [],
      "metadata": {
        "id": "SUvdcv8bawrt"
      },
      "execution_count": null,
      "outputs": []
    },
    {
      "cell_type": "code",
      "source": [
        "################## NOT USED -- BETTER VERSION ABOVE ###############\n",
        "y_hat_dict = {}\n",
        "Y_dict = {}\n",
        "\n",
        "in_sample_Y_dict = {}\n",
        "in_sample_y_hat_dict = {}\n",
        "print(X.shape)\n",
        "print(X)\n",
        "for ep in range(EPOCHS):\n",
        "  epoch_training_loss = 0.0\n",
        "  for i in range(WINDOW_SIZE):\n",
        "    print(f\"i:{i}\")\n",
        "    X = train_df[:(7000- WINDOW_SIZE)][[\"ScaledVolatility\", \"ScaledReturn\", \"ScaledVolume\"]].values\n",
        "    print(X.shape)\n",
        "    Y = train_df[WINDOW_SIZE:][\"ScaledReturn\"].values\n",
        "\n",
        "    ## make it divisible by window size\n",
        "    num_to_unpack = math.floor(X.shape[0]/WINDOW_SIZE)\n",
        "    print(f\"num_to_unpack:{num_to_unpack}\")\n",
        "    start_idx = X.shape[0] - num_to_unpack * WINDOW_SIZE\n",
        "    print(f\"start_idx:{start_idx}\")\n",
        "    X = X[start_idx:]\n",
        "    Y = Y[start_idx:]\n",
        "\n",
        "    print(f\"WINDOW_SIZE-i: {WINDOW_SIZE-i}\")\n",
        "    X = X[i: -(WINDOW_SIZE-i)]\n",
        "    #print(X)\n",
        "    Y = Y[i: -(WINDOW_SIZE-i)]\n",
        "    print(X.shape)\n",
        "    X = np.expand_dims(X, axis = 1)\n",
        "\n",
        "    ##np.split(x, [2])\n",
        "    ##x= [1,2,3,4]\n",
        "    ##[1,2] [3,4]\n",
        "    X = np.split(X, X.shape[0]/WINDOW_SIZE, axis = 0)\n",
        "    X = np.concatenate(X, axis = 1)\n",
        "\n",
        "    ##Y[start:stop:step]\n",
        "    Y = Y[::WINDOW_SIZE]\n",
        "\n",
        "    ##TRAINING\n",
        "    ## now we batch it and run a sess\n",
        "    for j in range(math.ceil(Y.shape[0] / BATCH_SIZE)):\n",
        "      ll = BATCH_SIZE * j\n",
        "      ul = BATCH_SIZE * (j + 1)\n",
        "\n",
        "      if ul > X.shape[1]:\n",
        "        ul = X.shape[1] - 1\n",
        "        ll = X.shape[1] - BATCH_SIZE\n",
        "      \n",
        "      training_loss, _, y_hat = sess.run([loss, train_step, output],\n",
        "                                  feed_dict = {\n",
        "                                      Xinp: X[:, ll:ul, :], Yinp: Y[ll:ul]\n",
        "                                  })\n",
        "      epoch_training_loss += training_loss          \n",
        "      \n",
        "      in_sample_Y_dict[ep]     = Y[ll:ul] ## notice this will only net us the last part of data trained on\n",
        "      in_sample_y_hat_dict[ep] = y_hat\n",
        "        \n",
        "    ## TESTING\n",
        "    X = test_df[:(test_df.shape[0] - WINDOW_SIZE)][[\"ScaledVolatility\", \"ScaledReturn\", \"ScaledVolume\"]].values\n",
        "    Y = test_df[WINDOW_SIZE:][\"ScaledReturn\"].values\n",
        "    num_to_unpack = math.floor(X.shape[0] / WINDOW_SIZE)\n",
        "    start_idx = X.shape[0] - num_to_unpack * WINDOW_SIZE\n",
        "    X = X[start_idx:] ## better to throw away beginning than end of training period when must delete\n",
        "    Y = Y[start_idx:]                              \n",
        "    \n",
        "    X = np.expand_dims(X, axis = 1)\n",
        "    X = np.split(X, X.shape[0]/WINDOW_SIZE, axis = 0)\n",
        "    X = np.concatenate(X, axis = 1)\n",
        "\n",
        "    #Y[start:stop:step]\n",
        "    Y = Y[::WINDOW_SIZE]\n",
        "    testing_loss, y_hat = sess.run([loss, output],\n",
        "                              feed_dict = { Xinp: X, Yinp: Y })\n",
        "    ## nb this is not great. we should really have a validation loss apart from testing\n",
        "    \n",
        "  print(\"Epoch: %d   Training loss: %0.2f   Testing loss %0.2f:\" % (ep, epoch_training_loss, testing_loss))\n",
        "  Y_dict[ep] = Y\n",
        "  y_hat_dict[ep] = y_hat\n"
      ],
      "metadata": {
        "id": "W2Grz63zFTgf"
      },
      "execution_count": null,
      "outputs": []
    }
  ]
}