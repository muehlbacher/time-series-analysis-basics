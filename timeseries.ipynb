{
  "nbformat": 4,
  "nbformat_minor": 0,
  "metadata": {
    "colab": {
      "provenance": [],
      "collapsed_sections": [],
      "machine_shape": "hm",
      "authorship_tag": "ABX9TyNHkL64HSAhrtdiFrnHrkFY",
      "include_colab_link": true
    },
    "kernelspec": {
      "name": "python3",
      "display_name": "Python 3"
    },
    "language_info": {
      "name": "python"
    },
    "accelerator": "TPU",
    "gpuClass": "standard"
  },
  "cells": [
    {
      "cell_type": "markdown",
      "metadata": {
        "id": "view-in-github",
        "colab_type": "text"
      },
      "source": [
        "<a href=\"https://colab.research.google.com/github/muehlbacher/time-series-analysis-basics/blob/main/timeseries.ipynb\" target=\"_parent\"><img src=\"https://colab.research.google.com/assets/colab-badge.svg\" alt=\"Open In Colab\"/></a>"
      ]
    },
    {
      "cell_type": "code",
      "source": [
        "!pip install yfinance"
      ],
      "metadata": {
        "colab": {
          "base_uri": "https://localhost:8080/"
        },
        "id": "KiKfVon7-ibM",
        "outputId": "4e52fa03-7037-4878-cc39-155ec2b03471"
      },
      "execution_count": null,
      "outputs": [
        {
          "output_type": "stream",
          "name": "stdout",
          "text": [
            "Looking in indexes: https://pypi.org/simple, https://us-python.pkg.dev/colab-wheels/public/simple/\n",
            "Collecting yfinance\n",
            "  Downloading yfinance-0.1.74-py2.py3-none-any.whl (27 kB)\n",
            "Requirement already satisfied: multitasking>=0.0.7 in /usr/local/lib/python3.7/dist-packages (from yfinance) (0.0.11)\n",
            "Requirement already satisfied: pandas>=0.24.0 in /usr/local/lib/python3.7/dist-packages (from yfinance) (1.3.5)\n",
            "Requirement already satisfied: lxml>=4.5.1 in /usr/local/lib/python3.7/dist-packages (from yfinance) (4.9.1)\n",
            "Requirement already satisfied: numpy>=1.15 in /usr/local/lib/python3.7/dist-packages (from yfinance) (1.21.6)\n",
            "Collecting requests>=2.26\n",
            "  Downloading requests-2.28.1-py3-none-any.whl (62 kB)\n",
            "\u001b[K     |████████████████████████████████| 62 kB 1.4 MB/s \n",
            "\u001b[?25hRequirement already satisfied: python-dateutil>=2.7.3 in /usr/local/lib/python3.7/dist-packages (from pandas>=0.24.0->yfinance) (2.8.2)\n",
            "Requirement already satisfied: pytz>=2017.3 in /usr/local/lib/python3.7/dist-packages (from pandas>=0.24.0->yfinance) (2022.2.1)\n",
            "Requirement already satisfied: six>=1.5 in /usr/local/lib/python3.7/dist-packages (from python-dateutil>=2.7.3->pandas>=0.24.0->yfinance) (1.15.0)\n",
            "Requirement already satisfied: charset-normalizer<3,>=2 in /usr/local/lib/python3.7/dist-packages (from requests>=2.26->yfinance) (2.1.1)\n",
            "Requirement already satisfied: urllib3<1.27,>=1.21.1 in /usr/local/lib/python3.7/dist-packages (from requests>=2.26->yfinance) (1.24.3)\n",
            "Requirement already satisfied: idna<4,>=2.5 in /usr/local/lib/python3.7/dist-packages (from requests>=2.26->yfinance) (2.10)\n",
            "Requirement already satisfied: certifi>=2017.4.17 in /usr/local/lib/python3.7/dist-packages (from requests>=2.26->yfinance) (2022.6.15)\n",
            "Installing collected packages: requests, yfinance\n",
            "  Attempting uninstall: requests\n",
            "    Found existing installation: requests 2.23.0\n",
            "    Uninstalling requests-2.23.0:\n",
            "      Successfully uninstalled requests-2.23.0\n",
            "Successfully installed requests-2.28.1 yfinance-0.1.74\n"
          ]
        }
      ]
    },
    {
      "cell_type": "code",
      "execution_count": null,
      "metadata": {
        "id": "fEMK2m5d-eNU"
      },
      "outputs": [],
      "source": [
        "import numpy as np\n",
        "import yfinance as yf\n",
        "import matplotlib.pyplot as plt\n",
        "import tensorflow as tf\n",
        "import tensorflow.compat.v1 as tf1\n",
        "import math\n",
        "from scipy.stats import pearsonr, spearmanr"
      ]
    },
    {
      "cell_type": "code",
      "source": [
        "df = yf.download('^GSPC','1990-01-01','2020-01-01')"
      ],
      "metadata": {
        "colab": {
          "base_uri": "https://localhost:8080/"
        },
        "id": "OU-Zu0nc-h6B",
        "outputId": "ab7bbab6-bdfe-41c0-b695-bdea9b86c59f"
      },
      "execution_count": null,
      "outputs": [
        {
          "output_type": "stream",
          "name": "stdout",
          "text": [
            "\r[*********************100%***********************]  1 of 1 completed\n"
          ]
        }
      ]
    },
    {
      "cell_type": "code",
      "source": [
        "df"
      ],
      "metadata": {
        "colab": {
          "base_uri": "https://localhost:8080/",
          "height": 455
        },
        "id": "AV2TIcis-teM",
        "outputId": "4a48d18c-e06b-4e27-ee66-5710c9cf7e32"
      },
      "execution_count": null,
      "outputs": [
        {
          "output_type": "execute_result",
          "data": {
            "text/plain": [
              "                   Open         High          Low        Close    Adj Close  \\\n",
              "Date                                                                          \n",
              "1990-01-02   353.399994   359.690002   351.980011   359.690002   359.690002   \n",
              "1990-01-03   359.690002   360.589996   357.890015   358.760010   358.760010   \n",
              "1990-01-04   358.760010   358.760010   352.890015   355.670013   355.670013   \n",
              "1990-01-05   355.670013   355.670013   351.350006   352.200012   352.200012   \n",
              "1990-01-08   352.200012   354.239990   350.540009   353.790009   353.790009   \n",
              "...                 ...          ...          ...          ...          ...   \n",
              "2019-12-24  3225.449951  3226.429932  3220.510010  3223.379883  3223.379883   \n",
              "2019-12-26  3227.199951  3240.080078  3227.199951  3239.909912  3239.909912   \n",
              "2019-12-27  3247.229980  3247.929932  3234.370117  3240.020020  3240.020020   \n",
              "2019-12-30  3240.090088  3240.919922  3216.570068  3221.290039  3221.290039   \n",
              "2019-12-31  3215.179932  3231.719971  3212.030029  3230.780029  3230.780029   \n",
              "\n",
              "                Volume  \n",
              "Date                    \n",
              "1990-01-02   162070000  \n",
              "1990-01-03   192330000  \n",
              "1990-01-04   177000000  \n",
              "1990-01-05   158530000  \n",
              "1990-01-08   140110000  \n",
              "...                ...  \n",
              "2019-12-24  1296540000  \n",
              "2019-12-26  2160680000  \n",
              "2019-12-27  2428670000  \n",
              "2019-12-30  3013290000  \n",
              "2019-12-31  2893810000  \n",
              "\n",
              "[7559 rows x 6 columns]"
            ],
            "text/html": [
              "\n",
              "  <div id=\"df-43915ec8-bf6e-41e2-a753-95b896b759b6\">\n",
              "    <div class=\"colab-df-container\">\n",
              "      <div>\n",
              "<style scoped>\n",
              "    .dataframe tbody tr th:only-of-type {\n",
              "        vertical-align: middle;\n",
              "    }\n",
              "\n",
              "    .dataframe tbody tr th {\n",
              "        vertical-align: top;\n",
              "    }\n",
              "\n",
              "    .dataframe thead th {\n",
              "        text-align: right;\n",
              "    }\n",
              "</style>\n",
              "<table border=\"1\" class=\"dataframe\">\n",
              "  <thead>\n",
              "    <tr style=\"text-align: right;\">\n",
              "      <th></th>\n",
              "      <th>Open</th>\n",
              "      <th>High</th>\n",
              "      <th>Low</th>\n",
              "      <th>Close</th>\n",
              "      <th>Adj Close</th>\n",
              "      <th>Volume</th>\n",
              "    </tr>\n",
              "    <tr>\n",
              "      <th>Date</th>\n",
              "      <th></th>\n",
              "      <th></th>\n",
              "      <th></th>\n",
              "      <th></th>\n",
              "      <th></th>\n",
              "      <th></th>\n",
              "    </tr>\n",
              "  </thead>\n",
              "  <tbody>\n",
              "    <tr>\n",
              "      <th>1990-01-02</th>\n",
              "      <td>353.399994</td>\n",
              "      <td>359.690002</td>\n",
              "      <td>351.980011</td>\n",
              "      <td>359.690002</td>\n",
              "      <td>359.690002</td>\n",
              "      <td>162070000</td>\n",
              "    </tr>\n",
              "    <tr>\n",
              "      <th>1990-01-03</th>\n",
              "      <td>359.690002</td>\n",
              "      <td>360.589996</td>\n",
              "      <td>357.890015</td>\n",
              "      <td>358.760010</td>\n",
              "      <td>358.760010</td>\n",
              "      <td>192330000</td>\n",
              "    </tr>\n",
              "    <tr>\n",
              "      <th>1990-01-04</th>\n",
              "      <td>358.760010</td>\n",
              "      <td>358.760010</td>\n",
              "      <td>352.890015</td>\n",
              "      <td>355.670013</td>\n",
              "      <td>355.670013</td>\n",
              "      <td>177000000</td>\n",
              "    </tr>\n",
              "    <tr>\n",
              "      <th>1990-01-05</th>\n",
              "      <td>355.670013</td>\n",
              "      <td>355.670013</td>\n",
              "      <td>351.350006</td>\n",
              "      <td>352.200012</td>\n",
              "      <td>352.200012</td>\n",
              "      <td>158530000</td>\n",
              "    </tr>\n",
              "    <tr>\n",
              "      <th>1990-01-08</th>\n",
              "      <td>352.200012</td>\n",
              "      <td>354.239990</td>\n",
              "      <td>350.540009</td>\n",
              "      <td>353.790009</td>\n",
              "      <td>353.790009</td>\n",
              "      <td>140110000</td>\n",
              "    </tr>\n",
              "    <tr>\n",
              "      <th>...</th>\n",
              "      <td>...</td>\n",
              "      <td>...</td>\n",
              "      <td>...</td>\n",
              "      <td>...</td>\n",
              "      <td>...</td>\n",
              "      <td>...</td>\n",
              "    </tr>\n",
              "    <tr>\n",
              "      <th>2019-12-24</th>\n",
              "      <td>3225.449951</td>\n",
              "      <td>3226.429932</td>\n",
              "      <td>3220.510010</td>\n",
              "      <td>3223.379883</td>\n",
              "      <td>3223.379883</td>\n",
              "      <td>1296540000</td>\n",
              "    </tr>\n",
              "    <tr>\n",
              "      <th>2019-12-26</th>\n",
              "      <td>3227.199951</td>\n",
              "      <td>3240.080078</td>\n",
              "      <td>3227.199951</td>\n",
              "      <td>3239.909912</td>\n",
              "      <td>3239.909912</td>\n",
              "      <td>2160680000</td>\n",
              "    </tr>\n",
              "    <tr>\n",
              "      <th>2019-12-27</th>\n",
              "      <td>3247.229980</td>\n",
              "      <td>3247.929932</td>\n",
              "      <td>3234.370117</td>\n",
              "      <td>3240.020020</td>\n",
              "      <td>3240.020020</td>\n",
              "      <td>2428670000</td>\n",
              "    </tr>\n",
              "    <tr>\n",
              "      <th>2019-12-30</th>\n",
              "      <td>3240.090088</td>\n",
              "      <td>3240.919922</td>\n",
              "      <td>3216.570068</td>\n",
              "      <td>3221.290039</td>\n",
              "      <td>3221.290039</td>\n",
              "      <td>3013290000</td>\n",
              "    </tr>\n",
              "    <tr>\n",
              "      <th>2019-12-31</th>\n",
              "      <td>3215.179932</td>\n",
              "      <td>3231.719971</td>\n",
              "      <td>3212.030029</td>\n",
              "      <td>3230.780029</td>\n",
              "      <td>3230.780029</td>\n",
              "      <td>2893810000</td>\n",
              "    </tr>\n",
              "  </tbody>\n",
              "</table>\n",
              "<p>7559 rows × 6 columns</p>\n",
              "</div>\n",
              "      <button class=\"colab-df-convert\" onclick=\"convertToInteractive('df-43915ec8-bf6e-41e2-a753-95b896b759b6')\"\n",
              "              title=\"Convert this dataframe to an interactive table.\"\n",
              "              style=\"display:none;\">\n",
              "        \n",
              "  <svg xmlns=\"http://www.w3.org/2000/svg\" height=\"24px\"viewBox=\"0 0 24 24\"\n",
              "       width=\"24px\">\n",
              "    <path d=\"M0 0h24v24H0V0z\" fill=\"none\"/>\n",
              "    <path d=\"M18.56 5.44l.94 2.06.94-2.06 2.06-.94-2.06-.94-.94-2.06-.94 2.06-2.06.94zm-11 1L8.5 8.5l.94-2.06 2.06-.94-2.06-.94L8.5 2.5l-.94 2.06-2.06.94zm10 10l.94 2.06.94-2.06 2.06-.94-2.06-.94-.94-2.06-.94 2.06-2.06.94z\"/><path d=\"M17.41 7.96l-1.37-1.37c-.4-.4-.92-.59-1.43-.59-.52 0-1.04.2-1.43.59L10.3 9.45l-7.72 7.72c-.78.78-.78 2.05 0 2.83L4 21.41c.39.39.9.59 1.41.59.51 0 1.02-.2 1.41-.59l7.78-7.78 2.81-2.81c.8-.78.8-2.07 0-2.86zM5.41 20L4 18.59l7.72-7.72 1.47 1.35L5.41 20z\"/>\n",
              "  </svg>\n",
              "      </button>\n",
              "      \n",
              "  <style>\n",
              "    .colab-df-container {\n",
              "      display:flex;\n",
              "      flex-wrap:wrap;\n",
              "      gap: 12px;\n",
              "    }\n",
              "\n",
              "    .colab-df-convert {\n",
              "      background-color: #E8F0FE;\n",
              "      border: none;\n",
              "      border-radius: 50%;\n",
              "      cursor: pointer;\n",
              "      display: none;\n",
              "      fill: #1967D2;\n",
              "      height: 32px;\n",
              "      padding: 0 0 0 0;\n",
              "      width: 32px;\n",
              "    }\n",
              "\n",
              "    .colab-df-convert:hover {\n",
              "      background-color: #E2EBFA;\n",
              "      box-shadow: 0px 1px 2px rgba(60, 64, 67, 0.3), 0px 1px 3px 1px rgba(60, 64, 67, 0.15);\n",
              "      fill: #174EA6;\n",
              "    }\n",
              "\n",
              "    [theme=dark] .colab-df-convert {\n",
              "      background-color: #3B4455;\n",
              "      fill: #D2E3FC;\n",
              "    }\n",
              "\n",
              "    [theme=dark] .colab-df-convert:hover {\n",
              "      background-color: #434B5C;\n",
              "      box-shadow: 0px 1px 3px 1px rgba(0, 0, 0, 0.15);\n",
              "      filter: drop-shadow(0px 1px 2px rgba(0, 0, 0, 0.3));\n",
              "      fill: #FFFFFF;\n",
              "    }\n",
              "  </style>\n",
              "\n",
              "      <script>\n",
              "        const buttonEl =\n",
              "          document.querySelector('#df-43915ec8-bf6e-41e2-a753-95b896b759b6 button.colab-df-convert');\n",
              "        buttonEl.style.display =\n",
              "          google.colab.kernel.accessAllowed ? 'block' : 'none';\n",
              "\n",
              "        async function convertToInteractive(key) {\n",
              "          const element = document.querySelector('#df-43915ec8-bf6e-41e2-a753-95b896b759b6');\n",
              "          const dataTable =\n",
              "            await google.colab.kernel.invokeFunction('convertToInteractive',\n",
              "                                                     [key], {});\n",
              "          if (!dataTable) return;\n",
              "\n",
              "          const docLinkHtml = 'Like what you see? Visit the ' +\n",
              "            '<a target=\"_blank\" href=https://colab.research.google.com/notebooks/data_table.ipynb>data table notebook</a>'\n",
              "            + ' to learn more about interactive tables.';\n",
              "          element.innerHTML = '';\n",
              "          dataTable['output_type'] = 'display_data';\n",
              "          await google.colab.output.renderOutput(dataTable, element);\n",
              "          const docLink = document.createElement('div');\n",
              "          docLink.innerHTML = docLinkHtml;\n",
              "          element.appendChild(docLink);\n",
              "        }\n",
              "      </script>\n",
              "    </div>\n",
              "  </div>\n",
              "  "
            ]
          },
          "metadata": {},
          "execution_count": 4
        }
      ]
    },
    {
      "cell_type": "code",
      "source": [
        "df.tail()"
      ],
      "metadata": {
        "colab": {
          "base_uri": "https://localhost:8080/",
          "height": 238
        },
        "id": "WA6En3IN-wKz",
        "outputId": "ab326bb6-1c35-4651-f9ad-50cb5a290770"
      },
      "execution_count": null,
      "outputs": [
        {
          "output_type": "execute_result",
          "data": {
            "text/plain": [
              "                   Open         High          Low        Close    Adj Close  \\\n",
              "Date                                                                          \n",
              "2019-12-24  3225.449951  3226.429932  3220.510010  3223.379883  3223.379883   \n",
              "2019-12-26  3227.199951  3240.080078  3227.199951  3239.909912  3239.909912   \n",
              "2019-12-27  3247.229980  3247.929932  3234.370117  3240.020020  3240.020020   \n",
              "2019-12-30  3240.090088  3240.919922  3216.570068  3221.290039  3221.290039   \n",
              "2019-12-31  3215.179932  3231.719971  3212.030029  3230.780029  3230.780029   \n",
              "\n",
              "                Volume  \n",
              "Date                    \n",
              "2019-12-24  1296540000  \n",
              "2019-12-26  2160680000  \n",
              "2019-12-27  2428670000  \n",
              "2019-12-30  3013290000  \n",
              "2019-12-31  2893810000  "
            ],
            "text/html": [
              "\n",
              "  <div id=\"df-a66d5cb4-b6cd-41d0-9db9-ef04db08602b\">\n",
              "    <div class=\"colab-df-container\">\n",
              "      <div>\n",
              "<style scoped>\n",
              "    .dataframe tbody tr th:only-of-type {\n",
              "        vertical-align: middle;\n",
              "    }\n",
              "\n",
              "    .dataframe tbody tr th {\n",
              "        vertical-align: top;\n",
              "    }\n",
              "\n",
              "    .dataframe thead th {\n",
              "        text-align: right;\n",
              "    }\n",
              "</style>\n",
              "<table border=\"1\" class=\"dataframe\">\n",
              "  <thead>\n",
              "    <tr style=\"text-align: right;\">\n",
              "      <th></th>\n",
              "      <th>Open</th>\n",
              "      <th>High</th>\n",
              "      <th>Low</th>\n",
              "      <th>Close</th>\n",
              "      <th>Adj Close</th>\n",
              "      <th>Volume</th>\n",
              "    </tr>\n",
              "    <tr>\n",
              "      <th>Date</th>\n",
              "      <th></th>\n",
              "      <th></th>\n",
              "      <th></th>\n",
              "      <th></th>\n",
              "      <th></th>\n",
              "      <th></th>\n",
              "    </tr>\n",
              "  </thead>\n",
              "  <tbody>\n",
              "    <tr>\n",
              "      <th>2019-12-24</th>\n",
              "      <td>3225.449951</td>\n",
              "      <td>3226.429932</td>\n",
              "      <td>3220.510010</td>\n",
              "      <td>3223.379883</td>\n",
              "      <td>3223.379883</td>\n",
              "      <td>1296540000</td>\n",
              "    </tr>\n",
              "    <tr>\n",
              "      <th>2019-12-26</th>\n",
              "      <td>3227.199951</td>\n",
              "      <td>3240.080078</td>\n",
              "      <td>3227.199951</td>\n",
              "      <td>3239.909912</td>\n",
              "      <td>3239.909912</td>\n",
              "      <td>2160680000</td>\n",
              "    </tr>\n",
              "    <tr>\n",
              "      <th>2019-12-27</th>\n",
              "      <td>3247.229980</td>\n",
              "      <td>3247.929932</td>\n",
              "      <td>3234.370117</td>\n",
              "      <td>3240.020020</td>\n",
              "      <td>3240.020020</td>\n",
              "      <td>2428670000</td>\n",
              "    </tr>\n",
              "    <tr>\n",
              "      <th>2019-12-30</th>\n",
              "      <td>3240.090088</td>\n",
              "      <td>3240.919922</td>\n",
              "      <td>3216.570068</td>\n",
              "      <td>3221.290039</td>\n",
              "      <td>3221.290039</td>\n",
              "      <td>3013290000</td>\n",
              "    </tr>\n",
              "    <tr>\n",
              "      <th>2019-12-31</th>\n",
              "      <td>3215.179932</td>\n",
              "      <td>3231.719971</td>\n",
              "      <td>3212.030029</td>\n",
              "      <td>3230.780029</td>\n",
              "      <td>3230.780029</td>\n",
              "      <td>2893810000</td>\n",
              "    </tr>\n",
              "  </tbody>\n",
              "</table>\n",
              "</div>\n",
              "      <button class=\"colab-df-convert\" onclick=\"convertToInteractive('df-a66d5cb4-b6cd-41d0-9db9-ef04db08602b')\"\n",
              "              title=\"Convert this dataframe to an interactive table.\"\n",
              "              style=\"display:none;\">\n",
              "        \n",
              "  <svg xmlns=\"http://www.w3.org/2000/svg\" height=\"24px\"viewBox=\"0 0 24 24\"\n",
              "       width=\"24px\">\n",
              "    <path d=\"M0 0h24v24H0V0z\" fill=\"none\"/>\n",
              "    <path d=\"M18.56 5.44l.94 2.06.94-2.06 2.06-.94-2.06-.94-.94-2.06-.94 2.06-2.06.94zm-11 1L8.5 8.5l.94-2.06 2.06-.94-2.06-.94L8.5 2.5l-.94 2.06-2.06.94zm10 10l.94 2.06.94-2.06 2.06-.94-2.06-.94-.94-2.06-.94 2.06-2.06.94z\"/><path d=\"M17.41 7.96l-1.37-1.37c-.4-.4-.92-.59-1.43-.59-.52 0-1.04.2-1.43.59L10.3 9.45l-7.72 7.72c-.78.78-.78 2.05 0 2.83L4 21.41c.39.39.9.59 1.41.59.51 0 1.02-.2 1.41-.59l7.78-7.78 2.81-2.81c.8-.78.8-2.07 0-2.86zM5.41 20L4 18.59l7.72-7.72 1.47 1.35L5.41 20z\"/>\n",
              "  </svg>\n",
              "      </button>\n",
              "      \n",
              "  <style>\n",
              "    .colab-df-container {\n",
              "      display:flex;\n",
              "      flex-wrap:wrap;\n",
              "      gap: 12px;\n",
              "    }\n",
              "\n",
              "    .colab-df-convert {\n",
              "      background-color: #E8F0FE;\n",
              "      border: none;\n",
              "      border-radius: 50%;\n",
              "      cursor: pointer;\n",
              "      display: none;\n",
              "      fill: #1967D2;\n",
              "      height: 32px;\n",
              "      padding: 0 0 0 0;\n",
              "      width: 32px;\n",
              "    }\n",
              "\n",
              "    .colab-df-convert:hover {\n",
              "      background-color: #E2EBFA;\n",
              "      box-shadow: 0px 1px 2px rgba(60, 64, 67, 0.3), 0px 1px 3px 1px rgba(60, 64, 67, 0.15);\n",
              "      fill: #174EA6;\n",
              "    }\n",
              "\n",
              "    [theme=dark] .colab-df-convert {\n",
              "      background-color: #3B4455;\n",
              "      fill: #D2E3FC;\n",
              "    }\n",
              "\n",
              "    [theme=dark] .colab-df-convert:hover {\n",
              "      background-color: #434B5C;\n",
              "      box-shadow: 0px 1px 3px 1px rgba(0, 0, 0, 0.15);\n",
              "      filter: drop-shadow(0px 1px 2px rgba(0, 0, 0, 0.3));\n",
              "      fill: #FFFFFF;\n",
              "    }\n",
              "  </style>\n",
              "\n",
              "      <script>\n",
              "        const buttonEl =\n",
              "          document.querySelector('#df-a66d5cb4-b6cd-41d0-9db9-ef04db08602b button.colab-df-convert');\n",
              "        buttonEl.style.display =\n",
              "          google.colab.kernel.accessAllowed ? 'block' : 'none';\n",
              "\n",
              "        async function convertToInteractive(key) {\n",
              "          const element = document.querySelector('#df-a66d5cb4-b6cd-41d0-9db9-ef04db08602b');\n",
              "          const dataTable =\n",
              "            await google.colab.kernel.invokeFunction('convertToInteractive',\n",
              "                                                     [key], {});\n",
              "          if (!dataTable) return;\n",
              "\n",
              "          const docLinkHtml = 'Like what you see? Visit the ' +\n",
              "            '<a target=\"_blank\" href=https://colab.research.google.com/notebooks/data_table.ipynb>data table notebook</a>'\n",
              "            + ' to learn more about interactive tables.';\n",
              "          element.innerHTML = '';\n",
              "          dataTable['output_type'] = 'display_data';\n",
              "          await google.colab.output.renderOutput(dataTable, element);\n",
              "          const docLink = document.createElement('div');\n",
              "          docLink.innerHTML = docLinkHtml;\n",
              "          element.appendChild(docLink);\n",
              "        }\n",
              "      </script>\n",
              "    </div>\n",
              "  </div>\n",
              "  "
            ]
          },
          "metadata": {},
          "execution_count": 5
        }
      ]
    },
    {
      "cell_type": "code",
      "source": [
        "df.Close.plot()"
      ],
      "metadata": {
        "colab": {
          "base_uri": "https://localhost:8080/",
          "height": 287
        },
        "id": "VS8JFyRG-1Kn",
        "outputId": "9f46a47d-f4ff-44e4-d214-f229f1712ebe"
      },
      "execution_count": null,
      "outputs": [
        {
          "output_type": "execute_result",
          "data": {
            "text/plain": [
              "<matplotlib.axes._subplots.AxesSubplot at 0x7f911ad89710>"
            ]
          },
          "metadata": {},
          "execution_count": 6
        },
        {
          "output_type": "display_data",
          "data": {
            "text/plain": [
              "<Figure size 432x288 with 1 Axes>"
            ],
            "image/png": "[encoded data removed]"
          },
          "metadata": {
            "needs_background": "light"
          }
        }
      ]
    },
    {
      "cell_type": "code",
      "source": [
        "## pick three weeks (Mon - Fri) from different years\n",
        "## scale closing prices for each day by teh week's mean closing price\n",
        "\n",
        "fig, axs = plt.subplots(3, 1, figsize = (8,12), dpi = 80)\n",
        "\n",
        "plt.subplots_adjust(hspace=0.2)\n",
        "## 1993\n",
        "vals = df['1993-05-03':'1993-05-07'].Close.values\n",
        "mean_val = np.mean(vals)\n",
        "axs[0].plot([1,2,3,4,5], vals/mean_val)\n",
        "axs[0].set_xticks([1,2,3,4,5])\n",
        "axs[0].set_xticklabels(['Monday', 'Tuesday', 'Wednesday','Thursday', 'Friday'])\n",
        "\n",
        "\n",
        "## 2000\n",
        "vals = df['2000-05-08':'2000-05-12'].Close.values\n",
        "mean_val = np.mean(vals)\n",
        "axs[1].plot([1,2,3,4,5], vals/mean_val)\n",
        "axs[1].set_xticks([1,2,3,4,5])\n",
        "axs[1].set_xticklabels(['Monday', 'Tuesday', 'Wednesday','Thursday', 'Friday'])\n",
        "\n",
        "## 2018\n",
        "vals = df['2018-05-07':'2018-05-11'].Close.values\n",
        "mean_val = np.mean(vals)\n",
        "axs[2].plot([1,2,3,4,5], vals/mean_val)\n",
        "axs[2].set_xticks([1,2,3,4,5])\n",
        "axs[2].set_xticklabels(['Monday', 'Tuesday', 'Wednesday','Thursday', 'Friday'])\n",
        "\n",
        "\n"
      ],
      "metadata": {
        "colab": {
          "base_uri": "https://localhost:8080/",
          "height": 864
        },
        "id": "V-uMWdDl-5Ws",
        "outputId": "acdcdcbb-07f3-46d6-a331-0612ee1a23f0"
      },
      "execution_count": null,
      "outputs": [
        {
          "output_type": "execute_result",
          "data": {
            "text/plain": [
              "[Text(0, 0, 'Monday'),\n",
              " Text(0, 0, 'Tuesday'),\n",
              " Text(0, 0, 'Wednesday'),\n",
              " Text(0, 0, 'Thursday'),\n",
              " Text(0, 0, 'Friday')]"
            ]
          },
          "metadata": {},
          "execution_count": 7
        },
        {
          "output_type": "display_data",
          "data": {
            "text/plain": [
              "<Figure size 640x960 with 3 Axes>"
            ],
            "image/png": "[encoded data removed]"
          },
          "metadata": {
            "needs_background": "light"
          }
        }
      ]
    },
    {
      "cell_type": "code",
      "source": [
        "#Compute Daily Return\n",
        "df['Return'] = df.Close - df.Open\n",
        "df.Return.plot()"
      ],
      "metadata": {
        "colab": {
          "base_uri": "https://localhost:8080/",
          "height": 287
        },
        "id": "sjWQ5tOR-9_G",
        "outputId": "9d6f003d-248b-4faa-e206-ca3a350dcdaf"
      },
      "execution_count": null,
      "outputs": [
        {
          "output_type": "execute_result",
          "data": {
            "text/plain": [
              "<matplotlib.axes._subplots.AxesSubplot at 0x7f911a7a2050>"
            ]
          },
          "metadata": {},
          "execution_count": 8
        },
        {
          "output_type": "display_data",
          "data": {
            "text/plain": [
              "<Figure size 432x288 with 1 Axes>"
            ],
            "image/png": "[encoded data removed]"
          },
          "metadata": {
            "needs_background": "light"
          }
        }
      ]
    },
    {
      "cell_type": "markdown",
      "source": [
        "The figure above shows that, this alone is not enoug to make the data comparable. We will also have to find a way to normalize the data without a lookahead so taht the values we are using for inputs and outputs into our model are more even throughout the tie period of interest. (p. 408)"
      ],
      "metadata": {
        "id": "TmoOguu1EM8Z"
      }
    },
    {
      "cell_type": "markdown",
      "source": [
        "### Preprocessing Financial Data for Deep Learning\n",
        "Our data preprocessing will be done in three steps:\n",
        "1. We will form new, economically meaningful quantities of interes out of the raw inputs.\n",
        "2. We will compute an exponentially weighted moving average and variance of the quantities of interest so that we can scale them without a lookahead.\n",
        "3. We will package our results in a format appropriate for hte recurrent deep learning model we will us to fit the data.\n"
      ],
      "metadata": {
        "id": "Nf4m-o9aEplh"
      }
    },
    {
      "cell_type": "code",
      "source": [
        "## Adding quantities of interest\n",
        "df['DailyVolatility'] = df.High - df.Low\n",
        "df.DailyVolatility.plot()"
      ],
      "metadata": {
        "colab": {
          "base_uri": "https://localhost:8080/",
          "height": 287
        },
        "id": "zAbAE3mo-_1J",
        "outputId": "b070d73a-d187-4a5b-8d53-dc911a4e42ee"
      },
      "execution_count": null,
      "outputs": [
        {
          "output_type": "execute_result",
          "data": {
            "text/plain": [
              "<matplotlib.axes._subplots.AxesSubplot at 0x7f911a609690>"
            ]
          },
          "metadata": {},
          "execution_count": 9
        },
        {
          "output_type": "display_data",
          "data": {
            "text/plain": [
              "<Figure size 432x288 with 1 Axes>"
            ],
            "image/png": "[encoded data removed]"
          },
          "metadata": {
            "needs_background": "light"
          }
        }
      ]
    },
    {
      "cell_type": "code",
      "source": [
        "## Scaling Quantities of Interest without a Lookahead\n",
        "#exponentially weighted moving average of every column in the data frame\n",
        "#### Halflife as Hyperparameter for the model - the model behavior will certainly depend on this parameter\n",
        "HALF_LIFE = 10\n",
        "figure, axes = plt.subplots(2, 1, figsize = (6,8), dpi = 80)\n",
        "plt.subplots_adjust(hspace=0.3)\n",
        "#ewm average\n",
        "ewdf = df.ewm(halflife = HALF_LIFE).mean()\n",
        "axes[0].set_ylabel(\"EWMA Daily Volatility\")\n",
        "ewdf.DailyVolatility.plot(ax=axes[0])\n",
        "\n",
        "#ewm variance\n",
        "vewdf = df.ewm(halflife = HALF_LIFE).var()\n",
        "#scale by demeaning and normalizing\n",
        "scaled = df.DailyVolatility - ewdf.DailyVolatility\n",
        "scaled = scaled / vewdf.DailyVolatility**0.5\n",
        "axes[1].set_ylabel(\"Rescaled Daily Volatility\")\n",
        "scaled.plot(ax=axes[1])"
      ],
      "metadata": {
        "colab": {
          "base_uri": "https://localhost:8080/",
          "height": 531
        },
        "id": "fFn3bdBW_OpD",
        "outputId": "87141b97-5f78-41e9-a19c-d29facefacf9"
      },
      "execution_count": null,
      "outputs": [
        {
          "output_type": "execute_result",
          "data": {
            "text/plain": [
              "<matplotlib.axes._subplots.AxesSubplot at 0x7f911a431350>"
            ]
          },
          "metadata": {},
          "execution_count": 10
        },
        {
          "output_type": "display_data",
          "data": {
            "text/plain": [
              "<Figure size 480x640 with 2 Axes>"
            ],
            "image/png": "[encoded data removed]"
          },
          "metadata": {
            "needs_background": "light"
          }
        }
      ]
    },
    {
      "cell_type": "code",
      "source": [
        "##We transform all three raw inputs of interest into a scaled version:\n",
        "\n",
        "df['ScaledVolatility'] = ((df.DailyVolatility - ewdf.DailyVolatility) / vewdf.DailyVolatility**0.5)\n",
        "df['ScaledReturn'] = ((df.Return - ewdf.Return) / vewdf.Return**0.5)\n",
        "df['ScaledVolume'] = ((df.Volume - ewdf.Volume) / vewdf.Volume**0.5)\n",
        "\n",
        "#Finally drop the NA results that come from exponentaial smoothing\n",
        "df = df.dropna()"
      ],
      "metadata": {
        "id": "WwrK-54PFaGF"
      },
      "execution_count": null,
      "outputs": []
    },
    {
      "cell_type": "code",
      "source": [],
      "metadata": {
        "id": "y8wMYZcPJk02"
      },
      "execution_count": null,
      "outputs": []
    },
    {
      "cell_type": "code",
      "source": [
        "## break our data into training and testing components\n",
        "train_df = df[:7000]\n",
        "test_df= df[7000:]\n",
        "\n",
        "## building our pipeline variables off training data\n",
        "## taking only values of interest from larger data frames\n",
        "HORIZON = 10\n",
        "X = train_df[:(7000 - HORIZON)][[\"ScaledVolatility\", \"ScaledReturn\", \"ScaledVolume\"]].values\n",
        "Y = train_df[HORIZON:][\"ScaledReturn\"].values"
      ],
      "metadata": {
        "id": "lvwdKiEfJvb9"
      },
      "execution_count": null,
      "outputs": []
    },
    {
      "cell_type": "code",
      "source": [
        "##TNC - We want to add a third dimension, axis 1 (so pushing the second dimension out to axis 2, where the axes are numbered from 0 up)\n",
        "## Our temporal axis is already axis 0 because the data frame was sorted temporally. The last axis, now axis 2, is already the \"channel axis\" because\n",
        "## our inputs each occupy one column of that dimension.\n",
        "X = np.expand_dims(X, axis = 1)"
      ],
      "metadata": {
        "id": "S3BpQAq7Jz0G"
      },
      "execution_count": null,
      "outputs": []
    },
    {
      "cell_type": "code",
      "source": [
        "##We will try a model that will see 10 time steps - that is 10 days of data looking backward.\n",
        "## So we need to cut off axis 0 to be of length 10.\n",
        "\n",
        "X = np.split(X, X.shape[0]/HORIZON, axis = 0)\n",
        "X = np.concatenate(X, axis = 1)\n",
        "X.shape"
      ],
      "metadata": {
        "colab": {
          "base_uri": "https://localhost:8080/"
        },
        "id": "u5jdSs_GXSvz",
        "outputId": "3dad1be3-7a46-44c7-865f-8f5ed383918e"
      },
      "execution_count": null,
      "outputs": [
        {
          "output_type": "execute_result",
          "data": {
            "text/plain": [
              "(10, 699, 3)"
            ]
          },
          "metadata": {},
          "execution_count": 14
        }
      ]
    },
    {
      "cell_type": "code",
      "source": [
        "num_to_unpack = math.floor(X.shape[0]/WINDOW_SIZE)\n",
        "start_idx = X.shape[0] - num_to_unpack * WINDOW_SIZE"
      ],
      "metadata": {
        "id": "H08lmyciuJvR"
      },
      "execution_count": null,
      "outputs": []
    },
    {
      "cell_type": "code",
      "source": [
        "start_idx"
      ],
      "metadata": {
        "colab": {
          "base_uri": "https://localhost:8080/"
        },
        "id": "4fp56qTJuVFA",
        "outputId": "1265d427-a67b-4b6a-c993-392369b60829"
      },
      "execution_count": null,
      "outputs": [
        {
          "output_type": "execute_result",
          "data": {
            "text/plain": [
              "10"
            ]
          },
          "metadata": {},
          "execution_count": 54
        }
      ]
    },
    {
      "cell_type": "code",
      "source": [
        "X_new, Y_new = timeseriesdata(X, Y,WINDOW_SIZE, 3)"
      ],
      "metadata": {
        "id": "5X7FjQF7uDUZ"
      },
      "execution_count": null,
      "outputs": []
    },
    {
      "cell_type": "code",
      "source": [
        "print(X)"
      ],
      "metadata": {
        "colab": {
          "base_uri": "https://localhost:8080/"
        },
        "id": "zsQZTeKwuPJC",
        "outputId": "5894e092-5821-4e61-823f-191b25bc28ef"
      },
      "execution_count": null,
      "outputs": [
        {
          "output_type": "stream",
          "name": "stdout",
          "text": [
            "[[-0.68261013 -0.68261013  0.68261013]\n",
            " [ 0.19341612 -0.74806494 -0.03132525]\n",
            " [-0.37088986 -0.65783218 -0.88773674]\n",
            " ...\n",
            " [ 0.62209053 -0.47422429  0.11654754]\n",
            " [-0.425039   -0.63625535 -0.4164925 ]\n",
            " [ 0.85321249  0.41791392  0.48000578]]\n"
          ]
        }
      ]
    },
    {
      "cell_type": "code",
      "source": [
        "print(X_new)"
      ],
      "metadata": {
        "colab": {
          "base_uri": "https://localhost:8080/"
        },
        "id": "_JlE-ZQhuicd",
        "outputId": "74d4a986-5122-45e6-a0de-e1fccfa98b36"
      },
      "execution_count": null,
      "outputs": [
        {
          "output_type": "stream",
          "name": "stdout",
          "text": [
            "[[[-0.68261013 -0.68261013  0.68261013]\n",
            "  [ 0.19341612 -0.74806494 -0.03132525]\n",
            "  [-0.37088986 -0.65783218 -0.88773674]\n",
            "  ...\n",
            "  [-0.27347573 -0.00216278 -1.31270073]\n",
            "  [-0.47749172 -0.12974931 -1.01413197]\n",
            "  [ 0.97661944  1.37076973 -0.81609145]]\n",
            "\n",
            " [[ 0.19341612 -0.74806494 -0.03132525]\n",
            "  [-0.37088986 -0.65783218 -0.88773674]\n",
            "  [-0.56904634  0.42824051 -1.23838937]\n",
            "  ...\n",
            "  [-0.47749172 -0.12974931 -1.01413197]\n",
            "  [ 0.97661944  1.37076973 -0.81609145]\n",
            "  [ 0.34119473  1.03132462 -0.99868815]]\n",
            "\n",
            " [[-0.37088986 -0.65783218 -0.88773674]\n",
            "  [-0.56904634  0.42824051 -1.23838937]\n",
            "  [-0.10324238 -0.8602706  -0.4300406 ]\n",
            "  ...\n",
            "  [ 0.97661944  1.37076973 -0.81609145]\n",
            "  [ 0.34119473  1.03132462 -0.99868815]\n",
            "  [-0.25142163  0.75797602  0.72994151]]\n",
            "\n",
            " ...\n",
            "\n",
            " [[ 0.62363704  0.36940533  1.19430769]\n",
            "  [-0.10097986  0.27053275 -1.09780636]\n",
            "  [ 0.07499333 -0.18590796  0.62767788]\n",
            "  ...\n",
            "  [ 0.16818277  0.00459382  0.48528822]\n",
            "  [-0.46652682 -0.92945634 -0.69383557]\n",
            "  [-0.6394878   0.49662052 -0.78127015]]\n",
            "\n",
            " [[-0.10097986  0.27053275 -1.09780636]\n",
            "  [ 0.07499333 -0.18590796  0.62767788]\n",
            "  [ 0.16620611  1.81708188  0.75719012]\n",
            "  ...\n",
            "  [-0.46652682 -0.92945634 -0.69383557]\n",
            "  [-0.6394878   0.49662052 -0.78127015]\n",
            "  [ 0.62209053 -0.47422429  0.11654754]]\n",
            "\n",
            " [[ 0.07499333 -0.18590796  0.62767788]\n",
            "  [ 0.16620611  1.81708188  0.75719012]\n",
            "  [-1.58480006  0.1609535  -0.98350916]\n",
            "  ...\n",
            "  [-0.6394878   0.49662052 -0.78127015]\n",
            "  [ 0.62209053 -0.47422429  0.11654754]\n",
            "  [-0.425039   -0.63625535 -0.4164925 ]]]\n"
          ]
        }
      ]
    },
    {
      "cell_type": "code",
      "source": [
        "print(Y)"
      ],
      "metadata": {
        "colab": {
          "base_uri": "https://localhost:8080/"
        },
        "id": "x8uklD2_uo4Z",
        "outputId": "7b4bbc57-621c-4253-b7e7-dc5ea0ad6e5d"
      },
      "execution_count": null,
      "outputs": [
        {
          "output_type": "stream",
          "name": "stdout",
          "text": [
            "[-0.45857495  0.54700852  0.54930039 ... -1.30447433 -0.2265668\n",
            "  0.35913704]\n"
          ]
        }
      ]
    },
    {
      "cell_type": "code",
      "source": [
        "print(Y_new)"
      ],
      "metadata": {
        "colab": {
          "base_uri": "https://localhost:8080/"
        },
        "id": "UHEdEJecuqiP",
        "outputId": "0b364ccd-511b-4210-eac1-3a0acd562a9d"
      },
      "execution_count": null,
      "outputs": [
        {
          "output_type": "stream",
          "name": "stdout",
          "text": [
            "[ 1.81708188  0.1609535   0.7578958  ... -1.30447433 -0.2265668\n",
            "  0.35913704]\n"
          ]
        }
      ]
    },
    {
      "cell_type": "markdown",
      "source": [
        "Given the TNC format, we have time series of length 10 (HORIZON), with three parallel inputs (Scaled Volatility, Scaled Return, Scaled Volume). Of these we have 699 examples. The batch size will determine how many batches make up an epoch, where an epoch is one cycle through our data."
      ],
      "metadata": {
        "id": "zyCQeN7HoOvO"
      }
    },
    {
      "cell_type": "code",
      "source": [
        "def timeseriesdata(X, Y,win, channel):\n",
        "    ###takes 2 dimensional array time series - transform it to TNC (time,sample,channel)\n",
        "    ##takes 1 dimensional array of labels - transforms it to fit the TNC Data\n",
        "    X = np.expand_dims(X, axis = 1)\n",
        "    X_tnc = np.zeros((win,X.shape[0] - win + 1, channel))\n",
        "    for i, _ in enumerate(X):\n",
        "        try:\n",
        "            X_tnc[:,i:i+1,:] = X[i:i+win]\n",
        "        except:\n",
        "            break   \n",
        "    return X_tnc[:,0:X_tnc.shape[1]-1,:], Y[win:]"
      ],
      "metadata": {
        "id": "5f1WYy0HrGIT"
      },
      "execution_count": null,
      "outputs": []
    },
    {
      "cell_type": "markdown",
      "source": [
        "### Building and Training an RNN"
      ],
      "metadata": {
        "id": "6Jb5iw8VJYUV"
      }
    },
    {
      "cell_type": "code",
      "source": [
        "## architecture parameters\n",
        "NUM_HIDDEN = 5\n",
        "NUM_LAYERS = 2\n",
        "\n",
        "## data formatting parameters\n",
        "BATCH_SIZE = 64\n",
        "WINDOW_SIZE = 20\n",
        "\n",
        "## training parameters\n",
        "LEARNING_RATE = 1e-2\n",
        "EPOCHS = 10"
      ],
      "metadata": {
        "id": "NEslcfRJoOix"
      },
      "execution_count": null,
      "outputs": []
    },
    {
      "cell_type": "code",
      "source": [
        "tf.compat.v1.disable_eager_execution()\n",
        "\n",
        "\n",
        "Xinp = tf1.placeholder(dtype = tf.float32, shape = [WINDOW_SIZE, None, 3])\n",
        "Yinp = tf1.placeholder(dtype = tf.float32, shape = [None])"
      ],
      "metadata": {
        "id": "WG0xlQyuXV1q"
      },
      "execution_count": null,
      "outputs": []
    },
    {
      "cell_type": "code",
      "source": [
        "with tf1.variable_scope(\"scope1\", reuse = tf1.AUTO_REUSE):\n",
        "  cells = [tf1.nn.rnn_cell.LSTMCell(num_units = NUM_HIDDEN) for n in range(NUM_LAYERS)]\n",
        "  stacked_rnn_cell = tf1.nn.rnn_cell.MultiRNNCell(cells)\n",
        "  rnn_output, states = tf1.nn.dynamic_rnn(stacked_rnn_cell, Xinp, dtype = tf.float32)\n",
        "  W = tf1.get_variable(\"W_fc\", [NUM_HIDDEN, 1], initializer = tf.random_uniform_initializer(-.2, .2))\n",
        "\n",
        "  ## notice we have not bias because we expect average zero return\n",
        "  output = tf.squeeze(tf.matmul(rnn_output[-1, : , :], W))\n",
        "\n",
        "  loss = tf.nn.l2_loss(output - Yinp)\n",
        "  opt = tf1.train.GradientDescentOptimizer(LEARNING_RATE)\n",
        "  train_step = opt.minimize(loss)"
      ],
      "metadata": {
        "colab": {
          "base_uri": "https://localhost:8080/"
        },
        "id": "6zoiE2e5XXii",
        "outputId": "054bb47e-cdee-44ab-c4d0-1aa5acf6bb82"
      },
      "execution_count": null,
      "outputs": [
        {
          "output_type": "stream",
          "name": "stderr",
          "text": [
            "/usr/local/lib/python3.7/dist-packages/ipykernel_launcher.py:2: UserWarning: `tf.nn.rnn_cell.LSTMCell` is deprecated and will be removed in a future version. This class is equivalent as `tf.keras.layers.LSTMCell`, and will be replaced by that in Tensorflow 2.0.\n",
            "  \n",
            "WARNING:tensorflow:`tf.nn.rnn_cell.MultiRNNCell` is deprecated. This class is equivalent as `tf.keras.layers.StackedRNNCells`, and will be replaced by that in Tensorflow 2.0.\n",
            "WARNING:tensorflow:From <ipython-input-17-3f22e8d8d342>:4: dynamic_rnn (from tensorflow.python.ops.rnn) is deprecated and will be removed in a future version.\n",
            "Instructions for updating:\n",
            "Please use `keras.layers.RNN(cell)`, which is equivalent to this API\n",
            "/usr/local/lib/python3.7/dist-packages/keras/layers/legacy_rnn/rnn_cell_impl.py:988: UserWarning: `layer.add_variable` is deprecated and will be removed in a future version. Please use `layer.add_weight` method instead.\n",
            "  partitioner=maybe_partitioner)\n",
            "WARNING:tensorflow:From /usr/local/lib/python3.7/dist-packages/keras/layers/legacy_rnn/rnn_cell_impl.py:992: calling Zeros.__init__ (from tensorflow.python.ops.init_ops) with dtype is deprecated and will be removed in a future version.\n",
            "Instructions for updating:\n",
            "Call initializer instance with the dtype argument instead of passing it to the constructor\n",
            "/usr/local/lib/python3.7/dist-packages/keras/layers/legacy_rnn/rnn_cell_impl.py:996: UserWarning: `layer.add_variable` is deprecated and will be removed in a future version. Please use `layer.add_weight` method instead.\n",
            "  initializer=initializer)\n"
          ]
        }
      ]
    },
    {
      "cell_type": "code",
      "source": [
        "sess = tf1.Session()\n",
        "sess.run(tf1.tables_initializer())\n",
        "sess.run(tf1.global_variables_initializer())"
      ],
      "metadata": {
        "id": "jNvoG-8pQ-RN"
      },
      "execution_count": null,
      "outputs": []
    },
    {
      "cell_type": "code",
      "source": [
        "\n",
        "## for each epoch\n",
        "\n",
        "y_hat_dict = {}\n",
        "Y_dict = {}\n",
        "\n",
        "in_sample_Y_dict = {}\n",
        "in_sample_y_hat_dict = {}\n",
        "\n",
        "for ep in range(EPOCHS):\n",
        "  epoch_training_loss = 0.0\n",
        "  for i in range(WINDOW_SIZE):\n",
        "    X = train_df[:(7000- WINDOW_SIZE)][[\"ScaledVolatility\", \"ScaledReturn\", \"ScaledVolume\"]].values\n",
        "    Y = train_df[WINDOW_SIZE:][\"ScaledReturn\"].values\n",
        "\n",
        "    ## make it divisible by window size\n",
        "    #num_to_unpack = math.floor(X.shape[0]/WINDOW_SIZE)\n",
        "    #start_idx = X.shape[0] - num_to_unpack * WINDOW_SIZE\n",
        "    X,Y = timeseriesdata(X, Y,WINDOW_SIZE, 3)\n",
        "\n",
        "    ##TRAINING\n",
        "    ## now we batch it and run a sess\n",
        "    for j in range(math.ceil(Y.shape[0] / BATCH_SIZE)):\n",
        "      ll = BATCH_SIZE * j\n",
        "      ul = BATCH_SIZE * (j + 1)\n",
        "\n",
        "      if ul > X.shape[1]:\n",
        "        ul = X.shape[1] - 1\n",
        "        ll = X.shape[1] - BATCH_SIZE\n",
        "      \n",
        "      training_loss, _, y_hat = sess.run([loss, train_step, output],\n",
        "                                  feed_dict = {\n",
        "                                      Xinp: X[:, ll:ul, :], Yinp: Y[ll:ul]\n",
        "                                  })\n",
        "      epoch_training_loss += training_loss          \n",
        "      \n",
        "      in_sample_Y_dict[ep]     = Y[ll:ul] ## notice this will only net us the last part of data trained on\n",
        "      in_sample_y_hat_dict[ep] = y_hat\n",
        "        \n",
        "    ## TESTING\n",
        "    X = test_df[:(test_df.shape[0] - WINDOW_SIZE)][[\"ScaledVolatility\", \"ScaledReturn\", \"ScaledVolume\"]].values\n",
        "    Y = test_df[WINDOW_SIZE:][\"ScaledReturn\"].values\n",
        "    num_to_unpack = math.floor(X.shape[0] / WINDOW_SIZE)\n",
        "    start_idx = X.shape[0] - num_to_unpack * WINDOW_SIZE\n",
        "    X = X[start_idx:] ## better to throw away beginning than end of training period when must delete\n",
        "    Y = Y[start_idx:]                              \n",
        "    \n",
        "    X = np.expand_dims(X, axis = 1)\n",
        "    X = np.split(X, X.shape[0]/WINDOW_SIZE, axis = 0)\n",
        "    X = np.concatenate(X, axis = 1)\n",
        "\n",
        "    #Y[start:stop:step]\n",
        "    Y = Y[::WINDOW_SIZE]\n",
        "    testing_loss, y_hat = sess.run([loss, output],\n",
        "                              feed_dict = { Xinp: X, Yinp: Y })\n",
        "    ## nb this is not great. we should really have a validation loss apart from testing\n",
        "    \n",
        "  print(\"Epoch: %d   Training loss: %0.2f   Testing loss %0.2f:\" % (ep, epoch_training_loss, testing_loss))\n",
        "  Y_dict[ep] = Y\n",
        "  y_hat_dict[ep] = y_hat\n"
      ],
      "metadata": {
        "colab": {
          "base_uri": "https://localhost:8080/"
        },
        "id": "BmR7hB8yrU20",
        "outputId": "61815491-fcd5-4190-acfe-ab9388f49302"
      },
      "execution_count": null,
      "outputs": [
        {
          "output_type": "stream",
          "name": "stdout",
          "text": [
            "Epoch: 0   Training loss: 57083.01   Testing loss 14.62:\n",
            "Epoch: 1   Training loss: 56591.07   Testing loss 15.13:\n",
            "Epoch: 2   Training loss: 56274.53   Testing loss 14.67:\n",
            "Epoch: 3   Training loss: 55968.75   Testing loss 14.27:\n",
            "Epoch: 4   Training loss: 55678.87   Testing loss 14.37:\n",
            "Epoch: 5   Training loss: 55612.06   Testing loss 14.01:\n",
            "Epoch: 6   Training loss: 55185.83   Testing loss 13.82:\n",
            "Epoch: 7   Training loss: 54876.09   Testing loss 13.73:\n",
            "Epoch: 8   Training loss: 55739.93   Testing loss 13.32:\n",
            "Epoch: 9   Training loss: 58340.92   Testing loss 13.35:\n"
          ]
        }
      ]
    },
    {
      "cell_type": "code",
      "source": [
        "## for each epoch\n",
        "\n",
        "y_hat_dict = {}\n",
        "Y_dict = {}\n",
        "\n",
        "in_sample_Y_dict = {}\n",
        "in_sample_y_hat_dict = {}\n",
        "print(X.shape)\n",
        "print(X)\n",
        "for ep in range(EPOCHS):\n",
        "  epoch_training_loss = 0.0\n",
        "  for i in range(WINDOW_SIZE):\n",
        "    print(f\"i:{i}\")\n",
        "    X = train_df[:(7000- WINDOW_SIZE)][[\"ScaledVolatility\", \"ScaledReturn\", \"ScaledVolume\"]].values\n",
        "    print(X.shape)\n",
        "    Y = train_df[WINDOW_SIZE:][\"ScaledReturn\"].values\n",
        "\n",
        "    ## make it divisible by window size\n",
        "    num_to_unpack = math.floor(X.shape[0]/WINDOW_SIZE)\n",
        "    print(f\"num_to_unpack:{num_to_unpack}\")\n",
        "    start_idx = X.shape[0] - num_to_unpack * WINDOW_SIZE\n",
        "    print(f\"start_idx:{start_idx}\")\n",
        "    X = X[start_idx:]\n",
        "    Y = Y[start_idx:]\n",
        "\n",
        "    print(f\"WINDOW_SIZE-i: {WINDOW_SIZE-i}\")\n",
        "    X = X[i: -(WINDOW_SIZE-i)]\n",
        "    #print(X)\n",
        "    Y = Y[i: -(WINDOW_SIZE-i)]\n",
        "    print(X.shape)\n",
        "    X = np.expand_dims(X, axis = 1)\n",
        "\n",
        "    ##np.split(x, [2])\n",
        "    ##x= [1,2,3,4]\n",
        "    ##[1,2] [3,4]\n",
        "    X = np.split(X, X.shape[0]/WINDOW_SIZE, axis = 0)\n",
        "    X = np.concatenate(X, axis = 1)\n",
        "\n",
        "    ##Y[start:stop:step]\n",
        "    Y = Y[::WINDOW_SIZE]\n",
        "\n",
        "    ##TRAINING\n",
        "    ## now we batch it and run a sess\n",
        "    for j in range(math.ceil(Y.shape[0] / BATCH_SIZE)):\n",
        "      ll = BATCH_SIZE * j\n",
        "      ul = BATCH_SIZE * (j + 1)\n",
        "\n",
        "      if ul > X.shape[1]:\n",
        "        ul = X.shape[1] - 1\n",
        "        ll = X.shape[1] - BATCH_SIZE\n",
        "      \n",
        "      training_loss, _, y_hat = sess.run([loss, train_step, output],\n",
        "                                  feed_dict = {\n",
        "                                      Xinp: X[:, ll:ul, :], Yinp: Y[ll:ul]\n",
        "                                  })\n",
        "      epoch_training_loss += training_loss          \n",
        "      \n",
        "      in_sample_Y_dict[ep]     = Y[ll:ul] ## notice this will only net us the last part of data trained on\n",
        "      in_sample_y_hat_dict[ep] = y_hat\n",
        "        \n",
        "    ## TESTING\n",
        "    X = test_df[:(test_df.shape[0] - WINDOW_SIZE)][[\"ScaledVolatility\", \"ScaledReturn\", \"ScaledVolume\"]].values\n",
        "    Y = test_df[WINDOW_SIZE:][\"ScaledReturn\"].values\n",
        "    num_to_unpack = math.floor(X.shape[0] / WINDOW_SIZE)\n",
        "    start_idx = X.shape[0] - num_to_unpack * WINDOW_SIZE\n",
        "    X = X[start_idx:] ## better to throw away beginning than end of training period when must delete\n",
        "    Y = Y[start_idx:]                              \n",
        "    \n",
        "    X = np.expand_dims(X, axis = 1)\n",
        "    X = np.split(X, X.shape[0]/WINDOW_SIZE, axis = 0)\n",
        "    X = np.concatenate(X, axis = 1)\n",
        "\n",
        "    #Y[start:stop:step]\n",
        "    Y = Y[::WINDOW_SIZE]\n",
        "    testing_loss, y_hat = sess.run([loss, output],\n",
        "                              feed_dict = { Xinp: X, Yinp: Y })\n",
        "    ## nb this is not great. we should really have a validation loss apart from testing\n",
        "    \n",
        "  print(\"Epoch: %d   Training loss: %0.2f   Testing loss %0.2f:\" % (ep, epoch_training_loss, testing_loss))\n",
        "  Y_dict[ep] = Y\n",
        "  y_hat_dict[ep] = y_hat\n"
      ],
      "metadata": {
        "colab": {
          "base_uri": "https://localhost:8080/"
        },
        "id": "WDGtOleyZzBU",
        "outputId": "6f35f7f5-9d65-4b82-9728-628b5cca6140"
      },
      "execution_count": null,
      "outputs": [
        {
          "output_type": "stream",
          "name": "stdout",
          "text": [
            "(10, 699, 3)\n",
            "[[[-6.82610135e-01 -6.82610135e-01  6.82610135e-01]\n",
            "  [ 2.21575421e-01 -4.58574954e-01  2.31360738e-01]\n",
            "  [ 1.66206108e-01  1.81708188e+00  7.57190125e-01]\n",
            "  ...\n",
            "  [-1.38462390e-01  4.14066697e-02 -7.77316213e-01]\n",
            "  [ 3.41194726e-01  1.03132462e+00 -9.98688145e-01]\n",
            "  [-7.63135169e-01 -1.68702696e-02  7.18816623e-01]]\n",
            "\n",
            " [[ 1.93416118e-01 -7.48064935e-01 -3.13252490e-02]\n",
            "  [-4.09084320e-01  5.47008519e-01  6.40606821e-01]\n",
            "  [-1.58480006e+00  1.60953504e-01 -9.83509163e-01]\n",
            "  ...\n",
            "  [ 2.57143945e+00 -2.57189776e+00 -2.99383557e-01]\n",
            "  [-2.51421627e-01  7.57976022e-01  7.29941508e-01]\n",
            "  [-7.24038402e-01  3.53480093e-01  2.90502591e+00]]\n",
            "\n",
            " [[-3.70889861e-01 -6.57832184e-01 -8.87736736e-01]\n",
            "  [-1.25976327e+00  5.49300393e-01  9.41084632e-01]\n",
            "  [-6.44842574e-01  7.57895797e-01 -4.48013674e-01]\n",
            "  ...\n",
            "  [ 6.91780565e-01  7.74312808e-02  3.80356201e-01]\n",
            "  [-1.03663667e+00  1.22898684e-01 -8.20851672e-01]\n",
            "  [-4.96422302e-01 -8.48659055e-03 -1.55597202e-01]]\n",
            "\n",
            " ...\n",
            "\n",
            " [[ 1.74118644e+00 -1.58724377e+00  1.04934957e+00]\n",
            "  [ 6.23637038e-01  3.69405331e-01  1.19430769e+00]\n",
            "  [-1.21096131e+00  2.57885948e-01 -9.31767684e-01]\n",
            "  ...\n",
            "  [-2.73475726e-01 -2.16277552e-03 -1.31270073e+00]\n",
            "  [ 1.59318549e-01  1.28482855e+00  4.46185399e-01]\n",
            "  [ 6.22090526e-01 -4.74224291e-01  1.16547544e-01]]\n",
            "\n",
            " [[-7.22381952e-01 -2.28189538e-01 -1.24893490e+00]\n",
            "  [-1.00979864e-01  2.70532755e-01 -1.09780636e+00]\n",
            "  [-5.11923159e-01 -9.35595348e-01 -1.82552285e+00]\n",
            "  ...\n",
            "  [-4.77491724e-01 -1.29749312e-01 -1.01413197e+00]\n",
            "  [-9.75997622e-01  3.65435954e-01  2.69481363e-01]\n",
            "  [-4.25038999e-01 -6.36255347e-01 -4.16492496e-01]]\n",
            "\n",
            " [[ 9.83339687e-01  1.21260972e+00  1.08807896e+00]\n",
            "  [ 7.49933261e-02 -1.85907963e-01  6.27677879e-01]\n",
            "  [-4.69602683e-01  4.19963667e-01 -7.19159900e-01]\n",
            "  ...\n",
            "  [ 9.76619439e-01  1.37076973e+00 -8.16091451e-01]\n",
            "  [-9.35356404e-01  3.45495373e-01  6.25158959e-01]\n",
            "  [ 8.53212493e-01  4.17913915e-01  4.80005783e-01]]]\n",
            "i:0\n",
            "(6980, 3)\n",
            "num_to_unpack:349\n",
            "start_idx:0\n",
            "WINDOW_SIZE-i: 20\n",
            "(6960, 3)\n",
            "i:1\n",
            "(6980, 3)\n",
            "num_to_unpack:349\n",
            "start_idx:0\n",
            "WINDOW_SIZE-i: 19\n",
            "(6960, 3)\n",
            "i:2\n",
            "(6980, 3)\n",
            "num_to_unpack:349\n",
            "start_idx:0\n",
            "WINDOW_SIZE-i: 18\n",
            "(6960, 3)\n",
            "i:3\n",
            "(6980, 3)\n",
            "num_to_unpack:349\n",
            "start_idx:0\n",
            "WINDOW_SIZE-i: 17\n",
            "(6960, 3)\n",
            "i:4\n",
            "(6980, 3)\n",
            "num_to_unpack:349\n",
            "start_idx:0\n",
            "WINDOW_SIZE-i: 16\n",
            "(6960, 3)\n",
            "i:5\n",
            "(6980, 3)\n",
            "num_to_unpack:349\n",
            "start_idx:0\n",
            "WINDOW_SIZE-i: 15\n",
            "(6960, 3)\n",
            "i:6\n",
            "(6980, 3)\n",
            "num_to_unpack:349\n",
            "start_idx:0\n",
            "WINDOW_SIZE-i: 14\n",
            "(6960, 3)\n",
            "i:7\n",
            "(6980, 3)\n",
            "num_to_unpack:349\n",
            "start_idx:0\n",
            "WINDOW_SIZE-i: 13\n",
            "(6960, 3)\n",
            "i:8\n",
            "(6980, 3)\n",
            "num_to_unpack:349\n",
            "start_idx:0\n",
            "WINDOW_SIZE-i: 12\n",
            "(6960, 3)\n",
            "i:9\n",
            "(6980, 3)\n",
            "num_to_unpack:349\n",
            "start_idx:0\n",
            "WINDOW_SIZE-i: 11\n",
            "(6960, 3)\n",
            "i:10\n",
            "(6980, 3)\n",
            "num_to_unpack:349\n",
            "start_idx:0\n",
            "WINDOW_SIZE-i: 10\n",
            "(6960, 3)\n",
            "i:11\n",
            "(6980, 3)\n",
            "num_to_unpack:349\n",
            "start_idx:0\n",
            "WINDOW_SIZE-i: 9\n",
            "(6960, 3)\n",
            "i:12\n",
            "(6980, 3)\n",
            "num_to_unpack:349\n",
            "start_idx:0\n",
            "WINDOW_SIZE-i: 8\n",
            "(6960, 3)\n",
            "i:13\n",
            "(6980, 3)\n",
            "num_to_unpack:349\n",
            "start_idx:0\n",
            "WINDOW_SIZE-i: 7\n",
            "(6960, 3)\n",
            "i:14\n",
            "(6980, 3)\n",
            "num_to_unpack:349\n",
            "start_idx:0\n",
            "WINDOW_SIZE-i: 6\n",
            "(6960, 3)\n",
            "i:15\n",
            "(6980, 3)\n",
            "num_to_unpack:349\n",
            "start_idx:0\n",
            "WINDOW_SIZE-i: 5\n",
            "(6960, 3)\n",
            "i:16\n",
            "(6980, 3)\n",
            "num_to_unpack:349\n",
            "start_idx:0\n",
            "WINDOW_SIZE-i: 4\n",
            "(6960, 3)\n",
            "i:17\n",
            "(6980, 3)\n",
            "num_to_unpack:349\n",
            "start_idx:0\n",
            "WINDOW_SIZE-i: 3\n",
            "(6960, 3)\n",
            "i:18\n",
            "(6980, 3)\n",
            "num_to_unpack:349\n",
            "start_idx:0\n",
            "WINDOW_SIZE-i: 2\n",
            "(6960, 3)\n",
            "i:19\n",
            "(6980, 3)\n",
            "num_to_unpack:349\n",
            "start_idx:0\n",
            "WINDOW_SIZE-i: 1\n",
            "(6960, 3)\n",
            "Epoch: 0   Training loss: 3201.01   Testing loss 13.33:\n"
          ]
        }
      ]
    },
    {
      "cell_type": "code",
      "source": [
        "test_df.shape"
      ],
      "metadata": {
        "colab": {
          "base_uri": "https://localhost:8080/"
        },
        "id": "8vstNEvVwM9M",
        "outputId": "f7ac4eb4-ce75-4645-ec1e-10809eefb156"
      },
      "execution_count": null,
      "outputs": [
        {
          "output_type": "execute_result",
          "data": {
            "text/plain": [
              "(558, 11)"
            ]
          },
          "metadata": {},
          "execution_count": 70
        }
      ]
    },
    {
      "cell_type": "code",
      "source": [
        "test_df.shape[0]/20"
      ],
      "metadata": {
        "colab": {
          "base_uri": "https://localhost:8080/"
        },
        "id": "vwTKqdSnwQ5F",
        "outputId": "e3c861f6-ff33-4da7-b94d-d2bfd9de3b6a"
      },
      "execution_count": null,
      "outputs": [
        {
          "output_type": "execute_result",
          "data": {
            "text/plain": [
              "27.9"
            ]
          },
          "metadata": {},
          "execution_count": 81
        }
      ]
    },
    {
      "cell_type": "code",
      "source": [
        "plt.plot(Y_dict[EPOCHS - 1])\n",
        "plt.plot(y_hat_dict[EPOCHS - 1], 'r')\n",
        "plt.title('Out of sample performance')\n",
        "plt.show()"
      ],
      "metadata": {
        "id": "RFn07aqCaU3T",
        "colab": {
          "base_uri": "https://localhost:8080/",
          "height": 281
        },
        "outputId": "d554637c-fa5e-418a-8716-84fc6de122e0"
      },
      "execution_count": null,
      "outputs": [
        {
          "output_type": "display_data",
          "data": {
            "text/plain": [
              "<Figure size 432x288 with 1 Axes>"
            ],
            "image/png": "[encoded data removed]"
          },
          "metadata": {
            "needs_background": "light"
          }
        }
      ]
    },
    {
      "cell_type": "code",
      "source": [
        "plt.plot(in_sample_Y_dict[EPOCHS - 1])\n",
        "plt.plot(in_sample_y_hat_dict[EPOCHS - 1], 'r')\n",
        "plt.title('In sample performance')\n",
        "plt.show()"
      ],
      "metadata": {
        "colab": {
          "base_uri": "https://localhost:8080/",
          "height": 281
        },
        "id": "zHjhl2UXSJzN",
        "outputId": "183d8da6-c6c4-493a-e5b8-b97fdcb166d2"
      },
      "execution_count": null,
      "outputs": [
        {
          "output_type": "display_data",
          "data": {
            "text/plain": [
              "<Figure size 432x288 with 1 Axes>"
            ],
            "image/png": "[encoded data removed]"
          },
          "metadata": {
            "needs_background": "light"
          }
        }
      ]
    },
    {
      "cell_type": "code",
      "source": [
        "pearsonr(Y_dict[EPOCHS - 1], y_hat_dict[EPOCHS - 1])"
      ],
      "metadata": {
        "colab": {
          "base_uri": "https://localhost:8080/"
        },
        "id": "EaS3TwYISiRQ",
        "outputId": "2d724777-3a72-401c-efb7-78518b26a4d9"
      },
      "execution_count": null,
      "outputs": [
        {
          "output_type": "execute_result",
          "data": {
            "text/plain": [
              "(0.06541548682976393, 0.7508714712547568)"
            ]
          },
          "metadata": {},
          "execution_count": 73
        }
      ]
    },
    {
      "cell_type": "code",
      "source": [
        "pearsonr(in_sample_Y_dict[EPOCHS - 1], in_sample_y_hat_dict[EPOCHS - 1])"
      ],
      "metadata": {
        "colab": {
          "base_uri": "https://localhost:8080/"
        },
        "id": "FODtmziLSs-v",
        "outputId": "ed289b52-a92c-455f-a81e-e51f5101de6d"
      },
      "execution_count": null,
      "outputs": [
        {
          "output_type": "execute_result",
          "data": {
            "text/plain": [
              "(0.010423770971918031, 0.9353771378422817)"
            ]
          },
          "metadata": {},
          "execution_count": 74
        }
      ]
    },
    {
      "cell_type": "code",
      "source": [
        "spearmanr(Y_dict[EPOCHS - 1], y_hat_dict[EPOCHS - 1])"
      ],
      "metadata": {
        "colab": {
          "base_uri": "https://localhost:8080/"
        },
        "id": "B0w6W1vWSwgk",
        "outputId": "80fcf387-41a2-4811-83eb-e9f88d73c596"
      },
      "execution_count": null,
      "outputs": [
        {
          "output_type": "execute_result",
          "data": {
            "text/plain": [
              "SpearmanrResult(correlation=-0.23965811965811962, pvalue=0.23831737625711377)"
            ]
          },
          "metadata": {},
          "execution_count": 75
        }
      ]
    },
    {
      "cell_type": "code",
      "source": [
        "spearmanr(in_sample_Y_dict[EPOCHS - 1], in_sample_y_hat_dict[EPOCHS - 1])"
      ],
      "metadata": {
        "colab": {
          "base_uri": "https://localhost:8080/"
        },
        "id": "BiabhZ3cSzWP",
        "outputId": "9684dcee-1a51-42e4-e8da-33578efc336f"
      },
      "execution_count": null,
      "outputs": [
        {
          "output_type": "execute_result",
          "data": {
            "text/plain": [
              "SpearmanrResult(correlation=-0.048147081413210446, pvalue=0.7078684122401119)"
            ]
          },
          "metadata": {},
          "execution_count": 76
        }
      ]
    },
    {
      "cell_type": "code",
      "source": [
        "Y_dict[9]"
      ],
      "metadata": {
        "colab": {
          "base_uri": "https://localhost:8080/"
        },
        "id": "i8kjh2XqxkwQ",
        "outputId": "a3711e7d-56a3-4748-acb3-4dc2e71badc6"
      },
      "execution_count": null,
      "outputs": [
        {
          "output_type": "execute_result",
          "data": {
            "text/plain": [
              "array([ 0.24026073,  1.05686496, -2.98071546, -0.06238862,  1.75398573,\n",
              "       -0.51044935, -0.8499937 ,  1.26578459, -1.76913153,  0.90195343,\n",
              "       -0.42306792, -0.38944866, -1.16469003, -0.91517446,  0.41451642,\n",
              "        0.21365333, -0.75671554, -0.53219442,  1.54157984,  0.2050859 ,\n",
              "        0.65725016, -0.48571971, -0.37812007, -0.13105888, -0.16870818,\n",
              "        0.40279633])"
            ]
          },
          "metadata": {},
          "execution_count": 83
        }
      ]
    },
    {
      "cell_type": "code",
      "source": [
        "y_hat_dict[9]"
      ],
      "metadata": {
        "id": "r92GjPXUxuqn",
        "outputId": "89c56439-bff2-4686-8dd7-ef68cd76148c",
        "colab": {
          "base_uri": "https://localhost:8080/"
        }
      },
      "execution_count": null,
      "outputs": [
        {
          "output_type": "execute_result",
          "data": {
            "text/plain": [
              "array([-0.0447878 ,  0.03221688, -0.03833469,  0.00913907,  0.01259683,\n",
              "        0.03615915,  0.03462373, -0.00243666,  0.04143857,  0.01203221,\n",
              "        0.032295  , -0.01125792,  0.01667314,  0.02671687,  0.00861971,\n",
              "        0.01619226,  0.02435263,  0.02264171,  0.02379264,  0.0233735 ,\n",
              "        0.03133363,  0.00863563, -0.00292461,  0.00521183,  0.02366586,\n",
              "       -0.04200389], dtype=float32)"
            ]
          },
          "metadata": {},
          "execution_count": 85
        }
      ]
    },
    {
      "cell_type": "code",
      "source": [
        "plt.plot(Y_dict[EPOCHS - 1])\n",
        "plt.plot(y_hat_dict[EPOCHS - 1] * 10, 'r')\n",
        "plt.title('Rescaled out of sample performance')\n",
        "plt.show()"
      ],
      "metadata": {
        "colab": {
          "base_uri": "https://localhost:8080/",
          "height": 281
        },
        "id": "okEKDv9YS3y-",
        "outputId": "4094f45e-76a7-4cdc-8a8e-8c0c0d84dc88"
      },
      "execution_count": null,
      "outputs": [
        {
          "output_type": "display_data",
          "data": {
            "text/plain": [
              "<Figure size 432x288 with 1 Axes>"
            ],
            "image/png": "[encoded data removed]"
          },
          "metadata": {
            "needs_background": "light"
          }
        }
      ]
    },
    {
      "cell_type": "code",
      "source": [
        "plt.plot(in_sample_Y_dict[EPOCHS - 1])\n",
        "plt.plot(in_sample_y_hat_dict[EPOCHS - 1] * 10, 'r')\n",
        "plt.title('Rescaled in sample performance')\n",
        "plt.show()"
      ],
      "metadata": {
        "colab": {
          "base_uri": "https://localhost:8080/",
          "height": 281
        },
        "id": "eb6EyPGBS7ov",
        "outputId": "aac75a65-c22f-4f64-f102-17b2b6448de3"
      },
      "execution_count": null,
      "outputs": [
        {
          "output_type": "display_data",
          "data": {
            "text/plain": [
              "<Figure size 432x288 with 1 Axes>"
            ],
            "image/png": "[encoded data removed]"
          },
          "metadata": {
            "needs_background": "light"
          }
        }
      ]
    },
    {
      "cell_type": "code",
      "source": [
        "plt.plot(Y_dict[EPOCHS - 1], y_hat_dict[EPOCHS - 1] * 10, linestyle=\"\", marker=\"o\")\n"
      ],
      "metadata": {
        "colab": {
          "base_uri": "https://localhost:8080/",
          "height": 283
        },
        "id": "-wLJadsQS_B6",
        "outputId": "bacbdd93-df0e-4ddb-a0e9-9c10d55c257a"
      },
      "execution_count": null,
      "outputs": [
        {
          "output_type": "execute_result",
          "data": {
            "text/plain": [
              "[<matplotlib.lines.Line2D at 0x7f90efbb0d50>]"
            ]
          },
          "metadata": {},
          "execution_count": 28
        },
        {
          "output_type": "display_data",
          "data": {
            "text/plain": [
              "<Figure size 432x288 with 1 Axes>"
            ],
            "image/png": "[encoded data removed]"
          },
          "metadata": {
            "needs_background": "light"
          }
        }
      ]
    },
    {
      "cell_type": "code",
      "source": [
        "plt.plot(Y_dict[EPOCHS-1][:100])\n",
        "plt.plot(y_hat_dict[EPOCHS-1][:100] * 50, 'r--')\n",
        "plt.show()"
      ],
      "metadata": {
        "colab": {
          "base_uri": "https://localhost:8080/",
          "height": 265
        },
        "id": "vUvvWl1rTQsl",
        "outputId": "885a40b2-2570-475f-f309-df02baf457c7"
      },
      "execution_count": null,
      "outputs": [
        {
          "output_type": "display_data",
          "data": {
            "text/plain": [
              "<Figure size 432x288 with 1 Axes>"
            ],
            "image/png": "[encoded data removed]"
          },
          "metadata": {
            "needs_background": "light"
          }
        }
      ]
    },
    {
      "cell_type": "code",
      "source": [
        "X.shape[0]"
      ],
      "metadata": {
        "colab": {
          "base_uri": "https://localhost:8080/"
        },
        "id": "Hr5pXr6lTkAI",
        "outputId": "e016e09c-40c9-418a-f684-ca5e80210f12"
      },
      "execution_count": null,
      "outputs": [
        {
          "output_type": "execute_result",
          "data": {
            "text/plain": [
              "20"
            ]
          },
          "metadata": {},
          "execution_count": 30
        }
      ]
    },
    {
      "cell_type": "code",
      "source": [
        "math.ceil(Y.shape[0] / BATCH_SIZE)"
      ],
      "metadata": {
        "colab": {
          "base_uri": "https://localhost:8080/"
        },
        "id": "srUkR7CValQf",
        "outputId": "431001ff-24fc-45d5-d3a1-de168086a3d9"
      },
      "execution_count": null,
      "outputs": [
        {
          "output_type": "execute_result",
          "data": {
            "text/plain": [
              "1"
            ]
          },
          "metadata": {},
          "execution_count": 31
        }
      ]
    },
    {
      "cell_type": "code",
      "source": [
        "Y.shape[0] / BATCH_SIZE"
      ],
      "metadata": {
        "colab": {
          "base_uri": "https://localhost:8080/"
        },
        "id": "gMh1nPI6atTM",
        "outputId": "7e012446-a0d6-4bef-e95a-1d151e37a494"
      },
      "execution_count": null,
      "outputs": [
        {
          "output_type": "execute_result",
          "data": {
            "text/plain": [
              "0.40625"
            ]
          },
          "metadata": {},
          "execution_count": 32
        }
      ]
    },
    {
      "cell_type": "code",
      "source": [],
      "metadata": {
        "id": "SUvdcv8bawrt"
      },
      "execution_count": null,
      "outputs": []
    }
  ]
}